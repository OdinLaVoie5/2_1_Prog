{
 "cells": [
  {
   "cell_type": "code",
   "execution_count": 1,
   "metadata": {},
   "outputs": [
    {
     "data": {
      "text/html": [
       "\n",
       "      <svg width=\"800\" height=\"500\">\n",
       "        <rect width=\"100%\" height=\"100%\" fill=\"black\"/>\n",
       "        <line x1=\"400\" y1=\"250\" x2=\"400.0\" y2=\"100.0\" stroke-linecap=\"round\" style=\"stroke:white;stroke-width:4\"/><line x1=\"400.0\" y1=\"100.0\" x2=\"685.317\" y2=\"7.295\" stroke-linecap=\"round\" style=\"stroke:white;stroke-width:4\"/><line x1=\"685.317\" y1=\"7.295\" x2=\"802.874\" y2=\"169.098\" stroke-linecap=\"round\" style=\"stroke:white;stroke-width:4\"/><line x1=\"802.874\" y1=\"169.098\" x2=\"597.149\" y2=\"452.254\" stroke-linecap=\"round\" style=\"stroke:white;stroke-width:4\"/><line x1=\"597.149\" y1=\"452.254\" x2=\"359.385\" y2=\"375.0\" stroke-linecap=\"round\" style=\"stroke:white;stroke-width:4\"/>\n",
       "        <g visibility=visible transform=\"rotate(360.0,359.385,375.0) translate(341.385, 357.0)\">\n",
       "<path style=\" stroke:none;fill-rule:evenodd;fill:white;fill-opacity:1;\" d=\"M 18.214844 0.632812 C 16.109375 1.800781 15.011719 4.074219 15.074219 7.132812 L 15.085938 7.652344 L 14.785156 7.496094 C 13.476562 6.824219 11.957031 6.671875 10.40625 7.066406 C 8.46875 7.550781 6.515625 9.15625 4.394531 11.992188 C 3.0625 13.777344 2.679688 14.636719 3.042969 15.027344 L 3.15625 15.152344 L 3.519531 15.152344 C 4.238281 15.152344 4.828125 14.886719 8.1875 13.039062 C 9.386719 12.378906 10.371094 11.839844 10.378906 11.839844 C 10.386719 11.839844 10.355469 11.929688 10.304688 12.035156 C 9.832031 13.09375 9.257812 14.820312 8.96875 16.078125 C 7.914062 20.652344 8.617188 24.53125 11.070312 27.660156 C 11.351562 28.015625 11.363281 27.914062 10.972656 28.382812 C 8.925781 30.84375 7.945312 33.28125 8.238281 35.1875 C 8.289062 35.527344 8.28125 35.523438 8.917969 35.523438 C 10.941406 35.523438 13.074219 34.207031 15.136719 31.6875 C 15.359375 31.417969 15.328125 31.425781 15.5625 31.574219 C 16.292969 32.042969 18.023438 32.964844 18.175781 32.964844 C 18.335938 32.964844 19.941406 32.210938 20.828125 31.71875 C 20.996094 31.625 21.136719 31.554688 21.136719 31.558594 C 21.203125 31.664062 21.898438 32.414062 22.222656 32.730469 C 23.835938 34.300781 25.5625 35.132812 27.582031 35.300781 C 27.90625 35.328125 27.9375 35.308594 28.007812 34.984375 C 28.382812 33.242188 27.625 30.925781 25.863281 28.425781 L 25.542969 27.96875 L 25.699219 27.785156 C 28.945312 23.960938 29.132812 18.699219 26.257812 11.96875 L 26.207031 11.84375 L 27.945312 12.703125 C 31.53125 14.476562 32.316406 14.800781 33.03125 14.800781 C 33.976562 14.800781 33.78125 13.9375 32.472656 12.292969 C 28.519531 7.355469 25.394531 5.925781 21.921875 7.472656 L 21.558594 7.636719 L 21.578125 7.542969 C 21.699219 6.992188 21.761719 5.742188 21.699219 5.164062 C 21.496094 3.296875 20.664062 1.964844 19.003906 0.855469 C 18.480469 0.503906 18.457031 0.5 18.214844 0.632812\"/>\n",
       "</g>\n",
       "      </svg>\n",
       "    "
      ],
      "text/plain": [
       "<IPython.core.display.HTML object>"
      ]
     },
     "metadata": {},
     "output_type": "display_data"
    }
   ],
   "source": [
    "from ColabTurtle.Turtle import *\n",
    "\n",
    "initializeTurtle()\n",
    "for i in 1,4,2,5,3:\n",
    "    forward(100+i*50)      \n",
    "    right(360/5)  \n"
   ]
  },
  {
   "cell_type": "code",
   "execution_count": 2,
   "metadata": {},
   "outputs": [],
   "source": [
    "def init(x0=200, y0=200, sp=10):\n",
    "    initializeTurtle()\n",
    "    speed(sp)\n",
    "    penup()\n",
    "    goto(x0, y0)\n",
    "    pendown()\n"
   ]
  },
  {
   "cell_type": "code",
   "execution_count": 3,
   "metadata": {},
   "outputs": [
    {
     "data": {
      "text/html": [
       "\n",
       "      <svg width=\"800\" height=\"500\">\n",
       "        <rect width=\"100%\" height=\"100%\" fill=\"black\"/>\n",
       "        <line x1=\"50\" y1=\"200\" x2=\"50.0\" y2=\"100.0\" stroke-linecap=\"round\" style=\"stroke:white;stroke-width:4\"/><line x1=\"50.0\" y1=\"100.0\" x2=\"128.183\" y2=\"37.651\" stroke-linecap=\"round\" style=\"stroke:white;stroke-width:4\"/><line x1=\"128.183\" y1=\"37.651\" x2=\"225.676\" y2=\"59.903\" stroke-linecap=\"round\" style=\"stroke:white;stroke-width:4\"/><line x1=\"225.676\" y1=\"59.903\" x2=\"269.064\" y2=\"150.0\" stroke-linecap=\"round\" style=\"stroke:white;stroke-width:4\"/><line x1=\"269.064\" y1=\"150.0\" x2=\"225.676\" y2=\"240.097\" stroke-linecap=\"round\" style=\"stroke:white;stroke-width:4\"/><line x1=\"225.676\" y1=\"240.097\" x2=\"128.183\" y2=\"262.349\" stroke-linecap=\"round\" style=\"stroke:white;stroke-width:4\"/><line x1=\"128.183\" y1=\"262.349\" x2=\"50.0\" y2=\"200.0\" stroke-linecap=\"round\" style=\"stroke:white;stroke-width:4\"/>\n",
       "        <g visibility=visible transform=\"rotate(360.00000000000006,50.0,200.0) translate(32.0, 182.0)\">\n",
       "<path style=\" stroke:none;fill-rule:evenodd;fill:white;fill-opacity:1;\" d=\"M 18.214844 0.632812 C 16.109375 1.800781 15.011719 4.074219 15.074219 7.132812 L 15.085938 7.652344 L 14.785156 7.496094 C 13.476562 6.824219 11.957031 6.671875 10.40625 7.066406 C 8.46875 7.550781 6.515625 9.15625 4.394531 11.992188 C 3.0625 13.777344 2.679688 14.636719 3.042969 15.027344 L 3.15625 15.152344 L 3.519531 15.152344 C 4.238281 15.152344 4.828125 14.886719 8.1875 13.039062 C 9.386719 12.378906 10.371094 11.839844 10.378906 11.839844 C 10.386719 11.839844 10.355469 11.929688 10.304688 12.035156 C 9.832031 13.09375 9.257812 14.820312 8.96875 16.078125 C 7.914062 20.652344 8.617188 24.53125 11.070312 27.660156 C 11.351562 28.015625 11.363281 27.914062 10.972656 28.382812 C 8.925781 30.84375 7.945312 33.28125 8.238281 35.1875 C 8.289062 35.527344 8.28125 35.523438 8.917969 35.523438 C 10.941406 35.523438 13.074219 34.207031 15.136719 31.6875 C 15.359375 31.417969 15.328125 31.425781 15.5625 31.574219 C 16.292969 32.042969 18.023438 32.964844 18.175781 32.964844 C 18.335938 32.964844 19.941406 32.210938 20.828125 31.71875 C 20.996094 31.625 21.136719 31.554688 21.136719 31.558594 C 21.203125 31.664062 21.898438 32.414062 22.222656 32.730469 C 23.835938 34.300781 25.5625 35.132812 27.582031 35.300781 C 27.90625 35.328125 27.9375 35.308594 28.007812 34.984375 C 28.382812 33.242188 27.625 30.925781 25.863281 28.425781 L 25.542969 27.96875 L 25.699219 27.785156 C 28.945312 23.960938 29.132812 18.699219 26.257812 11.96875 L 26.207031 11.84375 L 27.945312 12.703125 C 31.53125 14.476562 32.316406 14.800781 33.03125 14.800781 C 33.976562 14.800781 33.78125 13.9375 32.472656 12.292969 C 28.519531 7.355469 25.394531 5.925781 21.921875 7.472656 L 21.558594 7.636719 L 21.578125 7.542969 C 21.699219 6.992188 21.761719 5.742188 21.699219 5.164062 C 21.496094 3.296875 20.664062 1.964844 19.003906 0.855469 C 18.480469 0.503906 18.457031 0.5 18.214844 0.632812\"/>\n",
       "</g>\n",
       "      </svg>\n",
       "    "
      ],
      "text/plain": [
       "<IPython.core.display.HTML object>"
      ]
     },
     "metadata": {},
     "output_type": "display_data"
    }
   ],
   "source": [
    "init(50, 200)\n",
    "edges = 7\n",
    "for i in range(edges):\n",
    "    forward(100)      \n",
    "    right(360/edges)  \n"
   ]
  },
  {
   "cell_type": "code",
   "execution_count": 4,
   "metadata": {},
   "outputs": [
    {
     "data": {
      "text/html": [
       "\n",
       "      <svg width=\"800\" height=\"500\">\n",
       "        <rect width=\"100%\" height=\"100%\" fill=\"black\"/>\n",
       "        <line x1=\"150\" y1=\"250\" x2=\"150.0\" y2=\"150.0\" stroke-linecap=\"round\" style=\"stroke:white;stroke-width:4\"/><line x1=\"150.0\" y1=\"150.0\" x2=\"245.106\" y2=\"119.098\" stroke-linecap=\"round\" style=\"stroke:white;stroke-width:4\"/><line x1=\"245.106\" y1=\"119.098\" x2=\"303.885\" y2=\"200.0\" stroke-linecap=\"round\" style=\"stroke:white;stroke-width:4\"/><line x1=\"303.885\" y1=\"200.0\" x2=\"245.106\" y2=\"280.902\" stroke-linecap=\"round\" style=\"stroke:white;stroke-width:4\"/><line x1=\"245.106\" y1=\"280.902\" x2=\"150.0\" y2=\"250.0\" stroke-linecap=\"round\" style=\"stroke:white;stroke-width:4\"/>\n",
       "        <g visibility=visible transform=\"rotate(360.0,150.0,250.0) translate(132.0, 232.0)\">\n",
       "<path style=\" stroke:none;fill-rule:evenodd;fill:white;fill-opacity:1;\" d=\"M 18.214844 0.632812 C 16.109375 1.800781 15.011719 4.074219 15.074219 7.132812 L 15.085938 7.652344 L 14.785156 7.496094 C 13.476562 6.824219 11.957031 6.671875 10.40625 7.066406 C 8.46875 7.550781 6.515625 9.15625 4.394531 11.992188 C 3.0625 13.777344 2.679688 14.636719 3.042969 15.027344 L 3.15625 15.152344 L 3.519531 15.152344 C 4.238281 15.152344 4.828125 14.886719 8.1875 13.039062 C 9.386719 12.378906 10.371094 11.839844 10.378906 11.839844 C 10.386719 11.839844 10.355469 11.929688 10.304688 12.035156 C 9.832031 13.09375 9.257812 14.820312 8.96875 16.078125 C 7.914062 20.652344 8.617188 24.53125 11.070312 27.660156 C 11.351562 28.015625 11.363281 27.914062 10.972656 28.382812 C 8.925781 30.84375 7.945312 33.28125 8.238281 35.1875 C 8.289062 35.527344 8.28125 35.523438 8.917969 35.523438 C 10.941406 35.523438 13.074219 34.207031 15.136719 31.6875 C 15.359375 31.417969 15.328125 31.425781 15.5625 31.574219 C 16.292969 32.042969 18.023438 32.964844 18.175781 32.964844 C 18.335938 32.964844 19.941406 32.210938 20.828125 31.71875 C 20.996094 31.625 21.136719 31.554688 21.136719 31.558594 C 21.203125 31.664062 21.898438 32.414062 22.222656 32.730469 C 23.835938 34.300781 25.5625 35.132812 27.582031 35.300781 C 27.90625 35.328125 27.9375 35.308594 28.007812 34.984375 C 28.382812 33.242188 27.625 30.925781 25.863281 28.425781 L 25.542969 27.96875 L 25.699219 27.785156 C 28.945312 23.960938 29.132812 18.699219 26.257812 11.96875 L 26.207031 11.84375 L 27.945312 12.703125 C 31.53125 14.476562 32.316406 14.800781 33.03125 14.800781 C 33.976562 14.800781 33.78125 13.9375 32.472656 12.292969 C 28.519531 7.355469 25.394531 5.925781 21.921875 7.472656 L 21.558594 7.636719 L 21.578125 7.542969 C 21.699219 6.992188 21.761719 5.742188 21.699219 5.164062 C 21.496094 3.296875 20.664062 1.964844 19.003906 0.855469 C 18.480469 0.503906 18.457031 0.5 18.214844 0.632812\"/>\n",
       "</g>\n",
       "      </svg>\n",
       "    "
      ],
      "text/plain": [
       "<IPython.core.display.HTML object>"
      ]
     },
     "metadata": {},
     "output_type": "display_data"
    }
   ],
   "source": [
    "init(150, 250)\n",
    "edges = 5\n",
    "for i in range(edges):\n",
    "    forward(100)      \n",
    "    right(360/edges)  \n"
   ]
  },
  {
   "cell_type": "code",
   "execution_count": 5,
   "metadata": {},
   "outputs": [],
   "source": [
    "def star (edges=5, edges1=3, length=50):\n",
    "    for i in range(edges):\n",
    "        forward(length)      \n",
    "        for i in range(edges1):\n",
    "            left(360/edges1)         \n",
    "            forward(length)      \n",
    "        right(360/edges)  \n"
   ]
  },
  {
   "cell_type": "code",
   "execution_count": 6,
   "metadata": {},
   "outputs": [
    {
     "data": {
      "text/html": [
       "\n",
       "      <svg width=\"800\" height=\"500\">\n",
       "        <rect width=\"100%\" height=\"100%\" fill=\"black\"/>\n",
       "        <line x1=\"200\" y1=\"200\" x2=\"200.0\" y2=\"150.0\" stroke-linecap=\"round\" style=\"stroke:white;stroke-width:4\"/><line x1=\"200.0\" y1=\"150.0\" x2=\"160.908\" y2=\"118.826\" stroke-linecap=\"round\" style=\"stroke:white;stroke-width:4\"/><line x1=\"160.908\" y1=\"118.826\" x2=\"112.162\" y2=\"129.952\" stroke-linecap=\"round\" style=\"stroke:white;stroke-width:4\"/><line x1=\"112.162\" y1=\"129.952\" x2=\"90.468\" y2=\"175.0\" stroke-linecap=\"round\" style=\"stroke:white;stroke-width:4\"/><line x1=\"90.468\" y1=\"175.0\" x2=\"112.162\" y2=\"220.048\" stroke-linecap=\"round\" style=\"stroke:white;stroke-width:4\"/><line x1=\"112.162\" y1=\"220.048\" x2=\"160.908\" y2=\"231.174\" stroke-linecap=\"round\" style=\"stroke:white;stroke-width:4\"/><line x1=\"160.908\" y1=\"231.174\" x2=\"200.0\" y2=\"200.0\" stroke-linecap=\"round\" style=\"stroke:white;stroke-width:4\"/><line x1=\"200.0\" y1=\"200.0\" x2=\"200.0\" y2=\"150.0\" stroke-linecap=\"round\" style=\"stroke:white;stroke-width:4\"/><line x1=\"200.0\" y1=\"150.0\" x2=\"243.301\" y2=\"175.0\" stroke-linecap=\"round\" style=\"stroke:white;stroke-width:4\"/><line x1=\"243.301\" y1=\"175.0\" x2=\"289.845\" y2=\"156.733\" stroke-linecap=\"round\" style=\"stroke:white;stroke-width:4\"/><line x1=\"289.845\" y1=\"156.733\" x2=\"304.583\" y2=\"108.954\" stroke-linecap=\"round\" style=\"stroke:white;stroke-width:4\"/><line x1=\"304.583\" y1=\"108.954\" x2=\"276.417\" y2=\"67.642\" stroke-linecap=\"round\" style=\"stroke:white;stroke-width:4\"/><line x1=\"276.417\" y1=\"67.642\" x2=\"226.557\" y2=\"63.905\" stroke-linecap=\"round\" style=\"stroke:white;stroke-width:4\"/><line x1=\"226.557\" y1=\"63.905\" x2=\"192.548\" y2=\"100.558\" stroke-linecap=\"round\" style=\"stroke:white;stroke-width:4\"/><line x1=\"192.548\" y1=\"100.558\" x2=\"200.0\" y2=\"150.0\" stroke-linecap=\"round\" style=\"stroke:white;stroke-width:4\"/><line x1=\"200.0\" y1=\"150.0\" x2=\"243.301\" y2=\"175.0\" stroke-linecap=\"round\" style=\"stroke:white;stroke-width:4\"/><line x1=\"243.301\" y1=\"175.0\" x2=\"200.0\" y2=\"200.0\" stroke-linecap=\"round\" style=\"stroke:white;stroke-width:4\"/><line x1=\"200.0\" y1=\"200.0\" x2=\"192.548\" y2=\"249.442\" stroke-linecap=\"round\" style=\"stroke:white;stroke-width:4\"/><line x1=\"192.548\" y1=\"249.442\" x2=\"226.557\" y2=\"286.095\" stroke-linecap=\"round\" style=\"stroke:white;stroke-width:4\"/><line x1=\"226.557\" y1=\"286.095\" x2=\"276.417\" y2=\"282.358\" stroke-linecap=\"round\" style=\"stroke:white;stroke-width:4\"/><line x1=\"276.417\" y1=\"282.358\" x2=\"304.583\" y2=\"241.046\" stroke-linecap=\"round\" style=\"stroke:white;stroke-width:4\"/><line x1=\"304.583\" y1=\"241.046\" x2=\"289.845\" y2=\"193.267\" stroke-linecap=\"round\" style=\"stroke:white;stroke-width:4\"/><line x1=\"289.845\" y1=\"193.267\" x2=\"243.301\" y2=\"175.0\" stroke-linecap=\"round\" style=\"stroke:white;stroke-width:4\"/><line x1=\"243.301\" y1=\"175.0\" x2=\"200.0\" y2=\"200.0\" stroke-linecap=\"round\" style=\"stroke:white;stroke-width:4\"/>\n",
       "        <g visibility=visible transform=\"rotate(359.9999999999998,200.0,200.0) translate(182.0, 182.0)\">\n",
       "<path style=\" stroke:none;fill-rule:evenodd;fill:white;fill-opacity:1;\" d=\"M 18.214844 0.632812 C 16.109375 1.800781 15.011719 4.074219 15.074219 7.132812 L 15.085938 7.652344 L 14.785156 7.496094 C 13.476562 6.824219 11.957031 6.671875 10.40625 7.066406 C 8.46875 7.550781 6.515625 9.15625 4.394531 11.992188 C 3.0625 13.777344 2.679688 14.636719 3.042969 15.027344 L 3.15625 15.152344 L 3.519531 15.152344 C 4.238281 15.152344 4.828125 14.886719 8.1875 13.039062 C 9.386719 12.378906 10.371094 11.839844 10.378906 11.839844 C 10.386719 11.839844 10.355469 11.929688 10.304688 12.035156 C 9.832031 13.09375 9.257812 14.820312 8.96875 16.078125 C 7.914062 20.652344 8.617188 24.53125 11.070312 27.660156 C 11.351562 28.015625 11.363281 27.914062 10.972656 28.382812 C 8.925781 30.84375 7.945312 33.28125 8.238281 35.1875 C 8.289062 35.527344 8.28125 35.523438 8.917969 35.523438 C 10.941406 35.523438 13.074219 34.207031 15.136719 31.6875 C 15.359375 31.417969 15.328125 31.425781 15.5625 31.574219 C 16.292969 32.042969 18.023438 32.964844 18.175781 32.964844 C 18.335938 32.964844 19.941406 32.210938 20.828125 31.71875 C 20.996094 31.625 21.136719 31.554688 21.136719 31.558594 C 21.203125 31.664062 21.898438 32.414062 22.222656 32.730469 C 23.835938 34.300781 25.5625 35.132812 27.582031 35.300781 C 27.90625 35.328125 27.9375 35.308594 28.007812 34.984375 C 28.382812 33.242188 27.625 30.925781 25.863281 28.425781 L 25.542969 27.96875 L 25.699219 27.785156 C 28.945312 23.960938 29.132812 18.699219 26.257812 11.96875 L 26.207031 11.84375 L 27.945312 12.703125 C 31.53125 14.476562 32.316406 14.800781 33.03125 14.800781 C 33.976562 14.800781 33.78125 13.9375 32.472656 12.292969 C 28.519531 7.355469 25.394531 5.925781 21.921875 7.472656 L 21.558594 7.636719 L 21.578125 7.542969 C 21.699219 6.992188 21.761719 5.742188 21.699219 5.164062 C 21.496094 3.296875 20.664062 1.964844 19.003906 0.855469 C 18.480469 0.503906 18.457031 0.5 18.214844 0.632812\"/>\n",
       "</g>\n",
       "      </svg>\n",
       "    "
      ],
      "text/plain": [
       "<IPython.core.display.HTML object>"
      ]
     },
     "metadata": {},
     "output_type": "display_data"
    }
   ],
   "source": [
    "init(200,200)\n",
    "star(3,7)\n"
   ]
  },
  {
   "cell_type": "code",
   "execution_count": 7,
   "metadata": {},
   "outputs": [
    {
     "data": {
      "text/html": [
       "\n",
       "      <svg width=\"800\" height=\"500\">\n",
       "        <rect width=\"100%\" height=\"100%\" fill=\"black\"/>\n",
       "        <line x1=\"200\" y1=\"200\" x2=\"200.0\" y2=\"150.0\" stroke-linecap=\"round\" style=\"stroke:white;stroke-width:4\"/><line x1=\"200.0\" y1=\"150.0\" x2=\"156.699\" y2=\"175.0\" stroke-linecap=\"round\" style=\"stroke:white;stroke-width:4\"/><line x1=\"156.699\" y1=\"175.0\" x2=\"200.0\" y2=\"200.0\" stroke-linecap=\"round\" style=\"stroke:white;stroke-width:4\"/><line x1=\"200.0\" y1=\"200.0\" x2=\"200.0\" y2=\"150.0\" stroke-linecap=\"round\" style=\"stroke:white;stroke-width:4\"/><line x1=\"200.0\" y1=\"150.0\" x2=\"247.553\" y2=\"134.549\" stroke-linecap=\"round\" style=\"stroke:white;stroke-width:4\"/><line x1=\"247.553\" y1=\"134.549\" x2=\"210.396\" y2=\"101.092\" stroke-linecap=\"round\" style=\"stroke:white;stroke-width:4\"/><line x1=\"210.396\" y1=\"101.092\" x2=\"200.0\" y2=\"149.999\" stroke-linecap=\"round\" style=\"stroke:white;stroke-width:4\"/><line x1=\"200.0\" y1=\"149.999\" x2=\"247.553\" y2=\"134.548\" stroke-linecap=\"round\" style=\"stroke:white;stroke-width:4\"/><line x1=\"247.553\" y1=\"134.548\" x2=\"276.942\" y2=\"174.999\" stroke-linecap=\"round\" style=\"stroke:white;stroke-width:4\"/><line x1=\"276.942\" y1=\"174.999\" x2=\"297.279\" y2=\"129.322\" stroke-linecap=\"round\" style=\"stroke:white;stroke-width:4\"/><line x1=\"297.279\" y1=\"129.322\" x2=\"247.553\" y2=\"134.548\" stroke-linecap=\"round\" style=\"stroke:white;stroke-width:4\"/><line x1=\"247.553\" y1=\"134.548\" x2=\"276.942\" y2=\"174.999\" stroke-linecap=\"round\" style=\"stroke:white;stroke-width:4\"/><line x1=\"276.942\" y1=\"174.999\" x2=\"247.553\" y2=\"215.45\" stroke-linecap=\"round\" style=\"stroke:white;stroke-width:4\"/><line x1=\"247.553\" y1=\"215.45\" x2=\"297.279\" y2=\"220.676\" stroke-linecap=\"round\" style=\"stroke:white;stroke-width:4\"/><line x1=\"297.279\" y1=\"220.676\" x2=\"276.942\" y2=\"174.999\" stroke-linecap=\"round\" style=\"stroke:white;stroke-width:4\"/><line x1=\"276.942\" y1=\"174.999\" x2=\"247.553\" y2=\"215.45\" stroke-linecap=\"round\" style=\"stroke:white;stroke-width:4\"/><line x1=\"247.553\" y1=\"215.45\" x2=\"200.0\" y2=\"199.999\" stroke-linecap=\"round\" style=\"stroke:white;stroke-width:4\"/><line x1=\"200.0\" y1=\"199.999\" x2=\"210.396\" y2=\"248.906\" stroke-linecap=\"round\" style=\"stroke:white;stroke-width:4\"/><line x1=\"210.396\" y1=\"248.906\" x2=\"247.553\" y2=\"215.449\" stroke-linecap=\"round\" style=\"stroke:white;stroke-width:4\"/><line x1=\"247.553\" y1=\"215.449\" x2=\"200.0\" y2=\"199.998\" stroke-linecap=\"round\" style=\"stroke:white;stroke-width:4\"/>\n",
       "        <g visibility=visible transform=\"rotate(360.0,200.0,199.998) translate(182.0, 181.998)\">\n",
       "<path style=\" stroke:none;fill-rule:evenodd;fill:white;fill-opacity:1;\" d=\"M 18.214844 0.632812 C 16.109375 1.800781 15.011719 4.074219 15.074219 7.132812 L 15.085938 7.652344 L 14.785156 7.496094 C 13.476562 6.824219 11.957031 6.671875 10.40625 7.066406 C 8.46875 7.550781 6.515625 9.15625 4.394531 11.992188 C 3.0625 13.777344 2.679688 14.636719 3.042969 15.027344 L 3.15625 15.152344 L 3.519531 15.152344 C 4.238281 15.152344 4.828125 14.886719 8.1875 13.039062 C 9.386719 12.378906 10.371094 11.839844 10.378906 11.839844 C 10.386719 11.839844 10.355469 11.929688 10.304688 12.035156 C 9.832031 13.09375 9.257812 14.820312 8.96875 16.078125 C 7.914062 20.652344 8.617188 24.53125 11.070312 27.660156 C 11.351562 28.015625 11.363281 27.914062 10.972656 28.382812 C 8.925781 30.84375 7.945312 33.28125 8.238281 35.1875 C 8.289062 35.527344 8.28125 35.523438 8.917969 35.523438 C 10.941406 35.523438 13.074219 34.207031 15.136719 31.6875 C 15.359375 31.417969 15.328125 31.425781 15.5625 31.574219 C 16.292969 32.042969 18.023438 32.964844 18.175781 32.964844 C 18.335938 32.964844 19.941406 32.210938 20.828125 31.71875 C 20.996094 31.625 21.136719 31.554688 21.136719 31.558594 C 21.203125 31.664062 21.898438 32.414062 22.222656 32.730469 C 23.835938 34.300781 25.5625 35.132812 27.582031 35.300781 C 27.90625 35.328125 27.9375 35.308594 28.007812 34.984375 C 28.382812 33.242188 27.625 30.925781 25.863281 28.425781 L 25.542969 27.96875 L 25.699219 27.785156 C 28.945312 23.960938 29.132812 18.699219 26.257812 11.96875 L 26.207031 11.84375 L 27.945312 12.703125 C 31.53125 14.476562 32.316406 14.800781 33.03125 14.800781 C 33.976562 14.800781 33.78125 13.9375 32.472656 12.292969 C 28.519531 7.355469 25.394531 5.925781 21.921875 7.472656 L 21.558594 7.636719 L 21.578125 7.542969 C 21.699219 6.992188 21.761719 5.742188 21.699219 5.164062 C 21.496094 3.296875 20.664062 1.964844 19.003906 0.855469 C 18.480469 0.503906 18.457031 0.5 18.214844 0.632812\"/>\n",
       "</g>\n",
       "      </svg>\n",
       "    "
      ],
      "text/plain": [
       "<IPython.core.display.HTML object>"
      ]
     },
     "metadata": {},
     "output_type": "display_data"
    }
   ],
   "source": [
    "init()\n",
    "star()\n"
   ]
  },
  {
   "cell_type": "code",
   "execution_count": 8,
   "metadata": {},
   "outputs": [],
   "source": [
    "def house (edges=4, edges1=3, length=50):\n",
    "    right(90)\n",
    "    for i in range(edges):\n",
    "        forward(length)      \n",
    "        right(360/edges)  \n",
    "    for i in range(edges1):\n",
    "        forward(length)      \n",
    "        left(360/edges1)  \n",
    "    left(90)       \n"
   ]
  },
  {
   "cell_type": "code",
   "execution_count": 9,
   "metadata": {},
   "outputs": [],
   "source": [
    "def shift(distance=150, ray=90):\n",
    "    penup()\n",
    "    right(ray)\n",
    "    forward(distance)\n",
    "    left(ray)\n",
    "    pendown()\n"
   ]
  },
  {
   "cell_type": "code",
   "execution_count": 10,
   "metadata": {},
   "outputs": [
    {
     "data": {
      "text/html": [
       "\n",
       "      <svg width=\"800\" height=\"500\">\n",
       "        <rect width=\"100%\" height=\"100%\" fill=\"black\"/>\n",
       "        <line x1=\"200\" y1=\"200\" x2=\"270.0\" y2=\"200.0\" stroke-linecap=\"round\" style=\"stroke:white;stroke-width:4\"/><line x1=\"270.0\" y1=\"200.0\" x2=\"270.0\" y2=\"270.0\" stroke-linecap=\"round\" style=\"stroke:white;stroke-width:4\"/><line x1=\"270.0\" y1=\"270.0\" x2=\"200.0\" y2=\"270.0\" stroke-linecap=\"round\" style=\"stroke:white;stroke-width:4\"/><line x1=\"200.0\" y1=\"270.0\" x2=\"200.0\" y2=\"200.0\" stroke-linecap=\"round\" style=\"stroke:white;stroke-width:4\"/><line x1=\"200.0\" y1=\"200.0\" x2=\"270.0\" y2=\"200.0\" stroke-linecap=\"round\" style=\"stroke:white;stroke-width:4\"/><line x1=\"270.0\" y1=\"200.0\" x2=\"291.631\" y2=\"133.426\" stroke-linecap=\"round\" style=\"stroke:white;stroke-width:4\"/><line x1=\"291.631\" y1=\"133.426\" x2=\"235.0\" y2=\"92.281\" stroke-linecap=\"round\" style=\"stroke:white;stroke-width:4\"/><line x1=\"235.0\" y1=\"92.281\" x2=\"178.369\" y2=\"133.426\" stroke-linecap=\"round\" style=\"stroke:white;stroke-width:4\"/><line x1=\"178.369\" y1=\"133.426\" x2=\"200.0\" y2=\"200.0\" stroke-linecap=\"round\" style=\"stroke:white;stroke-width:4\"/><line x1=\"400.0\" y1=\"200.0\" x2=\"400.0\" y2=\"160.0\" stroke-linecap=\"round\" style=\"stroke:white;stroke-width:4\"/><line x1=\"400.0\" y1=\"160.0\" x2=\"365.359\" y2=\"180.0\" stroke-linecap=\"round\" style=\"stroke:white;stroke-width:4\"/><line x1=\"365.359\" y1=\"180.0\" x2=\"400.0\" y2=\"200.0\" stroke-linecap=\"round\" style=\"stroke:white;stroke-width:4\"/><line x1=\"400.0\" y1=\"200.0\" x2=\"400.0\" y2=\"160.0\" stroke-linecap=\"round\" style=\"stroke:white;stroke-width:4\"/><line x1=\"400.0\" y1=\"160.0\" x2=\"434.641\" y2=\"140.0\" stroke-linecap=\"round\" style=\"stroke:white;stroke-width:4\"/><line x1=\"434.641\" y1=\"140.0\" x2=\"400.0\" y2=\"120.0\" stroke-linecap=\"round\" style=\"stroke:white;stroke-width:4\"/><line x1=\"400.0\" y1=\"120.0\" x2=\"400.0\" y2=\"160.0\" stroke-linecap=\"round\" style=\"stroke:white;stroke-width:4\"/><line x1=\"400.0\" y1=\"160.0\" x2=\"434.641\" y2=\"140.0\" stroke-linecap=\"round\" style=\"stroke:white;stroke-width:4\"/><line x1=\"434.641\" y1=\"140.0\" x2=\"469.282\" y2=\"160.0\" stroke-linecap=\"round\" style=\"stroke:white;stroke-width:4\"/><line x1=\"469.282\" y1=\"160.0\" x2=\"469.282\" y2=\"120.0\" stroke-linecap=\"round\" style=\"stroke:white;stroke-width:4\"/><line x1=\"469.282\" y1=\"120.0\" x2=\"434.641\" y2=\"140.0\" stroke-linecap=\"round\" style=\"stroke:white;stroke-width:4\"/><line x1=\"434.641\" y1=\"140.0\" x2=\"469.282\" y2=\"160.0\" stroke-linecap=\"round\" style=\"stroke:white;stroke-width:4\"/><line x1=\"469.282\" y1=\"160.0\" x2=\"469.282\" y2=\"200.0\" stroke-linecap=\"round\" style=\"stroke:white;stroke-width:4\"/><line x1=\"469.282\" y1=\"200.0\" x2=\"503.923\" y2=\"180.0\" stroke-linecap=\"round\" style=\"stroke:white;stroke-width:4\"/><line x1=\"503.923\" y1=\"180.0\" x2=\"469.282\" y2=\"160.0\" stroke-linecap=\"round\" style=\"stroke:white;stroke-width:4\"/><line x1=\"469.282\" y1=\"160.0\" x2=\"469.282\" y2=\"200.0\" stroke-linecap=\"round\" style=\"stroke:white;stroke-width:4\"/><line x1=\"469.282\" y1=\"200.0\" x2=\"434.641\" y2=\"220.0\" stroke-linecap=\"round\" style=\"stroke:white;stroke-width:4\"/><line x1=\"434.641\" y1=\"220.0\" x2=\"469.282\" y2=\"240.0\" stroke-linecap=\"round\" style=\"stroke:white;stroke-width:4\"/><line x1=\"469.282\" y1=\"240.0\" x2=\"469.282\" y2=\"200.0\" stroke-linecap=\"round\" style=\"stroke:white;stroke-width:4\"/><line x1=\"469.282\" y1=\"200.0\" x2=\"434.641\" y2=\"220.0\" stroke-linecap=\"round\" style=\"stroke:white;stroke-width:4\"/><line x1=\"434.641\" y1=\"220.0\" x2=\"400.0\" y2=\"200.0\" stroke-linecap=\"round\" style=\"stroke:white;stroke-width:4\"/><line x1=\"400.0\" y1=\"200.0\" x2=\"400.0\" y2=\"240.0\" stroke-linecap=\"round\" style=\"stroke:white;stroke-width:4\"/><line x1=\"400.0\" y1=\"240.0\" x2=\"434.641\" y2=\"220.0\" stroke-linecap=\"round\" style=\"stroke:white;stroke-width:4\"/><line x1=\"434.641\" y1=\"220.0\" x2=\"400.0\" y2=\"200.0\" stroke-linecap=\"round\" style=\"stroke:white;stroke-width:4\"/>\n",
       "        <g visibility=visible transform=\"rotate(360.0,400.0,200.0) translate(382.0, 182.0)\">\n",
       "<path style=\" stroke:none;fill-rule:evenodd;fill:white;fill-opacity:1;\" d=\"M 18.214844 0.632812 C 16.109375 1.800781 15.011719 4.074219 15.074219 7.132812 L 15.085938 7.652344 L 14.785156 7.496094 C 13.476562 6.824219 11.957031 6.671875 10.40625 7.066406 C 8.46875 7.550781 6.515625 9.15625 4.394531 11.992188 C 3.0625 13.777344 2.679688 14.636719 3.042969 15.027344 L 3.15625 15.152344 L 3.519531 15.152344 C 4.238281 15.152344 4.828125 14.886719 8.1875 13.039062 C 9.386719 12.378906 10.371094 11.839844 10.378906 11.839844 C 10.386719 11.839844 10.355469 11.929688 10.304688 12.035156 C 9.832031 13.09375 9.257812 14.820312 8.96875 16.078125 C 7.914062 20.652344 8.617188 24.53125 11.070312 27.660156 C 11.351562 28.015625 11.363281 27.914062 10.972656 28.382812 C 8.925781 30.84375 7.945312 33.28125 8.238281 35.1875 C 8.289062 35.527344 8.28125 35.523438 8.917969 35.523438 C 10.941406 35.523438 13.074219 34.207031 15.136719 31.6875 C 15.359375 31.417969 15.328125 31.425781 15.5625 31.574219 C 16.292969 32.042969 18.023438 32.964844 18.175781 32.964844 C 18.335938 32.964844 19.941406 32.210938 20.828125 31.71875 C 20.996094 31.625 21.136719 31.554688 21.136719 31.558594 C 21.203125 31.664062 21.898438 32.414062 22.222656 32.730469 C 23.835938 34.300781 25.5625 35.132812 27.582031 35.300781 C 27.90625 35.328125 27.9375 35.308594 28.007812 34.984375 C 28.382812 33.242188 27.625 30.925781 25.863281 28.425781 L 25.542969 27.96875 L 25.699219 27.785156 C 28.945312 23.960938 29.132812 18.699219 26.257812 11.96875 L 26.207031 11.84375 L 27.945312 12.703125 C 31.53125 14.476562 32.316406 14.800781 33.03125 14.800781 C 33.976562 14.800781 33.78125 13.9375 32.472656 12.292969 C 28.519531 7.355469 25.394531 5.925781 21.921875 7.472656 L 21.558594 7.636719 L 21.578125 7.542969 C 21.699219 6.992188 21.761719 5.742188 21.699219 5.164062 C 21.496094 3.296875 20.664062 1.964844 19.003906 0.855469 C 18.480469 0.503906 18.457031 0.5 18.214844 0.632812\"/>\n",
       "</g>\n",
       "      </svg>\n",
       "    "
      ],
      "text/plain": [
       "<IPython.core.display.HTML object>"
      ]
     },
     "metadata": {},
     "output_type": "display_data"
    }
   ],
   "source": [
    "init() \n",
    "house(4, 5, 70)\n",
    "shift(200)\n",
    "star(6,3,40)\n"
   ]
  },
  {
   "cell_type": "code",
   "execution_count": 11,
   "metadata": {},
   "outputs": [
    {
     "data": {
      "text/html": [
       "\n",
       "      <svg width=\"800\" height=\"500\">\n",
       "        <rect width=\"100%\" height=\"100%\" fill=\"black\"/>\n",
       "        <line x1=\"200\" y1=\"200\" x2=\"200.0\" y2=\"170.0\" stroke-linecap=\"round\" style=\"stroke:white;stroke-width:4\"/><line x1=\"200.0\" y1=\"170.0\" x2=\"174.019\" y2=\"185.0\" stroke-linecap=\"round\" style=\"stroke:white;stroke-width:4\"/><line x1=\"174.019\" y1=\"185.0\" x2=\"200.0\" y2=\"200.0\" stroke-linecap=\"round\" style=\"stroke:white;stroke-width:4\"/><line x1=\"200.0\" y1=\"200.0\" x2=\"200.0\" y2=\"170.0\" stroke-linecap=\"round\" style=\"stroke:white;stroke-width:4\"/><line x1=\"200.0\" y1=\"170.0\" x2=\"230.0\" y2=\"170.0\" stroke-linecap=\"round\" style=\"stroke:white;stroke-width:4\"/><line x1=\"230.0\" y1=\"170.0\" x2=\"215.0\" y2=\"144.019\" stroke-linecap=\"round\" style=\"stroke:white;stroke-width:4\"/><line x1=\"215.0\" y1=\"144.019\" x2=\"200.0\" y2=\"170.0\" stroke-linecap=\"round\" style=\"stroke:white;stroke-width:4\"/><line x1=\"200.0\" y1=\"170.0\" x2=\"230.0\" y2=\"170.0\" stroke-linecap=\"round\" style=\"stroke:white;stroke-width:4\"/><line x1=\"230.0\" y1=\"170.0\" x2=\"230.0\" y2=\"200.0\" stroke-linecap=\"round\" style=\"stroke:white;stroke-width:4\"/><line x1=\"230.0\" y1=\"200.0\" x2=\"255.981\" y2=\"185.0\" stroke-linecap=\"round\" style=\"stroke:white;stroke-width:4\"/><line x1=\"255.981\" y1=\"185.0\" x2=\"230.0\" y2=\"170.0\" stroke-linecap=\"round\" style=\"stroke:white;stroke-width:4\"/><line x1=\"230.0\" y1=\"170.0\" x2=\"230.0\" y2=\"200.0\" stroke-linecap=\"round\" style=\"stroke:white;stroke-width:4\"/><line x1=\"230.0\" y1=\"200.0\" x2=\"200.0\" y2=\"200.0\" stroke-linecap=\"round\" style=\"stroke:white;stroke-width:4\"/><line x1=\"200.0\" y1=\"200.0\" x2=\"215.0\" y2=\"225.981\" stroke-linecap=\"round\" style=\"stroke:white;stroke-width:4\"/><line x1=\"215.0\" y1=\"225.981\" x2=\"230.0\" y2=\"200.0\" stroke-linecap=\"round\" style=\"stroke:white;stroke-width:4\"/><line x1=\"230.0\" y1=\"200.0\" x2=\"200.0\" y2=\"200.0\" stroke-linecap=\"round\" style=\"stroke:white;stroke-width:4\"/><line x1=\"300.0\" y1=\"200.0\" x2=\"300.0\" y2=\"180.0\" stroke-linecap=\"round\" style=\"stroke:white;stroke-width:4\"/><line x1=\"300.0\" y1=\"180.0\" x2=\"282.679\" y2=\"190.0\" stroke-linecap=\"round\" style=\"stroke:white;stroke-width:4\"/><line x1=\"282.679\" y1=\"190.0\" x2=\"300.0\" y2=\"200.0\" stroke-linecap=\"round\" style=\"stroke:white;stroke-width:4\"/><line x1=\"300.0\" y1=\"200.0\" x2=\"300.0\" y2=\"180.0\" stroke-linecap=\"round\" style=\"stroke:white;stroke-width:4\"/><line x1=\"300.0\" y1=\"180.0\" x2=\"320.0\" y2=\"180.0\" stroke-linecap=\"round\" style=\"stroke:white;stroke-width:4\"/><line x1=\"320.0\" y1=\"180.0\" x2=\"310.0\" y2=\"162.679\" stroke-linecap=\"round\" style=\"stroke:white;stroke-width:4\"/><line x1=\"310.0\" y1=\"162.679\" x2=\"300.0\" y2=\"180.0\" stroke-linecap=\"round\" style=\"stroke:white;stroke-width:4\"/><line x1=\"300.0\" y1=\"180.0\" x2=\"320.0\" y2=\"180.0\" stroke-linecap=\"round\" style=\"stroke:white;stroke-width:4\"/><line x1=\"320.0\" y1=\"180.0\" x2=\"320.0\" y2=\"200.0\" stroke-linecap=\"round\" style=\"stroke:white;stroke-width:4\"/><line x1=\"320.0\" y1=\"200.0\" x2=\"337.321\" y2=\"190.0\" stroke-linecap=\"round\" style=\"stroke:white;stroke-width:4\"/><line x1=\"337.321\" y1=\"190.0\" x2=\"320.0\" y2=\"180.0\" stroke-linecap=\"round\" style=\"stroke:white;stroke-width:4\"/><line x1=\"320.0\" y1=\"180.0\" x2=\"320.0\" y2=\"200.0\" stroke-linecap=\"round\" style=\"stroke:white;stroke-width:4\"/><line x1=\"320.0\" y1=\"200.0\" x2=\"300.0\" y2=\"200.0\" stroke-linecap=\"round\" style=\"stroke:white;stroke-width:4\"/><line x1=\"300.0\" y1=\"200.0\" x2=\"310.0\" y2=\"217.321\" stroke-linecap=\"round\" style=\"stroke:white;stroke-width:4\"/><line x1=\"310.0\" y1=\"217.321\" x2=\"320.0\" y2=\"200.0\" stroke-linecap=\"round\" style=\"stroke:white;stroke-width:4\"/><line x1=\"320.0\" y1=\"200.0\" x2=\"300.0\" y2=\"200.0\" stroke-linecap=\"round\" style=\"stroke:white;stroke-width:4\"/><line x1=\"400.0\" y1=\"200.0\" x2=\"400.0\" y2=\"175.0\" stroke-linecap=\"round\" style=\"stroke:white;stroke-width:4\"/><line x1=\"400.0\" y1=\"175.0\" x2=\"378.349\" y2=\"187.5\" stroke-linecap=\"round\" style=\"stroke:white;stroke-width:4\"/><line x1=\"378.349\" y1=\"187.5\" x2=\"400.0\" y2=\"200.0\" stroke-linecap=\"round\" style=\"stroke:white;stroke-width:4\"/><line x1=\"400.0\" y1=\"200.0\" x2=\"400.0\" y2=\"175.0\" stroke-linecap=\"round\" style=\"stroke:white;stroke-width:4\"/><line x1=\"400.0\" y1=\"175.0\" x2=\"425.0\" y2=\"175.0\" stroke-linecap=\"round\" style=\"stroke:white;stroke-width:4\"/><line x1=\"425.0\" y1=\"175.0\" x2=\"412.5\" y2=\"153.349\" stroke-linecap=\"round\" style=\"stroke:white;stroke-width:4\"/><line x1=\"412.5\" y1=\"153.349\" x2=\"400.0\" y2=\"175.0\" stroke-linecap=\"round\" style=\"stroke:white;stroke-width:4\"/><line x1=\"400.0\" y1=\"175.0\" x2=\"425.0\" y2=\"175.0\" stroke-linecap=\"round\" style=\"stroke:white;stroke-width:4\"/><line x1=\"425.0\" y1=\"175.0\" x2=\"425.0\" y2=\"200.0\" stroke-linecap=\"round\" style=\"stroke:white;stroke-width:4\"/><line x1=\"425.0\" y1=\"200.0\" x2=\"446.651\" y2=\"187.5\" stroke-linecap=\"round\" style=\"stroke:white;stroke-width:4\"/><line x1=\"446.651\" y1=\"187.5\" x2=\"425.0\" y2=\"175.0\" stroke-linecap=\"round\" style=\"stroke:white;stroke-width:4\"/><line x1=\"425.0\" y1=\"175.0\" x2=\"425.0\" y2=\"200.0\" stroke-linecap=\"round\" style=\"stroke:white;stroke-width:4\"/><line x1=\"425.0\" y1=\"200.0\" x2=\"400.0\" y2=\"200.0\" stroke-linecap=\"round\" style=\"stroke:white;stroke-width:4\"/><line x1=\"400.0\" y1=\"200.0\" x2=\"412.5\" y2=\"221.651\" stroke-linecap=\"round\" style=\"stroke:white;stroke-width:4\"/><line x1=\"412.5\" y1=\"221.651\" x2=\"425.0\" y2=\"200.0\" stroke-linecap=\"round\" style=\"stroke:white;stroke-width:4\"/><line x1=\"425.0\" y1=\"200.0\" x2=\"400.0\" y2=\"200.0\" stroke-linecap=\"round\" style=\"stroke:white;stroke-width:4\"/><line x1=\"500.0\" y1=\"200.0\" x2=\"500.0\" y2=\"170.0\" stroke-linecap=\"round\" style=\"stroke:white;stroke-width:4\"/><line x1=\"500.0\" y1=\"170.0\" x2=\"474.019\" y2=\"185.0\" stroke-linecap=\"round\" style=\"stroke:white;stroke-width:4\"/><line x1=\"474.019\" y1=\"185.0\" x2=\"500.0\" y2=\"200.0\" stroke-linecap=\"round\" style=\"stroke:white;stroke-width:4\"/><line x1=\"500.0\" y1=\"200.0\" x2=\"500.0\" y2=\"170.0\" stroke-linecap=\"round\" style=\"stroke:white;stroke-width:4\"/><line x1=\"500.0\" y1=\"170.0\" x2=\"530.0\" y2=\"170.0\" stroke-linecap=\"round\" style=\"stroke:white;stroke-width:4\"/><line x1=\"530.0\" y1=\"170.0\" x2=\"515.0\" y2=\"144.019\" stroke-linecap=\"round\" style=\"stroke:white;stroke-width:4\"/><line x1=\"515.0\" y1=\"144.019\" x2=\"500.0\" y2=\"170.0\" stroke-linecap=\"round\" style=\"stroke:white;stroke-width:4\"/><line x1=\"500.0\" y1=\"170.0\" x2=\"530.0\" y2=\"170.0\" stroke-linecap=\"round\" style=\"stroke:white;stroke-width:4\"/><line x1=\"530.0\" y1=\"170.0\" x2=\"530.0\" y2=\"200.0\" stroke-linecap=\"round\" style=\"stroke:white;stroke-width:4\"/><line x1=\"530.0\" y1=\"200.0\" x2=\"555.981\" y2=\"185.0\" stroke-linecap=\"round\" style=\"stroke:white;stroke-width:4\"/><line x1=\"555.981\" y1=\"185.0\" x2=\"530.0\" y2=\"170.0\" stroke-linecap=\"round\" style=\"stroke:white;stroke-width:4\"/><line x1=\"530.0\" y1=\"170.0\" x2=\"530.0\" y2=\"200.0\" stroke-linecap=\"round\" style=\"stroke:white;stroke-width:4\"/><line x1=\"530.0\" y1=\"200.0\" x2=\"500.0\" y2=\"200.0\" stroke-linecap=\"round\" style=\"stroke:white;stroke-width:4\"/><line x1=\"500.0\" y1=\"200.0\" x2=\"515.0\" y2=\"225.981\" stroke-linecap=\"round\" style=\"stroke:white;stroke-width:4\"/><line x1=\"515.0\" y1=\"225.981\" x2=\"530.0\" y2=\"200.0\" stroke-linecap=\"round\" style=\"stroke:white;stroke-width:4\"/><line x1=\"530.0\" y1=\"200.0\" x2=\"500.0\" y2=\"200.0\" stroke-linecap=\"round\" style=\"stroke:white;stroke-width:4\"/>\n",
       "        <g visibility=visible transform=\"rotate(360.0,600.0,200.0) translate(582.0, 182.0)\">\n",
       "<path style=\" stroke:none;fill-rule:evenodd;fill:white;fill-opacity:1;\" d=\"M 18.214844 0.632812 C 16.109375 1.800781 15.011719 4.074219 15.074219 7.132812 L 15.085938 7.652344 L 14.785156 7.496094 C 13.476562 6.824219 11.957031 6.671875 10.40625 7.066406 C 8.46875 7.550781 6.515625 9.15625 4.394531 11.992188 C 3.0625 13.777344 2.679688 14.636719 3.042969 15.027344 L 3.15625 15.152344 L 3.519531 15.152344 C 4.238281 15.152344 4.828125 14.886719 8.1875 13.039062 C 9.386719 12.378906 10.371094 11.839844 10.378906 11.839844 C 10.386719 11.839844 10.355469 11.929688 10.304688 12.035156 C 9.832031 13.09375 9.257812 14.820312 8.96875 16.078125 C 7.914062 20.652344 8.617188 24.53125 11.070312 27.660156 C 11.351562 28.015625 11.363281 27.914062 10.972656 28.382812 C 8.925781 30.84375 7.945312 33.28125 8.238281 35.1875 C 8.289062 35.527344 8.28125 35.523438 8.917969 35.523438 C 10.941406 35.523438 13.074219 34.207031 15.136719 31.6875 C 15.359375 31.417969 15.328125 31.425781 15.5625 31.574219 C 16.292969 32.042969 18.023438 32.964844 18.175781 32.964844 C 18.335938 32.964844 19.941406 32.210938 20.828125 31.71875 C 20.996094 31.625 21.136719 31.554688 21.136719 31.558594 C 21.203125 31.664062 21.898438 32.414062 22.222656 32.730469 C 23.835938 34.300781 25.5625 35.132812 27.582031 35.300781 C 27.90625 35.328125 27.9375 35.308594 28.007812 34.984375 C 28.382812 33.242188 27.625 30.925781 25.863281 28.425781 L 25.542969 27.96875 L 25.699219 27.785156 C 28.945312 23.960938 29.132812 18.699219 26.257812 11.96875 L 26.207031 11.84375 L 27.945312 12.703125 C 31.53125 14.476562 32.316406 14.800781 33.03125 14.800781 C 33.976562 14.800781 33.78125 13.9375 32.472656 12.292969 C 28.519531 7.355469 25.394531 5.925781 21.921875 7.472656 L 21.558594 7.636719 L 21.578125 7.542969 C 21.699219 6.992188 21.761719 5.742188 21.699219 5.164062 C 21.496094 3.296875 20.664062 1.964844 19.003906 0.855469 C 18.480469 0.503906 18.457031 0.5 18.214844 0.632812\"/>\n",
       "</g>\n",
       "      </svg>\n",
       "    "
      ],
      "text/plain": [
       "<IPython.core.display.HTML object>"
      ]
     },
     "metadata": {},
     "output_type": "display_data"
    }
   ],
   "source": [
    "init()\n",
    "cortage = 30,20,25,30\n",
    "for length in cortage:\n",
    "    star(4,3,length)\n",
    "    shift(100)\n"
   ]
  },
  {
   "cell_type": "code",
   "execution_count": 12,
   "metadata": {},
   "outputs": [
    {
     "data": {
      "text/html": [
       "\n",
       "      <svg width=\"800\" height=\"500\">\n",
       "        <rect width=\"100%\" height=\"100%\" fill=\"black\"/>\n",
       "        <line x1=\"20\" y1=\"300\" x2=\"20.0\" y2=\"250.0\" stroke-linecap=\"round\" style=\"stroke:white;stroke-width:4\"/><line x1=\"20.0\" y1=\"250.0\" x2=\"-23.301\" y2=\"275.0\" stroke-linecap=\"round\" style=\"stroke:white;stroke-width:4\"/><line x1=\"-23.301\" y1=\"275.0\" x2=\"20.0\" y2=\"300.0\" stroke-linecap=\"round\" style=\"stroke:white;stroke-width:4\"/><line x1=\"20.0\" y1=\"300.0\" x2=\"20.0\" y2=\"250.0\" stroke-linecap=\"round\" style=\"stroke:white;stroke-width:4\"/><line x1=\"20.0\" y1=\"250.0\" x2=\"67.553\" y2=\"234.549\" stroke-linecap=\"round\" style=\"stroke:white;stroke-width:4\"/><line x1=\"67.553\" y1=\"234.549\" x2=\"30.396\" y2=\"201.092\" stroke-linecap=\"round\" style=\"stroke:white;stroke-width:4\"/><line x1=\"30.396\" y1=\"201.092\" x2=\"20.0\" y2=\"249.999\" stroke-linecap=\"round\" style=\"stroke:white;stroke-width:4\"/><line x1=\"20.0\" y1=\"249.999\" x2=\"67.553\" y2=\"234.548\" stroke-linecap=\"round\" style=\"stroke:white;stroke-width:4\"/><line x1=\"67.553\" y1=\"234.548\" x2=\"96.942\" y2=\"274.999\" stroke-linecap=\"round\" style=\"stroke:white;stroke-width:4\"/><line x1=\"96.942\" y1=\"274.999\" x2=\"117.279\" y2=\"229.322\" stroke-linecap=\"round\" style=\"stroke:white;stroke-width:4\"/><line x1=\"117.279\" y1=\"229.322\" x2=\"67.553\" y2=\"234.548\" stroke-linecap=\"round\" style=\"stroke:white;stroke-width:4\"/><line x1=\"67.553\" y1=\"234.548\" x2=\"96.942\" y2=\"274.999\" stroke-linecap=\"round\" style=\"stroke:white;stroke-width:4\"/><line x1=\"96.942\" y1=\"274.999\" x2=\"67.553\" y2=\"315.45\" stroke-linecap=\"round\" style=\"stroke:white;stroke-width:4\"/><line x1=\"67.553\" y1=\"315.45\" x2=\"117.279\" y2=\"320.676\" stroke-linecap=\"round\" style=\"stroke:white;stroke-width:4\"/><line x1=\"117.279\" y1=\"320.676\" x2=\"96.942\" y2=\"274.999\" stroke-linecap=\"round\" style=\"stroke:white;stroke-width:4\"/><line x1=\"96.942\" y1=\"274.999\" x2=\"67.553\" y2=\"315.45\" stroke-linecap=\"round\" style=\"stroke:white;stroke-width:4\"/><line x1=\"67.553\" y1=\"315.45\" x2=\"20.0\" y2=\"299.999\" stroke-linecap=\"round\" style=\"stroke:white;stroke-width:4\"/><line x1=\"20.0\" y1=\"299.999\" x2=\"30.396\" y2=\"348.906\" stroke-linecap=\"round\" style=\"stroke:white;stroke-width:4\"/><line x1=\"30.396\" y1=\"348.906\" x2=\"67.553\" y2=\"315.449\" stroke-linecap=\"round\" style=\"stroke:white;stroke-width:4\"/><line x1=\"67.553\" y1=\"315.449\" x2=\"20.0\" y2=\"299.998\" stroke-linecap=\"round\" style=\"stroke:white;stroke-width:4\"/><line x1=\"170.0\" y1=\"299.998\" x2=\"220.0\" y2=\"299.998\" stroke-linecap=\"round\" style=\"stroke:white;stroke-width:4\"/><line x1=\"220.0\" y1=\"299.998\" x2=\"220.0\" y2=\"349.998\" stroke-linecap=\"round\" style=\"stroke:white;stroke-width:4\"/><line x1=\"220.0\" y1=\"349.998\" x2=\"170.0\" y2=\"349.998\" stroke-linecap=\"round\" style=\"stroke:white;stroke-width:4\"/><line x1=\"170.0\" y1=\"349.998\" x2=\"170.0\" y2=\"299.998\" stroke-linecap=\"round\" style=\"stroke:white;stroke-width:4\"/><line x1=\"170.0\" y1=\"299.998\" x2=\"220.0\" y2=\"299.998\" stroke-linecap=\"round\" style=\"stroke:white;stroke-width:4\"/><line x1=\"220.0\" y1=\"299.998\" x2=\"195.0\" y2=\"256.697\" stroke-linecap=\"round\" style=\"stroke:white;stroke-width:4\"/><line x1=\"195.0\" y1=\"256.697\" x2=\"170.0\" y2=\"299.998\" stroke-linecap=\"round\" style=\"stroke:white;stroke-width:4\"/><line x1=\"320.0\" y1=\"299.998\" x2=\"320.0\" y2=\"249.998\" stroke-linecap=\"round\" style=\"stroke:white;stroke-width:4\"/><line x1=\"320.0\" y1=\"249.998\" x2=\"276.699\" y2=\"274.998\" stroke-linecap=\"round\" style=\"stroke:white;stroke-width:4\"/><line x1=\"276.699\" y1=\"274.998\" x2=\"320.0\" y2=\"299.998\" stroke-linecap=\"round\" style=\"stroke:white;stroke-width:4\"/><line x1=\"320.0\" y1=\"299.998\" x2=\"320.0\" y2=\"249.998\" stroke-linecap=\"round\" style=\"stroke:white;stroke-width:4\"/><line x1=\"320.0\" y1=\"249.998\" x2=\"367.553\" y2=\"234.547\" stroke-linecap=\"round\" style=\"stroke:white;stroke-width:4\"/><line x1=\"367.553\" y1=\"234.547\" x2=\"330.396\" y2=\"201.09\" stroke-linecap=\"round\" style=\"stroke:white;stroke-width:4\"/><line x1=\"330.396\" y1=\"201.09\" x2=\"320.0\" y2=\"249.997\" stroke-linecap=\"round\" style=\"stroke:white;stroke-width:4\"/><line x1=\"320.0\" y1=\"249.997\" x2=\"367.553\" y2=\"234.546\" stroke-linecap=\"round\" style=\"stroke:white;stroke-width:4\"/><line x1=\"367.553\" y1=\"234.546\" x2=\"396.942\" y2=\"274.997\" stroke-linecap=\"round\" style=\"stroke:white;stroke-width:4\"/><line x1=\"396.942\" y1=\"274.997\" x2=\"417.279\" y2=\"229.32\" stroke-linecap=\"round\" style=\"stroke:white;stroke-width:4\"/><line x1=\"417.279\" y1=\"229.32\" x2=\"367.553\" y2=\"234.546\" stroke-linecap=\"round\" style=\"stroke:white;stroke-width:4\"/><line x1=\"367.553\" y1=\"234.546\" x2=\"396.942\" y2=\"274.997\" stroke-linecap=\"round\" style=\"stroke:white;stroke-width:4\"/><line x1=\"396.942\" y1=\"274.997\" x2=\"367.553\" y2=\"315.448\" stroke-linecap=\"round\" style=\"stroke:white;stroke-width:4\"/><line x1=\"367.553\" y1=\"315.448\" x2=\"417.279\" y2=\"320.674\" stroke-linecap=\"round\" style=\"stroke:white;stroke-width:4\"/><line x1=\"417.279\" y1=\"320.674\" x2=\"396.942\" y2=\"274.997\" stroke-linecap=\"round\" style=\"stroke:white;stroke-width:4\"/><line x1=\"396.942\" y1=\"274.997\" x2=\"367.553\" y2=\"315.448\" stroke-linecap=\"round\" style=\"stroke:white;stroke-width:4\"/><line x1=\"367.553\" y1=\"315.448\" x2=\"320.0\" y2=\"299.997\" stroke-linecap=\"round\" style=\"stroke:white;stroke-width:4\"/><line x1=\"320.0\" y1=\"299.997\" x2=\"330.396\" y2=\"348.904\" stroke-linecap=\"round\" style=\"stroke:white;stroke-width:4\"/><line x1=\"330.396\" y1=\"348.904\" x2=\"367.553\" y2=\"315.447\" stroke-linecap=\"round\" style=\"stroke:white;stroke-width:4\"/><line x1=\"367.553\" y1=\"315.447\" x2=\"320.0\" y2=\"299.996\" stroke-linecap=\"round\" style=\"stroke:white;stroke-width:4\"/><line x1=\"470.0\" y1=\"299.996\" x2=\"520.0\" y2=\"299.996\" stroke-linecap=\"round\" style=\"stroke:white;stroke-width:4\"/><line x1=\"520.0\" y1=\"299.996\" x2=\"520.0\" y2=\"349.996\" stroke-linecap=\"round\" style=\"stroke:white;stroke-width:4\"/><line x1=\"520.0\" y1=\"349.996\" x2=\"470.0\" y2=\"349.996\" stroke-linecap=\"round\" style=\"stroke:white;stroke-width:4\"/><line x1=\"470.0\" y1=\"349.996\" x2=\"470.0\" y2=\"299.996\" stroke-linecap=\"round\" style=\"stroke:white;stroke-width:4\"/><line x1=\"470.0\" y1=\"299.996\" x2=\"520.0\" y2=\"299.996\" stroke-linecap=\"round\" style=\"stroke:white;stroke-width:4\"/><line x1=\"520.0\" y1=\"299.996\" x2=\"495.0\" y2=\"256.695\" stroke-linecap=\"round\" style=\"stroke:white;stroke-width:4\"/><line x1=\"495.0\" y1=\"256.695\" x2=\"470.0\" y2=\"299.996\" stroke-linecap=\"round\" style=\"stroke:white;stroke-width:4\"/>\n",
       "        <g visibility=visible transform=\"rotate(360.0,470.0,299.996) translate(452.0, 281.996)\">\n",
       "<path style=\" stroke:none;fill-rule:evenodd;fill:white;fill-opacity:1;\" d=\"M 18.214844 0.632812 C 16.109375 1.800781 15.011719 4.074219 15.074219 7.132812 L 15.085938 7.652344 L 14.785156 7.496094 C 13.476562 6.824219 11.957031 6.671875 10.40625 7.066406 C 8.46875 7.550781 6.515625 9.15625 4.394531 11.992188 C 3.0625 13.777344 2.679688 14.636719 3.042969 15.027344 L 3.15625 15.152344 L 3.519531 15.152344 C 4.238281 15.152344 4.828125 14.886719 8.1875 13.039062 C 9.386719 12.378906 10.371094 11.839844 10.378906 11.839844 C 10.386719 11.839844 10.355469 11.929688 10.304688 12.035156 C 9.832031 13.09375 9.257812 14.820312 8.96875 16.078125 C 7.914062 20.652344 8.617188 24.53125 11.070312 27.660156 C 11.351562 28.015625 11.363281 27.914062 10.972656 28.382812 C 8.925781 30.84375 7.945312 33.28125 8.238281 35.1875 C 8.289062 35.527344 8.28125 35.523438 8.917969 35.523438 C 10.941406 35.523438 13.074219 34.207031 15.136719 31.6875 C 15.359375 31.417969 15.328125 31.425781 15.5625 31.574219 C 16.292969 32.042969 18.023438 32.964844 18.175781 32.964844 C 18.335938 32.964844 19.941406 32.210938 20.828125 31.71875 C 20.996094 31.625 21.136719 31.554688 21.136719 31.558594 C 21.203125 31.664062 21.898438 32.414062 22.222656 32.730469 C 23.835938 34.300781 25.5625 35.132812 27.582031 35.300781 C 27.90625 35.328125 27.9375 35.308594 28.007812 34.984375 C 28.382812 33.242188 27.625 30.925781 25.863281 28.425781 L 25.542969 27.96875 L 25.699219 27.785156 C 28.945312 23.960938 29.132812 18.699219 26.257812 11.96875 L 26.207031 11.84375 L 27.945312 12.703125 C 31.53125 14.476562 32.316406 14.800781 33.03125 14.800781 C 33.976562 14.800781 33.78125 13.9375 32.472656 12.292969 C 28.519531 7.355469 25.394531 5.925781 21.921875 7.472656 L 21.558594 7.636719 L 21.578125 7.542969 C 21.699219 6.992188 21.761719 5.742188 21.699219 5.164062 C 21.496094 3.296875 20.664062 1.964844 19.003906 0.855469 C 18.480469 0.503906 18.457031 0.5 18.214844 0.632812\"/>\n",
       "</g>\n",
       "      </svg>\n",
       "    "
      ],
      "text/plain": [
       "<IPython.core.display.HTML object>"
      ]
     },
     "metadata": {},
     "output_type": "display_data"
    }
   ],
   "source": [
    "init(20,300)\n",
    "cortege = star, shift, house, shift, star, shift, house\n",
    "for function in cortege:\n",
    "    function()\n"
   ]
  },
  {
   "cell_type": "code",
   "execution_count": 13,
   "metadata": {},
   "outputs": [
    {
     "data": {
      "text/html": [
       "\n",
       "      <svg width=\"800\" height=\"500\">\n",
       "        <rect width=\"100%\" height=\"100%\" fill=\"black\"/>\n",
       "        <line x1=\"50\" y1=\"200\" x2=\"50.0\" y2=\"170.0\" stroke-linecap=\"round\" style=\"stroke:white;stroke-width:4\"/><line x1=\"50.0\" y1=\"170.0\" x2=\"20.0\" y2=\"170.0\" stroke-linecap=\"round\" style=\"stroke:white;stroke-width:4\"/><line x1=\"20.0\" y1=\"170.0\" x2=\"20.0\" y2=\"200.0\" stroke-linecap=\"round\" style=\"stroke:white;stroke-width:4\"/><line x1=\"20.0\" y1=\"200.0\" x2=\"50.0\" y2=\"200.0\" stroke-linecap=\"round\" style=\"stroke:white;stroke-width:4\"/><line x1=\"50.0\" y1=\"200.0\" x2=\"50.0\" y2=\"170.0\" stroke-linecap=\"round\" style=\"stroke:white;stroke-width:4\"/><line x1=\"50.0\" y1=\"170.0\" x2=\"71.213\" y2=\"148.787\" stroke-linecap=\"round\" style=\"stroke:white;stroke-width:4\"/><line x1=\"71.213\" y1=\"148.787\" x2=\"50.0\" y2=\"127.574\" stroke-linecap=\"round\" style=\"stroke:white;stroke-width:4\"/><line x1=\"50.0\" y1=\"127.574\" x2=\"28.787\" y2=\"148.787\" stroke-linecap=\"round\" style=\"stroke:white;stroke-width:4\"/><line x1=\"28.787\" y1=\"148.787\" x2=\"50.0\" y2=\"170.0\" stroke-linecap=\"round\" style=\"stroke:white;stroke-width:4\"/><line x1=\"50.0\" y1=\"170.0\" x2=\"71.213\" y2=\"148.787\" stroke-linecap=\"round\" style=\"stroke:white;stroke-width:4\"/><line x1=\"71.213\" y1=\"148.787\" x2=\"101.213\" y2=\"148.787\" stroke-linecap=\"round\" style=\"stroke:white;stroke-width:4\"/><line x1=\"101.213\" y1=\"148.787\" x2=\"101.213\" y2=\"118.787\" stroke-linecap=\"round\" style=\"stroke:white;stroke-width:4\"/><line x1=\"101.213\" y1=\"118.787\" x2=\"71.213\" y2=\"118.787\" stroke-linecap=\"round\" style=\"stroke:white;stroke-width:4\"/><line x1=\"71.213\" y1=\"118.787\" x2=\"71.213\" y2=\"148.787\" stroke-linecap=\"round\" style=\"stroke:white;stroke-width:4\"/><line x1=\"71.213\" y1=\"148.787\" x2=\"101.213\" y2=\"148.787\" stroke-linecap=\"round\" style=\"stroke:white;stroke-width:4\"/><line x1=\"101.213\" y1=\"148.787\" x2=\"122.426\" y2=\"170.0\" stroke-linecap=\"round\" style=\"stroke:white;stroke-width:4\"/><line x1=\"122.426\" y1=\"170.0\" x2=\"143.639\" y2=\"148.787\" stroke-linecap=\"round\" style=\"stroke:white;stroke-width:4\"/><line x1=\"143.639\" y1=\"148.787\" x2=\"122.426\" y2=\"127.574\" stroke-linecap=\"round\" style=\"stroke:white;stroke-width:4\"/><line x1=\"122.426\" y1=\"127.574\" x2=\"101.213\" y2=\"148.787\" stroke-linecap=\"round\" style=\"stroke:white;stroke-width:4\"/><line x1=\"101.213\" y1=\"148.787\" x2=\"122.426\" y2=\"170.0\" stroke-linecap=\"round\" style=\"stroke:white;stroke-width:4\"/><line x1=\"122.426\" y1=\"170.0\" x2=\"122.426\" y2=\"200.0\" stroke-linecap=\"round\" style=\"stroke:white;stroke-width:4\"/><line x1=\"122.426\" y1=\"200.0\" x2=\"152.426\" y2=\"200.0\" stroke-linecap=\"round\" style=\"stroke:white;stroke-width:4\"/><line x1=\"152.426\" y1=\"200.0\" x2=\"152.426\" y2=\"170.0\" stroke-linecap=\"round\" style=\"stroke:white;stroke-width:4\"/><line x1=\"152.426\" y1=\"170.0\" x2=\"122.426\" y2=\"170.0\" stroke-linecap=\"round\" style=\"stroke:white;stroke-width:4\"/><line x1=\"122.426\" y1=\"170.0\" x2=\"122.426\" y2=\"200.0\" stroke-linecap=\"round\" style=\"stroke:white;stroke-width:4\"/><line x1=\"122.426\" y1=\"200.0\" x2=\"101.213\" y2=\"221.213\" stroke-linecap=\"round\" style=\"stroke:white;stroke-width:4\"/><line x1=\"101.213\" y1=\"221.213\" x2=\"122.426\" y2=\"242.426\" stroke-linecap=\"round\" style=\"stroke:white;stroke-width:4\"/><line x1=\"122.426\" y1=\"242.426\" x2=\"143.639\" y2=\"221.213\" stroke-linecap=\"round\" style=\"stroke:white;stroke-width:4\"/><line x1=\"143.639\" y1=\"221.213\" x2=\"122.426\" y2=\"200.0\" stroke-linecap=\"round\" style=\"stroke:white;stroke-width:4\"/><line x1=\"122.426\" y1=\"200.0\" x2=\"101.213\" y2=\"221.213\" stroke-linecap=\"round\" style=\"stroke:white;stroke-width:4\"/><line x1=\"101.213\" y1=\"221.213\" x2=\"71.213\" y2=\"221.213\" stroke-linecap=\"round\" style=\"stroke:white;stroke-width:4\"/><line x1=\"71.213\" y1=\"221.213\" x2=\"71.213\" y2=\"251.213\" stroke-linecap=\"round\" style=\"stroke:white;stroke-width:4\"/><line x1=\"71.213\" y1=\"251.213\" x2=\"101.213\" y2=\"251.213\" stroke-linecap=\"round\" style=\"stroke:white;stroke-width:4\"/><line x1=\"101.213\" y1=\"251.213\" x2=\"101.213\" y2=\"221.213\" stroke-linecap=\"round\" style=\"stroke:white;stroke-width:4\"/><line x1=\"101.213\" y1=\"221.213\" x2=\"71.213\" y2=\"221.213\" stroke-linecap=\"round\" style=\"stroke:white;stroke-width:4\"/><line x1=\"71.213\" y1=\"221.213\" x2=\"50.0\" y2=\"200.0\" stroke-linecap=\"round\" style=\"stroke:white;stroke-width:4\"/><line x1=\"50.0\" y1=\"200.0\" x2=\"28.787\" y2=\"221.213\" stroke-linecap=\"round\" style=\"stroke:white;stroke-width:4\"/><line x1=\"28.787\" y1=\"221.213\" x2=\"50.0\" y2=\"242.426\" stroke-linecap=\"round\" style=\"stroke:white;stroke-width:4\"/><line x1=\"50.0\" y1=\"242.426\" x2=\"71.213\" y2=\"221.213\" stroke-linecap=\"round\" style=\"stroke:white;stroke-width:4\"/><line x1=\"71.213\" y1=\"221.213\" x2=\"50.0\" y2=\"200.0\" stroke-linecap=\"round\" style=\"stroke:white;stroke-width:4\"/><line x1=\"280.0\" y1=\"200.0\" x2=\"280.0\" y2=\"150.0\" stroke-linecap=\"round\" style=\"stroke:white;stroke-width:4\"/><line x1=\"280.0\" y1=\"150.0\" x2=\"236.699\" y2=\"175.0\" stroke-linecap=\"round\" style=\"stroke:white;stroke-width:4\"/><line x1=\"236.699\" y1=\"175.0\" x2=\"280.0\" y2=\"200.0\" stroke-linecap=\"round\" style=\"stroke:white;stroke-width:4\"/><line x1=\"280.0\" y1=\"200.0\" x2=\"280.0\" y2=\"150.0\" stroke-linecap=\"round\" style=\"stroke:white;stroke-width:4\"/><line x1=\"280.0\" y1=\"150.0\" x2=\"323.301\" y2=\"125.0\" stroke-linecap=\"round\" style=\"stroke:white;stroke-width:4\"/><line x1=\"323.301\" y1=\"125.0\" x2=\"280.0\" y2=\"100.0\" stroke-linecap=\"round\" style=\"stroke:white;stroke-width:4\"/><line x1=\"280.0\" y1=\"100.0\" x2=\"280.0\" y2=\"150.0\" stroke-linecap=\"round\" style=\"stroke:white;stroke-width:4\"/><line x1=\"280.0\" y1=\"150.0\" x2=\"323.301\" y2=\"125.0\" stroke-linecap=\"round\" style=\"stroke:white;stroke-width:4\"/><line x1=\"323.301\" y1=\"125.0\" x2=\"366.602\" y2=\"150.0\" stroke-linecap=\"round\" style=\"stroke:white;stroke-width:4\"/><line x1=\"366.602\" y1=\"150.0\" x2=\"366.602\" y2=\"100.0\" stroke-linecap=\"round\" style=\"stroke:white;stroke-width:4\"/><line x1=\"366.602\" y1=\"100.0\" x2=\"323.301\" y2=\"125.0\" stroke-linecap=\"round\" style=\"stroke:white;stroke-width:4\"/><line x1=\"323.301\" y1=\"125.0\" x2=\"366.602\" y2=\"150.0\" stroke-linecap=\"round\" style=\"stroke:white;stroke-width:4\"/><line x1=\"366.602\" y1=\"150.0\" x2=\"366.602\" y2=\"200.0\" stroke-linecap=\"round\" style=\"stroke:white;stroke-width:4\"/><line x1=\"366.602\" y1=\"200.0\" x2=\"409.903\" y2=\"175.0\" stroke-linecap=\"round\" style=\"stroke:white;stroke-width:4\"/><line x1=\"409.903\" y1=\"175.0\" x2=\"366.602\" y2=\"150.0\" stroke-linecap=\"round\" style=\"stroke:white;stroke-width:4\"/><line x1=\"366.602\" y1=\"150.0\" x2=\"366.602\" y2=\"200.0\" stroke-linecap=\"round\" style=\"stroke:white;stroke-width:4\"/><line x1=\"366.602\" y1=\"200.0\" x2=\"323.301\" y2=\"225.0\" stroke-linecap=\"round\" style=\"stroke:white;stroke-width:4\"/><line x1=\"323.301\" y1=\"225.0\" x2=\"366.602\" y2=\"250.0\" stroke-linecap=\"round\" style=\"stroke:white;stroke-width:4\"/><line x1=\"366.602\" y1=\"250.0\" x2=\"366.602\" y2=\"200.0\" stroke-linecap=\"round\" style=\"stroke:white;stroke-width:4\"/><line x1=\"366.602\" y1=\"200.0\" x2=\"323.301\" y2=\"225.0\" stroke-linecap=\"round\" style=\"stroke:white;stroke-width:4\"/><line x1=\"323.301\" y1=\"225.0\" x2=\"280.0\" y2=\"200.0\" stroke-linecap=\"round\" style=\"stroke:white;stroke-width:4\"/><line x1=\"280.0\" y1=\"200.0\" x2=\"280.0\" y2=\"250.0\" stroke-linecap=\"round\" style=\"stroke:white;stroke-width:4\"/><line x1=\"280.0\" y1=\"250.0\" x2=\"323.301\" y2=\"225.0\" stroke-linecap=\"round\" style=\"stroke:white;stroke-width:4\"/><line x1=\"323.301\" y1=\"225.0\" x2=\"280.0\" y2=\"200.0\" stroke-linecap=\"round\" style=\"stroke:white;stroke-width:4\"/><line x1=\"510.0\" y1=\"200.0\" x2=\"510.0\" y2=\"130.0\" stroke-linecap=\"round\" style=\"stroke:white;stroke-width:4\"/><line x1=\"510.0\" y1=\"130.0\" x2=\"440.0\" y2=\"130.0\" stroke-linecap=\"round\" style=\"stroke:white;stroke-width:4\"/><line x1=\"440.0\" y1=\"130.0\" x2=\"440.0\" y2=\"200.0\" stroke-linecap=\"round\" style=\"stroke:white;stroke-width:4\"/><line x1=\"440.0\" y1=\"200.0\" x2=\"510.0\" y2=\"200.0\" stroke-linecap=\"round\" style=\"stroke:white;stroke-width:4\"/><line x1=\"510.0\" y1=\"200.0\" x2=\"510.0\" y2=\"130.0\" stroke-linecap=\"round\" style=\"stroke:white;stroke-width:4\"/><line x1=\"510.0\" y1=\"130.0\" x2=\"580.0\" y2=\"130.0\" stroke-linecap=\"round\" style=\"stroke:white;stroke-width:4\"/><line x1=\"580.0\" y1=\"130.0\" x2=\"580.0\" y2=\"60.0\" stroke-linecap=\"round\" style=\"stroke:white;stroke-width:4\"/><line x1=\"580.0\" y1=\"60.0\" x2=\"510.0\" y2=\"60.0\" stroke-linecap=\"round\" style=\"stroke:white;stroke-width:4\"/><line x1=\"510.0\" y1=\"60.0\" x2=\"510.0\" y2=\"130.0\" stroke-linecap=\"round\" style=\"stroke:white;stroke-width:4\"/><line x1=\"510.0\" y1=\"130.0\" x2=\"580.0\" y2=\"130.0\" stroke-linecap=\"round\" style=\"stroke:white;stroke-width:4\"/><line x1=\"580.0\" y1=\"130.0\" x2=\"580.0\" y2=\"200.0\" stroke-linecap=\"round\" style=\"stroke:white;stroke-width:4\"/><line x1=\"580.0\" y1=\"200.0\" x2=\"650.0\" y2=\"200.0\" stroke-linecap=\"round\" style=\"stroke:white;stroke-width:4\"/><line x1=\"650.0\" y1=\"200.0\" x2=\"650.0\" y2=\"130.0\" stroke-linecap=\"round\" style=\"stroke:white;stroke-width:4\"/><line x1=\"650.0\" y1=\"130.0\" x2=\"580.0\" y2=\"130.0\" stroke-linecap=\"round\" style=\"stroke:white;stroke-width:4\"/><line x1=\"580.0\" y1=\"130.0\" x2=\"580.0\" y2=\"200.0\" stroke-linecap=\"round\" style=\"stroke:white;stroke-width:4\"/><line x1=\"580.0\" y1=\"200.0\" x2=\"510.0\" y2=\"200.0\" stroke-linecap=\"round\" style=\"stroke:white;stroke-width:4\"/><line x1=\"510.0\" y1=\"200.0\" x2=\"510.0\" y2=\"270.0\" stroke-linecap=\"round\" style=\"stroke:white;stroke-width:4\"/><line x1=\"510.0\" y1=\"270.0\" x2=\"580.0\" y2=\"270.0\" stroke-linecap=\"round\" style=\"stroke:white;stroke-width:4\"/><line x1=\"580.0\" y1=\"270.0\" x2=\"580.0\" y2=\"200.0\" stroke-linecap=\"round\" style=\"stroke:white;stroke-width:4\"/><line x1=\"580.0\" y1=\"200.0\" x2=\"510.0\" y2=\"200.0\" stroke-linecap=\"round\" style=\"stroke:white;stroke-width:4\"/>\n",
       "        <g visibility=visible transform=\"rotate(360.0,740.0,200.0) translate(722.0, 182.0)\">\n",
       "<path style=\" stroke:none;fill-rule:evenodd;fill:white;fill-opacity:1;\" d=\"M 18.214844 0.632812 C 16.109375 1.800781 15.011719 4.074219 15.074219 7.132812 L 15.085938 7.652344 L 14.785156 7.496094 C 13.476562 6.824219 11.957031 6.671875 10.40625 7.066406 C 8.46875 7.550781 6.515625 9.15625 4.394531 11.992188 C 3.0625 13.777344 2.679688 14.636719 3.042969 15.027344 L 3.15625 15.152344 L 3.519531 15.152344 C 4.238281 15.152344 4.828125 14.886719 8.1875 13.039062 C 9.386719 12.378906 10.371094 11.839844 10.378906 11.839844 C 10.386719 11.839844 10.355469 11.929688 10.304688 12.035156 C 9.832031 13.09375 9.257812 14.820312 8.96875 16.078125 C 7.914062 20.652344 8.617188 24.53125 11.070312 27.660156 C 11.351562 28.015625 11.363281 27.914062 10.972656 28.382812 C 8.925781 30.84375 7.945312 33.28125 8.238281 35.1875 C 8.289062 35.527344 8.28125 35.523438 8.917969 35.523438 C 10.941406 35.523438 13.074219 34.207031 15.136719 31.6875 C 15.359375 31.417969 15.328125 31.425781 15.5625 31.574219 C 16.292969 32.042969 18.023438 32.964844 18.175781 32.964844 C 18.335938 32.964844 19.941406 32.210938 20.828125 31.71875 C 20.996094 31.625 21.136719 31.554688 21.136719 31.558594 C 21.203125 31.664062 21.898438 32.414062 22.222656 32.730469 C 23.835938 34.300781 25.5625 35.132812 27.582031 35.300781 C 27.90625 35.328125 27.9375 35.308594 28.007812 34.984375 C 28.382812 33.242188 27.625 30.925781 25.863281 28.425781 L 25.542969 27.96875 L 25.699219 27.785156 C 28.945312 23.960938 29.132812 18.699219 26.257812 11.96875 L 26.207031 11.84375 L 27.945312 12.703125 C 31.53125 14.476562 32.316406 14.800781 33.03125 14.800781 C 33.976562 14.800781 33.78125 13.9375 32.472656 12.292969 C 28.519531 7.355469 25.394531 5.925781 21.921875 7.472656 L 21.558594 7.636719 L 21.578125 7.542969 C 21.699219 6.992188 21.761719 5.742188 21.699219 5.164062 C 21.496094 3.296875 20.664062 1.964844 19.003906 0.855469 C 18.480469 0.503906 18.457031 0.5 18.214844 0.632812\"/>\n",
       "</g>\n",
       "      </svg>\n",
       "    "
      ],
      "text/plain": [
       "<IPython.core.display.HTML object>"
      ]
     },
     "metadata": {},
     "output_type": "display_data"
    }
   ],
   "source": [
    "init(50, 200, 7)\n",
    "\n",
    "for edges, edges1, length in [(8, 4, 30), (6, 3, 50), (4, 4, 70)]:\n",
    "\n",
    "    star(edges, edges1, length)\n",
    "\n",
    "    shift(230)\n"
   ]
  }
 ],
 "metadata": {
  "kernelspec": {
   "display_name": "Python 3",
   "language": "python",
   "name": "python3"
  },
  "language_info": {
   "codemirror_mode": {
    "name": "ipython",
    "version": 3
   },
   "file_extension": ".py",
   "mimetype": "text/x-python",
   "name": "python",
   "nbconvert_exporter": "python",
   "pygments_lexer": "ipython3",
   "version": "3.12.0"
  }
 },
 "nbformat": 4,
 "nbformat_minor": 2
}
