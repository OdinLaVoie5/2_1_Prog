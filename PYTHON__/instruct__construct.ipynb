{
 "cells": [
  {
   "cell_type": "markdown",
   "metadata": {},
   "source": [
    "### ЦИКЛ"
   ]
  },
  {
   "cell_type": "code",
   "execution_count": null,
   "metadata": {},
   "outputs": [],
   "source": [
    "collection = [1, 2, 3, 4, 5, 6, 7, 8, 9, 10];\n",
    "n = 10;\n",
    "for i in collection:            # ((цикл перебор))   можно несколько    for i, j, k    in values\n",
    "    result = i ** i / n                # pass    если пустой \n",
    "    if result == 2.7: continue\n",
    "    # if result == 312.5: break\n",
    "    print(result )\n",
    "else:   # в цикле python   можно использовать  else       если в цикле выполнится break else не выполнится\n",
    "\t    print ('Хватит')\n"
   ]
  },
  {
   "cell_type": "markdown",
   "metadata": {},
   "source": [
    "###  РЕКУРСИЯ "
   ]
  },
  {
   "cell_type": "code",
   "execution_count": null,
   "metadata": {},
   "outputs": [],
   "source": [
    "def  func ( x ): \n",
    "     # если тело ф-ции пустое     - поставить   pass\n",
    "     if x>0: x = x + func(x-1)         \n",
    "     # ф-ция может вызывать себя (рекурсия)    \n",
    "     return x      \n",
    "\n",
    "func (2)\n"
   ]
  },
  {
   "cell_type": "markdown",
   "metadata": {},
   "source": [
    "#### Фибонначчи "
   ]
  },
  {
   "cell_type": "code",
   "execution_count": null,
   "metadata": {},
   "outputs": [],
   "source": [
    "# Фибоначчи\n",
    "n = 8   #int(input())  # THIS IS компактный питон !!!   нннн\n",
    "a, b = 1, 1\n",
    "for i in range(n):\n",
    "    print(a, end=' ')\n",
    "    a, b = b, a + b\n",
    "\n",
    "print()\n",
    "\n",
    "# Трибоначчи\n",
    "n =  10   #int(input()) \n",
    "a, b, c = 1, 1, 1\n",
    "for i in range(n):\n",
    "    print(a, end=' ')\n",
    "    a, b, c = b, c, a + b + c\n",
    "\n",
    "# рекурсия \n",
    "def fibonacci(n):\n",
    "    if n <= 0:\n",
    "        return \"Неверный ввод, n должно быть положительным целым числом\"\n",
    "    elif n == 1:\n",
    "        return 1\n",
    "    elif n == 2:\n",
    "        return 1\n",
    "    else:\n",
    "        return fibonacci(n-1) + fibonacci(n-2)\n",
    "\n",
    "print()\n",
    "print(fibonacci(5))\n",
    "\n",
    "\n",
    "# последовательность\n",
    "def fibonacci_sequence(n):\n",
    "    sequence = []\n",
    "    for i in range(1, n + 1):\n",
    "        sequence.append(fibonacci(i))\n",
    "    return sequence\n",
    "\n",
    "fibonacci_sequence(5)"
   ]
  },
  {
   "cell_type": "code",
   "execution_count": null,
   "metadata": {},
   "outputs": [],
   "source": [
    "# дубль \n",
    "import itertools\n",
    "\n",
    "def fib():\n",
    "    a, b = 0, 1\n",
    "    while True:\n",
    "        yield a\n",
    "        a, b = b, a + b\n",
    "\n",
    "value = next(itertools.islice(fib(), 100, 101))\n",
    "print(value)"
   ]
  },
  {
   "cell_type": "markdown",
   "metadata": {},
   "source": [
    "### (( инструкции в выражении ))"
   ]
  },
  {
   "cell_type": "code",
   "execution_count": null,
   "metadata": {},
   "outputs": [],
   "source": [
    "print([number**2 for number in range(5)])\n",
    "print({number: number**2 for number in range(5)})\n",
    "\n",
    "print([number**2 for number in range(5) if 1 <= number < 3])\n",
    "print([(x**2 if x > 2 else x*1000 if x < 2 else -1) for x in range(5)])\n",
    "\n",
    "\n",
    "x = 1\n",
    "x = x**2 if x > 2 else x*1000 if x < 2 else -1\n",
    "x\n"
   ]
  },
  {
   "cell_type": "code",
   "execution_count": null,
   "metadata": {},
   "outputs": [],
   "source": [
    "A = [\"A\", \"B\", \"C\"]\n",
    "B = [\"1\", \"2\", \"3\"]\n",
    "B1 = [\"-\", \"+\", \"_\", \"%\"]\n",
    "C = [a+b+b1 for a in A for b in B for b1 in B1]\n",
    "print(C)\n"
   ]
  },
  {
   "cell_type": "code",
   "execution_count": null,
   "metadata": {},
   "outputs": [],
   "source": [
    "for n, x in enumerate(\"ABCDEFG\", 1):\n",
    "    print(x, n)\n",
    "H = [x for x in zip(\"ABCDEFG\", \"1234567\", \"+++__++++_\")]\n",
    "H\n"
   ]
  },
  {
   "cell_type": "markdown",
   "metadata": {},
   "source": [
    "###  ДЕКОРАТОР"
   ]
  },
  {
   "cell_type": "code",
   "execution_count": null,
   "metadata": {},
   "outputs": [],
   "source": [
    "def my_decorator(func):   # декоратор\n",
    "    def wrapper():\n",
    "        print(\"Что-то происходит до вызова функции.\")\n",
    "        func()\n",
    "        print(\"Что-то происходит после вызова функции.\")\n",
    "    return wrapper\n",
    "\n",
    "\n",
    "@my_decorator\n",
    "def say_hello():\n",
    "    print(\"Привет!!!\")\n",
    "\n",
    "\n",
    "say_hello()\n",
    "\n",
    "\n",
    "\n"
   ]
  },
  {
   "cell_type": "markdown",
   "metadata": {},
   "source": [
    "###  локально  и   глобально    ?"
   ]
  },
  {
   "cell_type": "code",
   "execution_count": null,
   "metadata": {},
   "outputs": [],
   "source": [
    "# использовать умолчания     осторожно \n",
    "def fooo(mymy: list = ['zzzzzz']):\n",
    "    mymy.append(9)\n",
    "    print(mymy)\n",
    "\n",
    "\n",
    "fooo()\n",
    "fooo([7])\n",
    "mymy = [2, 2, 2]\n",
    "fooo()\n",
    "print(mymy)\n",
    "fooo()\n"
   ]
  },
  {
   "cell_type": "code",
   "execution_count": null,
   "metadata": {},
   "outputs": [],
   "source": [
    "def fooo1(mymy: list = None):\n",
    "    # if mymy is None: mymy = []\n",
    "    # mymy = [] if mymy is None else None\n",
    "    mymy = mymy or []\n",
    "    mymy.append(111)\n",
    "    print(mymy)\n",
    "    global jjj\n",
    "    jjj = \"ggg\"\n",
    "    print(jjj)\n",
    "\n",
    "\n",
    "fooo1()\n",
    "fooo1([9])\n",
    "fooo1()\n",
    "jjj = []\n",
    "fooo1(jjj)\n",
    "print(jjj)\n"
   ]
  },
  {
   "cell_type": "markdown",
   "metadata": {},
   "source": [
    "### мой модуль (в той же папке)"
   ]
  },
  {
   "cell_type": "code",
   "execution_count": null,
   "metadata": {},
   "outputs": [],
   "source": [
    "import mmm as ddd\n",
    "\n",
    "ddd.greeting(\"Jonathan\")\n",
    "ddd.greeting(\"Johan\")\n",
    "\n",
    "print(ddd.nnn['name'])\n",
    "dir(ddd)\n"
   ]
  },
  {
   "cell_type": "code",
   "execution_count": null,
   "metadata": {},
   "outputs": [],
   "source": [
    "for i in range(7,99,7):\n",
    "    print(i, end=\" \")    "
   ]
  },
  {
   "cell_type": "markdown",
   "metadata": {},
   "source": [
    "### ещё"
   ]
  },
  {
   "cell_type": "code",
   "execution_count": null,
   "metadata": {},
   "outputs": [],
   "source": [
    "%%html\n",
    "<html>\n",
    "<body>\n",
    "<table>\n",
    "\n",
    "<tr>\n",
    "<th>Name</th>\n",
    "<th>Country</th>\n",
    "<th>Age</th>\n",
    "</tr>\n",
    "<tr>\n",
    "<td>Sid</td>\n",
    "<td>India</td>\n",
    "<td>22</td>\n",
    "</tr>\n",
    "<tr>\n",
    "<td>Dave</td>\n",
    "<td>UK</td>\n",
    "<td>28</td>\n",
    "</tr>\n",
    "</table>\n",
    "</body>\n",
    "</html>"
   ]
  },
  {
   "cell_type": "code",
   "execution_count": null,
   "metadata": {},
   "outputs": [],
   "source": [
    "#  браузер\n",
    "import webbrowser\n",
    "webbrowser.open('clock.html')"
   ]
  },
  {
   "cell_type": "code",
   "execution_count": null,
   "metadata": {},
   "outputs": [],
   "source": [
    "for _ in [0,1]:\n",
    "     ...              # вместо pass ??"
   ]
  },
  {
   "cell_type": "code",
   "execution_count": null,
   "metadata": {},
   "outputs": [],
   "source": [
    "%%time    \n",
    "# УЗНАТЬ ВРЕМЯ ИСПОЛНЕНИЯ   ??  магические команды  jupiter \n",
    "\n",
    "my_list = [1, 2, 3, 4, 5]\n",
    "\n",
    "# Итерация по списку с использованием next()\n",
    "my_iterator = iter(my_list)\n",
    "\n",
    "print(next(my_iterator))  # 1\n",
    "print(next(my_iterator))  # 2\n",
    "print(next(my_iterator))  # 3\n",
    "\n",
    "# Использование значения по умолчанию при достижении конца списка\n",
    "print(next(my_iterator, \"Конец списка\"))  # 4\n",
    "print(next(my_iterator, \"Конец списка\"))  # 5\n",
    "print(next(my_iterator, \"Конец списка\"))  # Конец списка"
   ]
  },
  {
   "cell_type": "code",
   "execution_count": null,
   "metadata": {},
   "outputs": [],
   "source": [
    "#  ннннн  запуск другого  jupiter  \n",
    "\n",
    "%run ./math_/math.ipynb\n"
   ]
  },
  {
   "cell_type": "code",
   "execution_count": null,
   "metadata": {},
   "outputs": [],
   "source": [
    "from pprint import pprint\n",
    "# pretty print  отвечает за красивый вывод сложных структур данных\n",
    "pprint([1, 2, 3, 4, 5])"
   ]
  },
  {
   "cell_type": "code",
   "execution_count": null,
   "metadata": {},
   "outputs": [],
   "source": [
    "num = 7  # глобальная num\n",
    "\n",
    "def get_nam3():     # Так делать нельзя !!\n",
    "    # global num\n",
    "    num += 4   # Обявляется локальная num. Но не может инициализироваться.\n",
    "    return num\n",
    "\n",
    "\n",
    "get_nam3()\n",
    "num"
   ]
  },
  {
   "cell_type": "code",
   "execution_count": null,
   "metadata": {},
   "outputs": [],
   "source": [
    "def string_or_not(text):\n",
    "    return (isinstance(text, str) and 'yes' or 'no')\n",
    "\n",
    "string_or_not('text')"
   ]
  },
  {
   "cell_type": "code",
   "execution_count": null,
   "metadata": {},
   "outputs": [],
   "source": [
    "# можно свободно переносить -    достаточно заключить в скобки \n",
    "d = (77777 *\n",
    "     765    \n",
    "   + 888 )\n",
    "d"
   ]
  }
 ],
 "metadata": {
  "kernelspec": {
   "display_name": "Python 3",
   "language": "python",
   "name": "python3"
  },
  "language_info": {
   "codemirror_mode": {
    "name": "ipython",
    "version": 3
   },
   "file_extension": ".py",
   "mimetype": "text/x-python",
   "name": "python",
   "nbconvert_exporter": "python",
   "pygments_lexer": "ipython3",
   "version": "3.12.2"
  }
 },
 "nbformat": 4,
 "nbformat_minor": 2
}
