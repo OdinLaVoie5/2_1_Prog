{
 "cells": [
  {
   "cell_type": "code",
   "execution_count": null,
   "metadata": {},
   "outputs": [],
   "source": [
    "class Student:      # класс  (( конструктор ))\n",
    "    name = 'Alex'\n",
    "    age = 50\n",
    "    def fun(self, x):\n",
    "        return x*100\n",
    "\n",
    "a = Student()      # экземпляр (объект)\n",
    "\n",
    "print(Student.name, Student.age)\n",
    "print(type(a))\n",
    "print(type(Student))\n",
    "\n",
    "print(a.fun(5))  \n"
   ]
  },
  {
   "cell_type": "code",
   "execution_count": null,
   "metadata": {},
   "outputs": [],
   "source": [
    "class Foo:\n",
    "    def __neg__(self):    # (( переопределить встроенную ф-цию ))\n",
    "        return \":)\"\n",
    "    \n",
    "foo = Foo()\n",
    "print(-foo)"
   ]
  },
  {
   "cell_type": "code",
   "execution_count": null,
   "metadata": {},
   "outputs": [],
   "source": [
    "def mymy (x):\n",
    "    assert isinstance(x, int), 'x целый'\n",
    "    return x \n",
    "\n",
    "\n",
    "# mymy('1')"
   ]
  },
  {
   "cell_type": "markdown",
   "metadata": {},
   "source": [
    "###  ??? ВИЗУАЛИЗАЦИЯ (графы) ОБЪЕКТОВ ...  objgraph  и  Graphviz  "
   ]
  },
  {
   "cell_type": "code",
   "execution_count": 16,
   "metadata": {},
   "outputs": [
    {
     "name": "stdout",
     "output_type": "stream",
     "text": [
      "function          18599\n",
      "tuple             11155\n",
      "dict              9689\n",
      "method            5325\n",
      "list              4406\n",
      "ReferenceType     3913\n",
      "type              2609\n",
      "cell              2563\n",
      "getset_descriptor 2441\n",
      "member_descriptor 2017\n"
     ]
    }
   ],
   "source": [
    "import objgraph\n",
    "import math\n",
    "\n",
    "objgraph.show_most_common_types()"
   ]
  },
  {
   "cell_type": "code",
   "execution_count": 17,
   "metadata": {},
   "outputs": [
    {
     "name": "stdout",
     "output_type": "stream",
     "text": [
      "Graph written to C:\\Users\\Odins\\AppData\\Local\\Temp\\objgraph-d33v77g8.dot (7 nodes)\n",
      "Image generated as sample-graph.png\n"
     ]
    }
   ],
   "source": [
    "# создание ФАЙЛА с графом    + см uml\n",
    "import math\n",
    "import objgraph\n",
    "x = [1, 2, 3, [1, 2, 3, [1, 2, 3, [1, 2, 3, [1, 2, 3, [1, 2, 3, [1, 2, 3]]]]]]]\n",
    "\n",
    "objgraph.show_refs([x], filename='sample-graph.png')\n",
    "\n",
    "#  objgraph.show_refs(math, filename='sample-graph1.png')"
   ]
  },
  {
   "cell_type": "code",
   "execution_count": null,
   "metadata": {},
   "outputs": [],
   "source": [
    "#   пасхалки   )))\n",
    "import this\n",
    "love = this\n",
    "print(this is love)\n",
    "print(love is True)\n",
    "print(love is False)\n",
    "print(love is not True or False)\n",
    "print(love is not True or False); \n",
    "print(love is love)  \n",
    "\n",
    "''' для комстроки from __future__ import barry_as_FLUFL\n",
    "1 <> 2\n",
    "1 != 2'''"
   ]
  },
  {
   "cell_type": "code",
   "execution_count": 1,
   "metadata": {},
   "outputs": [
    {
     "name": "stdout",
     "output_type": "stream",
     "text": [
      "<bound method MyClass.hello of <__main__.MyClass object at 0x000001F8AC7D2660>>\n",
      "helloworld!\n"
     ]
    }
   ],
   "source": [
    "# ???   делаем запрос в класс по известной нам функции и функция возвращает ответ имя функции по которой мы должны обратится\n",
    "class MyClass:\n",
    "    def unknown_function(self):\n",
    "        return \"hello\"\n",
    "\n",
    "    def hello(self):\n",
    "        print (\"helloworld!\")\n",
    "\n",
    "# Создаем экземпляр класса\n",
    "instance = MyClass ()\n",
    "# Вызываем известную функцию, которая возвращает имя неизвестной функции\n",
    "known_function = instance.unknown_function()\n",
    "new_function = getattr(instance, known_function)\n",
    "print (new_function)\n",
    "new_function()"
   ]
  }
 ],
 "metadata": {
  "kernelspec": {
   "display_name": "Python 3",
   "language": "python",
   "name": "python3"
  },
  "language_info": {
   "codemirror_mode": {
    "name": "ipython",
    "version": 3
   },
   "file_extension": ".py",
   "mimetype": "text/x-python",
   "name": "python",
   "nbconvert_exporter": "python",
   "pygments_lexer": "ipython3",
   "version": "3.12.10"
  }
 },
 "nbformat": 4,
 "nbformat_minor": 2
}
