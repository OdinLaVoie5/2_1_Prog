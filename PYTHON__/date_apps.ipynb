{
 "cells": [
  {
   "cell_type": "markdown",
   "metadata": {},
   "source": [
    "### "
   ]
  },
  {
   "cell_type": "code",
   "execution_count": 6,
   "metadata": {},
   "outputs": [
    {
     "data": {
      "text/plain": [
       "True"
      ]
     },
     "execution_count": 6,
     "metadata": {},
     "output_type": "execute_result"
    }
   ],
   "source": [
    "# Високосный ли год?\n",
    "def is_leap_year(year):\n",
    "    return (year % 400 == 0) or (year % 4 == 0 and year % 100 != 0)\n",
    "\n",
    "is_leap_year(2024)\n"
   ]
  },
  {
   "cell_type": "code",
   "execution_count": 5,
   "metadata": {},
   "outputs": [
    {
     "name": "stdout",
     "output_type": "stream",
     "text": [
      "2024-01-24 15:38:49.162703\n",
      "2024\n",
      "Wednesday\n",
      "January\n",
      "01/24/24\n",
      "2020-05-17 00:00:00\n",
      "2024-01-24\n"
     ]
    }
   ],
   "source": [
    "import datetime\n",
    "x = datetime.datetime.now()\n",
    "print(x)\n",
    "print(x.year)\n",
    "print(x.strftime(\"%A\"))\n",
    "print(x.strftime(\"%B\"))\n",
    "print(x.strftime(\"%D\"))\n",
    "\n",
    "# создание объекта даты\n",
    "x = datetime.datetime(2020, 5, 17)\n",
    "print(x)\n",
    "\n",
    "print(datetime.date.today())\n"
   ]
  },
  {
   "cell_type": "code",
   "execution_count": 3,
   "metadata": {},
   "outputs": [
    {
     "name": "stdout",
     "output_type": "stream",
     "text": [
      "Hello\n",
      "Hello2\n"
     ]
    }
   ],
   "source": [
    "# время  ожидание   пауза\n",
    "\n",
    "from time import sleep\n",
    "import time\n",
    "time.sleep(3)\n",
    "print(\"Hello\")  \n",
    "\n",
    "sleep(1)\n",
    "print(\"Hello2\")"
   ]
  },
  {
   "cell_type": "code",
   "execution_count": 4,
   "metadata": {},
   "outputs": [
    {
     "name": "stdout",
     "output_type": "stream",
     "text": [
      "1 4 7\n",
      "2 1 9\n",
      "\n",
      "0 7 5\n",
      "1 4 7\n",
      "2 1 9\n"
     ]
    }
   ],
   "source": [
    "# возможные комбинации кол-ва месяцев разной длины     28i+30j+31k=365\n",
    "\n",
    "for i in range(1, 14):\n",
    "    for j in range(1, 13):\n",
    "        for k in range(1, 12):\n",
    "            if 28*i+30*j+31*k == 365:\n",
    "                print(i, j, k)\n",
    "\n",
    "print()\n",
    "\n",
    "for i in range(14):                   # от 0\n",
    "    for j in range(13):\n",
    "        for k in range(12):\n",
    "            if 28*i+30*j+31*k == 365:\n",
    "                print(i, j, k)"
   ]
  },
  {
   "cell_type": "code",
   "execution_count": 4,
   "metadata": {},
   "outputs": [
    {
     "name": "stdout",
     "output_type": "stream",
     "text": [
      "CPU times: total: 15.6 ms\n",
      "Wall time: 65.2 ms\n"
     ]
    }
   ],
   "source": [
    "%%time    \n",
    "# УЗНАТЬ ВРЕМЯ ИСПОЛНЕНИЯ   ??\n",
    "\n",
    "i = 0 \n",
    "for i in range(1000000):\n",
    "     i += 1"
   ]
  }
 ],
 "metadata": {
  "kernelspec": {
   "display_name": "Python 3",
   "language": "python",
   "name": "python3"
  },
  "language_info": {
   "codemirror_mode": {
    "name": "ipython",
    "version": 3
   },
   "file_extension": ".py",
   "mimetype": "text/x-python",
   "name": "python",
   "nbconvert_exporter": "python",
   "pygments_lexer": "ipython3",
   "version": "3.12.2"
  }
 },
 "nbformat": 4,
 "nbformat_minor": 2
}
