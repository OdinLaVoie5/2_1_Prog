{
 "cells": [
  {
   "cell_type": "markdown",
   "metadata": {},
   "source": [
    "###   STRING"
   ]
  },
  {
   "cell_type": "code",
   "execution_count": 2,
   "metadata": {},
   "outputs": [
    {
     "name": "stdout",
     "output_type": "stream",
     "text": [
      "hhh\n",
      "________hhh_________\n"
     ]
    },
    {
     "data": {
      "text/plain": [
       "'.................hhh'"
      ]
     },
     "execution_count": 2,
     "metadata": {},
     "output_type": "execute_result"
    }
   ],
   "source": [
    "# 'hhh'.encode() бинарная строка ??    \n",
    "print('01010200hhh'.lstrip(\"012\"))  # убрать в начале (слева) строки\n",
    "# умолч .lstrip()  - \" \"  т.е. убирает пробелы       \n",
    "\n",
    "\n",
    "print('hhh'.center(20, '_')) # center(width[, fillchar]) выровнять по центру   \n",
    "\n",
    "'hhh'.rjust(20, '.')  # выровнять по левому краю\n"
   ]
  },
  {
   "cell_type": "markdown",
   "metadata": {},
   "source": [
    "### Переворот строки"
   ]
  },
  {
   "cell_type": "code",
   "execution_count": 3,
   "metadata": {},
   "outputs": [
    {
     "name": "stdout",
     "output_type": "stream",
     "text": [
      "dlroW olleH\n"
     ]
    },
    {
     "data": {
      "text/plain": [
       "'ytrewq'"
      ]
     },
     "execution_count": 3,
     "metadata": {},
     "output_type": "execute_result"
    }
   ],
   "source": [
    "# Перевернуть строку\n",
    "txt = \"Hello World\"[::-1]\n",
    "print(txt)\n",
    "\n",
    "# вариант\n",
    "def reverse_string(text):\n",
    "    result = ''\n",
    "    for char in text:\n",
    "        result = char + result\n",
    "    return result\n",
    "\n",
    "reverse_string('qwerty')\n"
   ]
  },
  {
   "cell_type": "code",
   "execution_count": 4,
   "metadata": {},
   "outputs": [
    {
     "name": "stdout",
     "output_type": "stream",
     "text": [
      "посвяти своим огорчениям полчаса ежедневно и используй эти полчаса чтобы вздремнуть\n"
     ]
    }
   ],
   "source": [
    "# перевернуть порядок слов в предложении \n",
    "\n",
    "s = \"вздремнуть чтобы полчаса эти используй и ежедневно полчаса огорчениям своим посвяти\"\n",
    "# split first\n",
    "a = s.split()\n",
    "# reverse list\n",
    "a.reverse()\n",
    "# now join them\n",
    "result = \" \".join(a)\n",
    "# print it\n",
    "print(result)"
   ]
  },
  {
   "cell_type": "code",
   "execution_count": 5,
   "metadata": {},
   "outputs": [
    {
     "name": "stdout",
     "output_type": "stream",
     "text": [
      "123.40\n"
     ]
    }
   ],
   "source": [
    "# ФОРМАТИРОВАНИЕ ЧИСЕЛ  ...\n",
    "\n",
    "number = 123.4\n",
    "formatted_number = \"{:.2f}\".format(number)\n",
    "print(formatted_number)"
   ]
  },
  {
   "cell_type": "markdown",
   "metadata": {},
   "source": [
    "###  \n",
    "###   \n",
    "### f строки    +++"
   ]
  },
  {
   "cell_type": "code",
   "execution_count": 6,
   "metadata": {},
   "outputs": [
    {
     "name": "stdout",
     "output_type": "stream",
     "text": [
      "Здравствуй, Мир!\n",
      "\n",
      "На Луне Ваш вес составит 0.16666666666666666 часть от веса на Земле.\n",
      "Вот Луна а вот Земля а вот ещё Марс и наконец Венера.\n",
      "На Луне Ваш вес составит 0.1667 часть от веса на Земле.\n",
      "На   Луне    Ваш вес составит 0.17 часть от веса на Земле. Я на Луне.\n",
      "На Луне Ваш вес составит 1/6 часть от веса на Земле. Я на Луне.\n",
      "На Луне Ваш вес составит 0.167 часть от веса на Земле.\n",
      "На Луне Ваш вес составит 16.7% от веса на Земле.\n"
     ]
    }
   ],
   "source": [
    "# операция форматирования для строк   ??\n",
    "print(\"Здравствуй, %s!\" % \"Мир\")\n",
    "print()\n",
    "\n",
    "mass_percent = 1/6\n",
    "print(\"На Луне Ваш вес составит %s часть от веса на Земле.\" % mass_percent)\n",
    "print(\"\"\"Вот %s а вот %s а вот ещё %s и наконец %s.\"\"\" %(\"Луна\", \"Земля\", \"Марс\", \"Венера\"))\n",
    "print(\"На Луне Ваш вес составит {:.4f} часть от веса на Земле.\".format(mass_percent))  # {:.2f} округление\n",
    "print(\"\"\"На {0:^9} Ваш вес составит {1:.2f} часть от веса на {2}. Я на {0}.\"\"\".format(\"Луне\", mass_percent, \"Земле\"))  # {1:.2f} округление\n",
    "print(\"\"\"На {n} Ваш вес составит {p} часть от веса на {m}. Я на {n}.\"\"\".format(n=\"Луне\", p=\"1/6\", m=\"Земле\"))\n",
    "print(f\"На Луне Ваш вес составит {mass_percent:.3f} часть от веса на Земле.\")\n",
    "print(f\"На Луне Ваш вес составит {round(100/6, 1)}% от веса на Земле.\")\n",
    "\n"
   ]
  },
  {
   "cell_type": "code",
   "execution_count": 7,
   "metadata": {},
   "outputs": [
    {
     "name": "stdout",
     "output_type": "stream",
     "text": [
      "y\n"
     ]
    }
   ],
   "source": [
    "magic = '\\nyou'\n",
    "print(magic[1])\n"
   ]
  },
  {
   "cell_type": "code",
   "execution_count": 8,
   "metadata": {},
   "outputs": [
    {
     "name": "stdout",
     "output_type": "stream",
     "text": [
      "\n"
     ]
    }
   ],
   "source": [
    "# строку повторить 0 раз\n",
    "print('rrr ' * 0)\n"
   ]
  },
  {
   "cell_type": "markdown",
   "metadata": {},
   "source": [
    "### Цвета"
   ]
  },
  {
   "cell_type": "code",
   "execution_count": 9,
   "metadata": {},
   "outputs": [
    {
     "name": "stdout",
     "output_type": "stream",
     "text": [
      "before: \u001b[6;30;40mThis text uses 6;30;40 .\u001b[0m :end\n",
      "before: \u001b[6;30;41mThis text uses 6;30;41 .\u001b[0m :end\n",
      "before: \u001b[6;30;42mThis text uses 6;30;42 .\u001b[0m :end\n",
      "before: \u001b[6;30;43mThis text uses 6;30;43 .\u001b[0m :end\n",
      "before: \u001b[6;30;44mThis text uses 6;30;44 .\u001b[0m :end\n",
      "before: \u001b[6;30;45mThis text uses 6;30;45 .\u001b[0m :end\n",
      "before: \u001b[6;30;46mThis text uses 6;30;46 .\u001b[0m :end\n",
      "before: \u001b[6;30;47mThis text uses 6;30;47 .\u001b[0m :end\n",
      "before: \u001b[6;31;40mThis text uses 6;31;40 .\u001b[0m :end\n",
      "before: \u001b[6;31;41mThis text uses 6;31;41 .\u001b[0m :end\n",
      "before: \u001b[6;31;42mThis text uses 6;31;42 .\u001b[0m :end\n",
      "before: \u001b[6;31;43mThis text uses 6;31;43 .\u001b[0m :end\n",
      "before: \u001b[6;31;44mThis text uses 6;31;44 .\u001b[0m :end\n",
      "before: \u001b[6;31;45mThis text uses 6;31;45 .\u001b[0m :end\n",
      "before: \u001b[6;31;46mThis text uses 6;31;46 .\u001b[0m :end\n",
      "before: \u001b[6;31;47mThis text uses 6;31;47 .\u001b[0m :end\n",
      "before: \u001b[6;32;40mThis text uses 6;32;40 .\u001b[0m :end\n",
      "before: \u001b[6;32;41mThis text uses 6;32;41 .\u001b[0m :end\n",
      "before: \u001b[6;32;42mThis text uses 6;32;42 .\u001b[0m :end\n",
      "before: \u001b[6;32;43mThis text uses 6;32;43 .\u001b[0m :end\n",
      "before: \u001b[6;32;44mThis text uses 6;32;44 .\u001b[0m :end\n",
      "before: \u001b[6;32;45mThis text uses 6;32;45 .\u001b[0m :end\n",
      "before: \u001b[6;32;46mThis text uses 6;32;46 .\u001b[0m :end\n",
      "before: \u001b[6;32;47mThis text uses 6;32;47 .\u001b[0m :end\n",
      "before: \u001b[6;33;40mThis text uses 6;33;40 .\u001b[0m :end\n",
      "before: \u001b[6;33;41mThis text uses 6;33;41 .\u001b[0m :end\n",
      "before: \u001b[6;33;42mThis text uses 6;33;42 .\u001b[0m :end\n",
      "before: \u001b[6;33;43mThis text uses 6;33;43 .\u001b[0m :end\n",
      "before: \u001b[6;33;44mThis text uses 6;33;44 .\u001b[0m :end\n",
      "before: \u001b[6;33;45mThis text uses 6;33;45 .\u001b[0m :end\n",
      "before: \u001b[6;33;46mThis text uses 6;33;46 .\u001b[0m :end\n",
      "before: \u001b[6;33;47mThis text uses 6;33;47 .\u001b[0m :end\n",
      "before: \u001b[6;34;40mThis text uses 6;34;40 .\u001b[0m :end\n",
      "before: \u001b[6;34;41mThis text uses 6;34;41 .\u001b[0m :end\n",
      "before: \u001b[6;34;42mThis text uses 6;34;42 .\u001b[0m :end\n",
      "before: \u001b[6;34;43mThis text uses 6;34;43 .\u001b[0m :end\n",
      "before: \u001b[6;34;44mThis text uses 6;34;44 .\u001b[0m :end\n",
      "before: \u001b[6;34;45mThis text uses 6;34;45 .\u001b[0m :end\n",
      "before: \u001b[6;34;46mThis text uses 6;34;46 .\u001b[0m :end\n",
      "before: \u001b[6;34;47mThis text uses 6;34;47 .\u001b[0m :end\n",
      "before: \u001b[6;35;40mThis text uses 6;35;40 .\u001b[0m :end\n",
      "before: \u001b[6;35;41mThis text uses 6;35;41 .\u001b[0m :end\n",
      "before: \u001b[6;35;42mThis text uses 6;35;42 .\u001b[0m :end\n",
      "before: \u001b[6;35;43mThis text uses 6;35;43 .\u001b[0m :end\n",
      "before: \u001b[6;35;44mThis text uses 6;35;44 .\u001b[0m :end\n",
      "before: \u001b[6;35;45mThis text uses 6;35;45 .\u001b[0m :end\n",
      "before: \u001b[6;35;46mThis text uses 6;35;46 .\u001b[0m :end\n",
      "before: \u001b[6;35;47mThis text uses 6;35;47 .\u001b[0m :end\n",
      "before: \u001b[6;36;40mThis text uses 6;36;40 .\u001b[0m :end\n",
      "before: \u001b[6;36;41mThis text uses 6;36;41 .\u001b[0m :end\n",
      "before: \u001b[6;36;42mThis text uses 6;36;42 .\u001b[0m :end\n",
      "before: \u001b[6;36;43mThis text uses 6;36;43 .\u001b[0m :end\n",
      "before: \u001b[6;36;44mThis text uses 6;36;44 .\u001b[0m :end\n",
      "before: \u001b[6;36;45mThis text uses 6;36;45 .\u001b[0m :end\n",
      "before: \u001b[6;36;46mThis text uses 6;36;46 .\u001b[0m :end\n",
      "before: \u001b[6;36;47mThis text uses 6;36;47 .\u001b[0m :end\n",
      "before: \u001b[6;37;40mThis text uses 6;37;40 .\u001b[0m :end\n",
      "before: \u001b[6;37;41mThis text uses 6;37;41 .\u001b[0m :end\n",
      "before: \u001b[6;37;42mThis text uses 6;37;42 .\u001b[0m :end\n",
      "before: \u001b[6;37;43mThis text uses 6;37;43 .\u001b[0m :end\n",
      "before: \u001b[6;37;44mThis text uses 6;37;44 .\u001b[0m :end\n",
      "before: \u001b[6;37;45mThis text uses 6;37;45 .\u001b[0m :end\n",
      "before: \u001b[6;37;46mThis text uses 6;37;46 .\u001b[0m :end\n",
      "before: \u001b[6;37;47mThis text uses 6;37;47 .\u001b[0m :end\n"
     ]
    }
   ],
   "source": [
    "#    ЦВЕТА ЦВЕТА ЦВЕТА      Ураааа ааа        \"\\033[6;30;40m\" + 'блабла' + \"\\033[0m\")\n",
    "\n",
    "print(\"before: \" + \"\\033[6;30;40m\" + \"This text uses 6;30;40 .\" + \"\\033[0m\" + \" :end\")\n",
    "print(\"before: \" + \"\\033[6;30;41m\" + \"This text uses 6;30;41 .\" + \"\\033[0m\" + \" :end\")\n",
    "print(\"before: \" + \"\\033[6;30;42m\" + \"This text uses 6;30;42 .\" + \"\\033[0m\" + \" :end\")\n",
    "print(\"before: \" + \"\\033[6;30;43m\" + \"This text uses 6;30;43 .\" + \"\\033[0m\" + \" :end\")\n",
    "print(\"before: \" + \"\\033[6;30;44m\" + \"This text uses 6;30;44 .\" + \"\\033[0m\" + \" :end\")\n",
    "print(\"before: \" + \"\\033[6;30;45m\" + \"This text uses 6;30;45 .\" + \"\\033[0m\" + \" :end\")\n",
    "print(\"before: \" + \"\\033[6;30;46m\" + \"This text uses 6;30;46 .\" + \"\\033[0m\" + \" :end\")\n",
    "print(\"before: \" + \"\\033[6;30;47m\" + \"This text uses 6;30;47 .\" + \"\\033[0m\" + \" :end\")\n",
    "print(\"before: \" + \"\\033[6;31;40m\" + \"This text uses 6;31;40 .\" + \"\\033[0m\" + \" :end\")\n",
    "print(\"before: \" + \"\\033[6;31;41m\" + \"This text uses 6;31;41 .\" + \"\\033[0m\" + \" :end\")\n",
    "print(\"before: \" + \"\\033[6;31;42m\" + \"This text uses 6;31;42 .\" + \"\\033[0m\" + \" :end\")\n",
    "print(\"before: \" + \"\\033[6;31;43m\" + \"This text uses 6;31;43 .\" + \"\\033[0m\" + \" :end\")\n",
    "print(\"before: \" + \"\\033[6;31;44m\" + \"This text uses 6;31;44 .\" + \"\\033[0m\" + \" :end\")\n",
    "print(\"before: \" + \"\\033[6;31;45m\" + \"This text uses 6;31;45 .\" + \"\\033[0m\" + \" :end\")\n",
    "print(\"before: \" + \"\\033[6;31;46m\" + \"This text uses 6;31;46 .\" + \"\\033[0m\" + \" :end\")\n",
    "print(\"before: \" + \"\\033[6;31;47m\" + \"This text uses 6;31;47 .\" + \"\\033[0m\" + \" :end\")\n",
    "print(\"before: \" + \"\\033[6;32;40m\" + \"This text uses 6;32;40 .\" + \"\\033[0m\" + \" :end\")\n",
    "print(\"before: \" + \"\\033[6;32;41m\" + \"This text uses 6;32;41 .\" + \"\\033[0m\" + \" :end\")\n",
    "print(\"before: \" + \"\\033[6;32;42m\" + \"This text uses 6;32;42 .\" + \"\\033[0m\" + \" :end\")\n",
    "print(\"before: \" + \"\\033[6;32;43m\" + \"This text uses 6;32;43 .\" + \"\\033[0m\" + \" :end\")\n",
    "print(\"before: \" + \"\\033[6;32;44m\" + \"This text uses 6;32;44 .\" + \"\\033[0m\" + \" :end\")\n",
    "print(\"before: \" + \"\\033[6;32;45m\" + \"This text uses 6;32;45 .\" + \"\\033[0m\" + \" :end\")\n",
    "print(\"before: \" + \"\\033[6;32;46m\" + \"This text uses 6;32;46 .\" + \"\\033[0m\" + \" :end\")\n",
    "print(\"before: \" + \"\\033[6;32;47m\" + \"This text uses 6;32;47 .\" + \"\\033[0m\" + \" :end\")\n",
    "print(\"before: \" + \"\\033[6;33;40m\" + \"This text uses 6;33;40 .\" + \"\\033[0m\" + \" :end\")\n",
    "print(\"before: \" + \"\\033[6;33;41m\" + \"This text uses 6;33;41 .\" + \"\\033[0m\" + \" :end\")\n",
    "print(\"before: \" + \"\\033[6;33;42m\" + \"This text uses 6;33;42 .\" + \"\\033[0m\" + \" :end\")\n",
    "print(\"before: \" + \"\\033[6;33;43m\" + \"This text uses 6;33;43 .\" + \"\\033[0m\" + \" :end\")\n",
    "print(\"before: \" + \"\\033[6;33;44m\" + \"This text uses 6;33;44 .\" + \"\\033[0m\" + \" :end\")\n",
    "print(\"before: \" + \"\\033[6;33;45m\" + \"This text uses 6;33;45 .\" + \"\\033[0m\" + \" :end\")\n",
    "print(\"before: \" + \"\\033[6;33;46m\" + \"This text uses 6;33;46 .\" + \"\\033[0m\" + \" :end\")\n",
    "print(\"before: \" + \"\\033[6;33;47m\" + \"This text uses 6;33;47 .\" + \"\\033[0m\" + \" :end\")\n",
    "print(\"before: \" + \"\\033[6;34;40m\" + \"This text uses 6;34;40 .\" + \"\\033[0m\" + \" :end\")\n",
    "print(\"before: \" + \"\\033[6;34;41m\" + \"This text uses 6;34;41 .\" + \"\\033[0m\" + \" :end\")\n",
    "print(\"before: \" + \"\\033[6;34;42m\" + \"This text uses 6;34;42 .\" + \"\\033[0m\" + \" :end\")\n",
    "print(\"before: \" + \"\\033[6;34;43m\" + \"This text uses 6;34;43 .\" + \"\\033[0m\" + \" :end\")\n",
    "print(\"before: \" + \"\\033[6;34;44m\" + \"This text uses 6;34;44 .\" + \"\\033[0m\" + \" :end\")\n",
    "print(\"before: \" + \"\\033[6;34;45m\" + \"This text uses 6;34;45 .\" + \"\\033[0m\" + \" :end\")\n",
    "print(\"before: \" + \"\\033[6;34;46m\" + \"This text uses 6;34;46 .\" + \"\\033[0m\" + \" :end\")\n",
    "print(\"before: \" + \"\\033[6;34;47m\" + \"This text uses 6;34;47 .\" + \"\\033[0m\" + \" :end\")\n",
    "print(\"before: \" + \"\\033[6;35;40m\" + \"This text uses 6;35;40 .\" + \"\\033[0m\" + \" :end\")\n",
    "print(\"before: \" + \"\\033[6;35;41m\" + \"This text uses 6;35;41 .\" + \"\\033[0m\" + \" :end\")\n",
    "print(\"before: \" + \"\\033[6;35;42m\" + \"This text uses 6;35;42 .\" + \"\\033[0m\" + \" :end\")\n",
    "print(\"before: \" + \"\\033[6;35;43m\" + \"This text uses 6;35;43 .\" + \"\\033[0m\" + \" :end\")\n",
    "print(\"before: \" + \"\\033[6;35;44m\" + \"This text uses 6;35;44 .\" + \"\\033[0m\" + \" :end\")\n",
    "print(\"before: \" + \"\\033[6;35;45m\" + \"This text uses 6;35;45 .\" + \"\\033[0m\" + \" :end\")\n",
    "print(\"before: \" + \"\\033[6;35;46m\" + \"This text uses 6;35;46 .\" + \"\\033[0m\" + \" :end\")\n",
    "print(\"before: \" + \"\\033[6;35;47m\" + \"This text uses 6;35;47 .\" + \"\\033[0m\" + \" :end\")\n",
    "print(\"before: \" + \"\\033[6;36;40m\" + \"This text uses 6;36;40 .\" + \"\\033[0m\" + \" :end\")\n",
    "print(\"before: \" + \"\\033[6;36;41m\" + \"This text uses 6;36;41 .\" + \"\\033[0m\" + \" :end\")\n",
    "print(\"before: \" + \"\\033[6;36;42m\" + \"This text uses 6;36;42 .\" + \"\\033[0m\" + \" :end\")\n",
    "print(\"before: \" + \"\\033[6;36;43m\" + \"This text uses 6;36;43 .\" + \"\\033[0m\" + \" :end\")\n",
    "print(\"before: \" + \"\\033[6;36;44m\" + \"This text uses 6;36;44 .\" + \"\\033[0m\" + \" :end\")\n",
    "print(\"before: \" + \"\\033[6;36;45m\" + \"This text uses 6;36;45 .\" + \"\\033[0m\" + \" :end\")\n",
    "print(\"before: \" + \"\\033[6;36;46m\" + \"This text uses 6;36;46 .\" + \"\\033[0m\" + \" :end\")\n",
    "print(\"before: \" + \"\\033[6;36;47m\" + \"This text uses 6;36;47 .\" + \"\\033[0m\" + \" :end\")\n",
    "print(\"before: \" + \"\\033[6;37;40m\" + \"This text uses 6;37;40 .\" + \"\\033[0m\" + \" :end\")\n",
    "print(\"before: \" + \"\\033[6;37;41m\" + \"This text uses 6;37;41 .\" + \"\\033[0m\" + \" :end\")\n",
    "print(\"before: \" + \"\\033[6;37;42m\" + \"This text uses 6;37;42 .\" + \"\\033[0m\" + \" :end\")\n",
    "print(\"before: \" + \"\\033[6;37;43m\" + \"This text uses 6;37;43 .\" + \"\\033[0m\" + \" :end\")\n",
    "print(\"before: \" + \"\\033[6;37;44m\" + \"This text uses 6;37;44 .\" + \"\\033[0m\" + \" :end\")\n",
    "print(\"before: \" + \"\\033[6;37;45m\" + \"This text uses 6;37;45 .\" + \"\\033[0m\" + \" :end\")\n",
    "print(\"before: \" + \"\\033[6;37;46m\" + \"This text uses 6;37;46 .\" + \"\\033[0m\" + \" :end\")\n",
    "print(\"before: \" + \"\\033[6;37;47m\" + \"This text uses 6;37;47 .\" + \"\\033[0m\" + \" :end\")"
   ]
  },
  {
   "cell_type": "markdown",
   "metadata": {},
   "source": [
    "### ещё"
   ]
  },
  {
   "cell_type": "code",
   "execution_count": 10,
   "metadata": {},
   "outputs": [
    {
     "name": "stdout",
     "output_type": "stream",
     "text": [
      "\\\n",
      "92\n"
     ]
    }
   ],
   "source": [
    "print(chr(92))\n",
    "print(ord('\\\\'))"
   ]
  },
  {
   "cell_type": "code",
   "execution_count": 11,
   "metadata": {},
   "outputs": [
    {
     "name": "stdout",
     "output_type": "stream",
     "text": [
      "110001\n",
      "1\n"
     ]
    }
   ],
   "source": [
    "# Text to binary \n",
    "text = input()\n",
    "binary_text = ' '.join([(bin(ord(i))[2:]) for i in text])\n",
    "print((binary_text))\n",
    "\n",
    "# Binary to text  # binary_text = input()\n",
    "text_decoded = ''.join([(chr(int(i, 2))) for i in binary_text.split(\" \")])\n",
    "print((text_decoded))"
   ]
  },
  {
   "cell_type": "code",
   "execution_count": 12,
   "metadata": {},
   "outputs": [
    {
     "name": "stdout",
     "output_type": "stream",
     "text": [
      "Encoded: 0J/RgNGD0LLRjdGCLCDQkdCw0LfQsDY0IQ==\n",
      "Decoded: Прувэт, База64!\n"
     ]
    }
   ],
   "source": [
    "import base64\n",
    "\n",
    "text = \"Прувэт, База64!\"\n",
    "# Кодирование текста в формат Base64\n",
    "encoded_bytes = base64.b64encode(text.encode('utf-8'))\n",
    "encoded_text = encoded_bytes.decode('utf-8')\n",
    "\n",
    "print(\"Encoded:\", encoded_text)\n",
    "\n",
    "\n",
    "# Декодирование из Base64 обратно в исходный текст\n",
    "decoded_bytes = base64.b64decode(encoded_text.encode('utf-8'))\n",
    "decoded_text = decoded_bytes.decode('utf-8')\n",
    "\n",
    "print(\"Decoded:\", decoded_text)"
   ]
  },
  {
   "cell_type": "code",
   "execution_count": 13,
   "metadata": {},
   "outputs": [
    {
     "name": "stdout",
     "output_type": "stream",
     "text": [
      "\n",
      "Просто переменная: Привет\n",
      "Экранируем префикс: $\n",
      "Переменная в тексте: квадрокоптер.\n",
      "\n",
      "abcdefghijklmnopqrstuvwxyzABCDEFGHIJKLMNOPQRSTUVWXYZ\n",
      "ABCDEFGHIJKLMNOPQRSTUVWXYZ\n",
      "abcdefghijklmnopqrstuvwxyz\n",
      "0123456789\n",
      "0123456789abcdefABCDEF\n",
      "01234567\n",
      "!\"#$%&'()*+,-./:;<=>?@[\\]^_`{|}~\n",
      "0123456789abcdefghijklmnopqrstuvwxyzABCDEFGHIJKLMNOPQRSTUVWXYZ!\"#$%&'()*+,-./:;<=>?@[\\]^_`{|}~ \t\n",
      "\u000b\f\n"
     ]
    }
   ],
   "source": [
    "import string\n",
    "\n",
    "values = {'one': 'Привет', 'two': 'коп'}\n",
    "\n",
    "t = string.Template(\"\"\"\n",
    "Просто переменная: $one\n",
    "Экранируем префикс: $$\n",
    "Переменная в тексте: квадро${two}тер.\n",
    "\"\"\")\n",
    "\n",
    "print(t.substitute(values))\n",
    "\n",
    "\n",
    "print(string.ascii_letters)\n",
    "print(string.ascii_uppercase)\n",
    "print(string.ascii_lowercase)\n",
    "print(string.digits)\n",
    "print(string.hexdigits)\n",
    "print(string.octdigits)\n",
    "print(string.punctuation)\n",
    "print(string.printable)"
   ]
  }
 ],
 "metadata": {
  "kernelspec": {
   "display_name": "Python 3",
   "language": "python",
   "name": "python3"
  },
  "language_info": {
   "codemirror_mode": {
    "name": "ipython",
    "version": 3
   },
   "file_extension": ".py",
   "mimetype": "text/x-python",
   "name": "python",
   "nbconvert_exporter": "python",
   "pygments_lexer": "ipython3",
   "version": "3.12.10"
  }
 },
 "nbformat": 4,
 "nbformat_minor": 2
}
