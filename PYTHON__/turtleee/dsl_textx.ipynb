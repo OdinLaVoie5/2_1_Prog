{
 "cells": [
  {
   "cell_type": "markdown",
   "metadata": {},
   "source": [
    "### DSL  спец текстовые языки ((самодельные,  под свои нужды))  очень интересно но нихера не понятно\n"
   ]
  },
  {
   "cell_type": "code",
   "execution_count": 3,
   "metadata": {},
   "outputs": [
    {
     "name": "stdout",
     "output_type": "stream",
     "text": [
      "<textx:MoveTo instance at 0x2471f381fd0>\n",
      "<textx:LineTo instance at 0x2471f382000>\n",
      "<textx:Circle instance at 0x2471f33dd60>\n",
      "<textx:LineTo instance at 0x2471f382090>\n"
     ]
    }
   ],
   "source": [
    "from textx import metamodel_from_str\n",
    "\n",
    "grammar = \"\"\"\n",
    "Model: commands*=DrawCommand;\n",
    "DrawCommand: MoveCommand | ShapeCommand;\n",
    "ShapeCommand: LineTo | Circle;\n",
    "MoveCommand: MoveTo | MoveBy;\n",
    "MoveTo: 'move' 'to' position=Point;\n",
    "MoveBy: 'move' 'by' vector=Point;\n",
    "Circle: 'circle' radius=INT;\n",
    "LineTo: 'line' 'to' point=Point;\n",
    "Point: x=INT ',' y=INT;\n",
    "\"\"\"\n",
    "\n",
    "mm = metamodel_from_str(grammar)\n",
    "model_str = \"move to 5, 10\\nline to 10, 10\\ncircle 10\\nline to 10, 10\"\n",
    "model = mm.model_from_str(model_str)\n",
    "\n",
    "for command in model.commands:\n",
    "    print(command)"
   ]
  },
  {
   "cell_type": "code",
   "execution_count": 2,
   "metadata": {},
   "outputs": [
    {
     "name": "stdout",
     "output_type": "stream",
     "text": [
      "Перемещение в позицию 5,10\n",
      "Конечная позиция 5,10\n",
      "Рисуем линию от 5,10 до 10,10\n",
      "Конечная позиция 10,10\n",
      "Рисуем линию от 10,10 до 20,20\n",
      "Конечная позиция 20,20\n",
      "Перемещение на 5,-7 в новую позицию 25,13\n",
      "Конечная позиция 25,13\n",
      "Рисуем круг в 25,13 с радиусом 10\n",
      "Конечная позиция 25,13\n",
      "Рисуем линию от 25,13 до 10,10\n",
      "Конечная позиция 10,10\n"
     ]
    }
   ],
   "source": [
    "from textx import metamodel_from_str, get_children_of_type\n",
    "\n",
    "grammar = \"\"\"\n",
    "Model: commands*=DrawCommand;\n",
    "DrawCommand: MoveCommand | ShapeCommand;\n",
    "ShapeCommand: LineTo | Circle;\n",
    "MoveCommand: MoveTo | MoveBy;\n",
    "MoveTo: 'move' 'to' position=Point;\n",
    "MoveBy: 'move' 'by' vector=Point;\n",
    "Circle: 'circle' radius=INT;\n",
    "LineTo: 'line' 'to' point=Point;\n",
    "Point: x=INT ',' y=INT;\n",
    "\"\"\"\n",
    "\n",
    "# Предоставим свой класс для Point.\n",
    "# Классы для других правил будут динамически созданы.\n",
    "\n",
    "\n",
    "class Point:\n",
    "    def __init__(self, parent, x, y):\n",
    "        self.parent = parent\n",
    "        self.x = x\n",
    "        self.y = y\n",
    "\n",
    "    def __str__(self):\n",
    "        return \"{},{}\".format(self.x, self.y)\n",
    "\n",
    "    def __add__(self, other):\n",
    "        return Point(self.parent, self.x + other.x, self.y + other.y)\n",
    "\n",
    "\n",
    "# Создадим мета-модель на основе грамматики.\n",
    "# Предоставим класс Point для правила Point из грамматики.\n",
    "mm = metamodel_from_str(grammar, classes=[Point])\n",
    "\n",
    "model_str = \"\"\"\n",
    "    move to 5, 10\n",
    "    line to 10, 10\n",
    "    line to 20, 20\n",
    "    move by 5, -7\n",
    "    circle 10\n",
    "    line to 10, 10\n",
    "\"\"\"\n",
    "\n",
    "# Мета-модель знает, как разбирать и создавать экземпляры моделей.\n",
    "model = mm.model_from_str(model_str)\n",
    "\n",
    "# В этот момент модель – это обычный объект Python с экземплярами динамически созданных классов и атрибутов, соответствующих грамматике.\n",
    "\n",
    "\n",
    "def cname(o):\n",
    "    return o.__class__.__name__\n",
    "\n",
    "\n",
    "# Давайте интерпретируем модель\n",
    "position = Point(None, 0, 0)\n",
    "for command in model.commands:\n",
    "    if cname(command) == 'MoveTo':\n",
    "        print('Перемещение в позицию', command.position)\n",
    "        position = command.position\n",
    "    elif cname(command) == 'MoveBy':\n",
    "        position = position + command.vector\n",
    "        print('Перемещение на', command.vector, 'в новую позицию', position)\n",
    "    elif cname(command) == 'Circle':\n",
    "        print('Рисуем круг в', position, 'с радиусом', command.radius)\n",
    "    else:\n",
    "        print('Рисуем линию от', position, 'до', command.point)\n",
    "        position = command.point\n",
    "    print('Конечная позиция', position)\n",
    "\n",
    "# Вывод:\n",
    "# Перемещение в позицию 5,10\n",
    "# Рисуем линию от 5,10 до 10,10\n",
    "# Рисуем линию от 10,10 до 20,"
   ]
  }
 ],
 "metadata": {
  "kernelspec": {
   "display_name": "Python 3",
   "language": "python",
   "name": "python3"
  },
  "language_info": {
   "codemirror_mode": {
    "name": "ipython",
    "version": 3
   },
   "file_extension": ".py",
   "mimetype": "text/x-python",
   "name": "python",
   "nbconvert_exporter": "python",
   "pygments_lexer": "ipython3",
   "version": "3.12.2"
  }
 },
 "nbformat": 4,
 "nbformat_minor": 2
}
