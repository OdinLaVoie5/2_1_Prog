{
 "cells": [
  {
   "cell_type": "code",
   "execution_count": null,
   "metadata": {},
   "outputs": [],
   "source": [
    "# put your python code here\n",
    "s = '2345'  #  input()\n",
    "print(f'Цифра в позиции тысяч равна {s[0]}')\n",
    "print(f'Цифра в позиции сотен равна {s[1]}')\n",
    "print(f'Цифра в позиции десятков равна {s[2]}')\n",
    "print(f'Цифра в позиции единиц равна {s[3]}')"
   ]
  },
  {
   "cell_type": "code",
   "execution_count": null,
   "metadata": {},
   "outputs": [],
   "source": [
    "print(\"The world's a little blurry\", \"Or maybe it's my eyes\", end='!!!', sep=' :) ')"
   ]
  },
  {
   "cell_type": "code",
   "execution_count": null,
   "metadata": {},
   "outputs": [],
   "source": [
    "#  CКОЛЬКО СУЩЕСТВУЕТ 6-ЗНАЧНЫХ ЧИСЕЛ, В ЗАПИСИ КОТОРЫХ ЕСТЬ ХОТЯ БЫ ОДНА ЧЕТНАЯ ЦИФРА?\n",
    "\n",
    "total = 0\n",
    "\n",
    "for i in range(100000,1000000):\n",
    "    a = list(str(i))\n",
    "    if ('0' in a) or ('2' in a) or ('4' in a) or ('6' in a) or ('8' in a):\n",
    "        total += 1\n",
    "\n",
    "print(total)\n",
    "\n",
    "\n",
    "#  Сколько существует 9-значных чисел, сумма цифр которых четна?\n",
    "\n",
    "total = 0\n",
    "\n",
    "for i in range(100000000, 1000000000):\n",
    "    a = list(str(i))\n",
    "    b = list(map(int,a))\n",
    "    c = sum(b)\n",
    "    if c%2 == 0:\n",
    "        total += 1\n",
    "\n",
    "print(total)  #  считает 23 минуты "
   ]
  },
  {
   "cell_type": "markdown",
   "metadata": {},
   "source": [
    "### Монеты (динамическое програмирование  ?)\n",
    "(жадный алгоритм работает не всегда)"
   ]
  },
  {
   "cell_type": "code",
   "execution_count": null,
   "metadata": {},
   "outputs": [],
   "source": [
    "# ВЕДЬМАКУ ЗАПЛАТИТЕ ЧЕКАННОЙ МОНЕТОЙ price   (сколько min  монет 25, 10, 5, 1) сдача ?\n",
    "\n",
    "price = 357    # int(input())\n",
    "gold_list = [25, 10, 5, 1]\n",
    "price_list = []\n",
    "i = 0\n",
    "\n",
    "while price:\n",
    "    n = price // gold_list[i]\n",
    "    price_list.append(n)\n",
    "    price = price % gold_list[i]\n",
    "    i += 1\n",
    "\n",
    "print(sum(price_list))"
   ]
  },
  {
   "cell_type": "markdown",
   "metadata": {},
   "source": [
    "### ?  пересечение строк ?"
   ]
  },
  {
   "cell_type": "code",
   "execution_count": null,
   "metadata": {},
   "outputs": [],
   "source": [
    "# СОЕДИНЕНИЕ ИМЁН И  ПЕРЕСЕЧЕНИЕ       КатеРинат  'катерина', 'ринат'\n",
    "# сделать ?   выделение последней/их букв\n",
    "# сделать ?  др ф-цию -  нахождение общих частей различной длины \n",
    "\n",
    "imya, familia = 'cosmos', 'mosfercos'          # input(), input()\n",
    "imya, familia = imya.lower().replace(' ', ''), familia.lower().replace(' ', '')\n",
    "\n",
    "result = result0 = result1 = result3 = result2 = 0\n",
    "\n",
    "if imya > familia:\n",
    "    imya, familia = familia, imya             # по алфавиту\n",
    "# простейший вариант (заменяемый)\n",
    "# result = result0 = imya.capitalize() + familia.capitalize()\n",
    "result = result0 = imya[0].upper() + imya[1:] + familia[0].upper() + familia[1:]\n",
    "\n",
    "if len(imya) > len(familia):\n",
    "    imya, familia = familia, imya   # по длине\n",
    "\n",
    "t = familia.find(imya)\n",
    "if t + 1:                               # одно полностью содержится в другом\n",
    "    result = result1 = familia[:t] + imya[0].upper() + familia[t+1:]\n",
    "else:\n",
    "    for i in range(len(imya), 0, -1):   # частичное пересечение имяфамилия\n",
    "        if imya[-i:] == familia[:i]:\n",
    "            result = result2 = imya[:-i] + familia.capitalize()\n",
    "            break\n",
    "    for i in range(len(imya), 0, -1):   # частичное пересечение фамилияимя\n",
    "        if familia[-i:] == imya[:i]:\n",
    "            result3 = familia[:-i] + imya.capitalize()\n",
    "            if len(result3) < len(result):\n",
    "                result = result3\n",
    "            elif len(result3) == len(result):\n",
    "                # если равной длины то по алфавиту\n",
    "                if result3 < result: result = result3\n",
    "            break\n",
    " \n",
    "\n",
    "# вывод\n",
    "print([result0, result1, result2, result3])\n",
    "result_total = result[0].upper() + result[1:]\n",
    "print(result_total)"
   ]
  },
  {
   "cell_type": "markdown",
   "metadata": {},
   "source": [
    "### ЦЕЛОЧИСЛЕННЫЕ УРАВНЕНИЯ \n"
   ]
  },
  {
   "cell_type": "code",
   "execution_count": null,
   "metadata": {},
   "outputs": [],
   "source": [
    "# ЦЕЛОЧИСЛЕННЫЕ УРАВНЕНИЯ \n",
    "\n",
    "'''Имеется 100 рублей. Сколько быков, коров и телят можно купить на все эти деньги, если плата за быка – \n",
    "10 рублей, за корову 5 рублей, за теленка – 0.5 рубля и надо купить  100 голов скота?\n",
    "\n",
    "10*x + 5*y + 0,5*z = 100    x + y + z = 100    \n",
    "x < 6    y < 12    z < 101 \n",
    "\n",
    "'''\n",
    "for x in range(6):\n",
    "     for y in range(12):\n",
    "          for z in range(101):\n",
    "               if 10*x + 5*y + 0.5*z == 100 and x + y + z == 100:\n",
    "                   print(x, y, z)\n",
    "\n"
   ]
  },
  {
   "cell_type": "code",
   "execution_count": null,
   "metadata": {},
   "outputs": [],
   "source": [
    "#      a**5 + b**5 + c**5 + d**5 = e**5\n",
    "'''Гипотеза Эйлера о сумме степеней  (обобщенную версию Великой теоремы Ферма) (опровержение)'''\n",
    "\n",
    "gran = 150      # до какого числа искать\n",
    "# flag = False \n",
    "for a in range(1, gran):       #  a не больше (границы)\n",
    "    # if flag: break\n",
    "    for b in range(1, a+1):            #  b не больше a\n",
    "        for c in range(1, b+1):        #  c не больше b\n",
    "            for d in range(1, c+1):    #  d не больше c\n",
    "                summ = a**5 + b**5 + c**5 + d**5\n",
    "                e = round((summ)**0.2)\n",
    "                if e**5 == summ:\n",
    "                    # flag = True \n",
    "                    print(a, b, c, d, e)\n",
    "                    print(a + b + c + d + e)"
   ]
  },
  {
   "cell_type": "code",
   "execution_count": null,
   "metadata": {},
   "outputs": [],
   "source": [
    "# Числа Рамануджана     наименьшее число, выражаемое как сумма двух кубов двумя разными способами\n",
    "res_list = []\n",
    "for num in range(1, 50000):\n",
    "     flag = False\n",
    "     for i in range(1, int((num/2)**(1/3))+1):\n",
    "          j = round((num - (i)**3)**(1/3))\n",
    "          if (i)**3 + (j)**3 == num:\n",
    "               if flag: \n",
    "                    res_list.append(num) \n",
    "                    break\n",
    "               flag = True\n",
    "\n",
    "print(res_list)"
   ]
  },
  {
   "cell_type": "markdown",
   "metadata": {},
   "source": [
    "###   СКОБОЧНАЯ ПОСЛЕДОВАТЕЛЬНОСТЬ"
   ]
  },
  {
   "cell_type": "code",
   "execution_count": null,
   "metadata": {},
   "outputs": [],
   "source": [
    "# только скобки  (и пробелы?)\n",
    "def is_correct_bracket(text):\n",
    "    text = text.replace(' ', '')    # ?\n",
    "    while \"()\" in text:\n",
    "        text = text.replace(\"()\", \"\")\n",
    "    return text == \"\"\n",
    "\n",
    "is_correct_bracket('(()() )()())')"
   ]
  },
  {
   "cell_type": "code",
   "execution_count": 9,
   "metadata": {},
   "outputs": [
    {
     "data": {
      "text/plain": [
       "False"
      ]
     },
     "execution_count": 9,
     "metadata": {},
     "output_type": "execute_result"
    }
   ],
   "source": [
    "#  рекурсия  \n",
    "def is_correct_bracket(text):\n",
    "    if text == '':\n",
    "        return True\n",
    "    if '()' in text:\n",
    "        new_text = text.replace('()', '')\n",
    "        return is_correct_bracket(new_text)\n",
    "    return False\n",
    "\n",
    "\n",
    "is_correct_bracket('(()(())))(()())')"
   ]
  },
  {
   "cell_type": "code",
   "execution_count": null,
   "metadata": {},
   "outputs": [],
   "source": [
    "# скобки с  содержимым  \n",
    "def is_correct_bracket(text):\n",
    "    cnt = 0\n",
    "    for i in text:\n",
    "        if i == '(': cnt += 1\n",
    "        elif i == ')': cnt -= 1\n",
    "\n",
    "        if cnt == -1: break   # если правая скобка слева сразу стоп\n",
    "    return cnt == 0          # в конце если остались несбалансир (!=0)\n",
    "           \n",
    "is_correct_bracket('(ррррр)()())')\n"
   ]
  },
  {
   "cell_type": "markdown",
   "metadata": {},
   "source": [
    "### Числа и язык"
   ]
  },
  {
   "cell_type": "code",
   "execution_count": null,
   "metadata": {},
   "outputs": [],
   "source": [
    "num_list = ['', 'один', 'два', 'три', 'четыре', 'пять', 'шесть', 'семь', 'восемь', 'девять', 'десять', 'одиннадцать', 'двенадцать',\n",
    "            'тринадцать', 'четырнадцать', 'пятнадцать', 'шестнадцать', 'семнадцать', 'восемнадцать', 'девятнадцать']\n",
    "ten_list = ['', '', 'двадцать', 'тридцать', 'сорок', 'пятьдесят',\n",
    "            'шестьдесят', 'семьдесят', 'восемьдесят', 'девяносто']\n",
    "\n",
    "def number_to_words(num):\n",
    "    if num in range(10, 20): return num_list[num]\n",
    "    return ten_list[num//10] + ' ' + num_list[num % 10]\n",
    "\n",
    "\n",
    "# считываем данные\n",
    "n = 99\n",
    "\n",
    "# вызываем функцию\n",
    "print(number_to_words(n))"
   ]
  },
  {
   "cell_type": "code",
   "execution_count": null,
   "metadata": {},
   "outputs": [],
   "source": [
    "print(set('text_n orm'))\n",
    "int('00000007')"
   ]
  },
  {
   "cell_type": "markdown",
   "metadata": {},
   "source": [
    "###   поиск последовательности в строке   ?"
   ]
  },
  {
   "cell_type": "code",
   "execution_count": null,
   "metadata": {},
   "outputs": [],
   "source": [
    "# РЕКУРСИЯ   \n",
    "\n",
    "text = 'akkkkkknggggtooooohhhh'  # input()\n",
    "word = 'anton'\n",
    "\n",
    "def find_hidden_text(text, word):\n",
    "    if len(word) == 0:  # базовый случай: слово полностью просмотрено\n",
    "        return \"\"\n",
    "    if len(text) == 0:  # базовый случай: текст полностью просмотрен, но слово не найдено\n",
    "        return \"\"\n",
    "    cur = word[0]\n",
    "    if cur in text:\n",
    "        new_text = text[text.index(cur)+1:]\n",
    "        return cur + find_hidden_text(new_text, word[1:])\n",
    "    else:\n",
    "        return find_hidden_text(text[1:], word)\n",
    "\n",
    "\n",
    "print(find_hidden_text(text, word))"
   ]
  },
  {
   "cell_type": "code",
   "execution_count": null,
   "metadata": {},
   "outputs": [],
   "source": [
    "# частное      применить ф-цию  для списка \n",
    "word = 'anton'\n",
    "n = 6    #int(input())\n",
    "big_list = ['222anton456', 'a1n1t11n1', '0000a0000n0000000o000000n', 'gylfole', 'richard', 'ant0n']      # [input() for i in range(n)]\n",
    "texts_with_list = []\n",
    "\n",
    "def find_hidden_text(text, word):\n",
    "    if len(word) == 0:  # базовый случай: слово полностью просмотрено\n",
    "        return \"\"\n",
    "    if len(text) == 0:  # базовый случай: текст полностью просмотрен, но слово не найдено\n",
    "        return \"\"\n",
    "    cur = word[0]\n",
    "    if cur in text:\n",
    "        new_text = text[text.index(cur)+1:]\n",
    "        return cur + find_hidden_text(new_text, word[1:])\n",
    "    else:\n",
    "        return find_hidden_text(text[1:], word)\n",
    "\n",
    "for i in range(len(big_list)):\n",
    "    if find_hidden_text(big_list[i], word) == word:\n",
    "        texts_with_list.append(i+1)\n",
    "\n",
    "print(texts_with_list)"
   ]
  },
  {
   "cell_type": "code",
   "execution_count": null,
   "metadata": {},
   "outputs": [],
   "source": [
    "# сравнить  ↡\n",
    "def rec_glob(t, w, r):\n",
    "    if len(w):\n",
    "        cur = w[0]\n",
    "        if cur in t:\n",
    "            r += cur\n",
    "            new_t = t[t.index(cur)+1:]\n",
    "            # Возвращаем результат рекурсивного вызова\n",
    "            return rec_glob(new_t, w[1:], r)\n",
    "    return r\n",
    "\n",
    "print(rec_glob(\"this is some t kloghdrl\", \"hello\", \"\"))"
   ]
  },
  {
   "cell_type": "code",
   "execution_count": null,
   "metadata": {},
   "outputs": [],
   "source": [
    "# сравнить  ↑\n",
    "def rec(t, w):\n",
    "    if len(w) == 0:  # базовый случай: слово полностью просмотрено\n",
    "        return \"\"\n",
    "    if len(t) == 0:  # базовый случай: текст полностью просмотрен, но слово не найдено\n",
    "        return \"\"\n",
    "    cur = w[0]\n",
    "    if cur in t:\n",
    "        new_t = t[t.index(cur)+1:]\n",
    "        return cur + rec(new_t, w[1:])\n",
    "    else:\n",
    "        return rec(t[1:], w)\n",
    "\n",
    "t = 'akkkkkknggggtooooohhhh'  # input()\n",
    "w = 'anton'\n",
    "\n",
    "print(rec(t, w))"
   ]
  },
  {
   "cell_type": "markdown",
   "metadata": {},
   "source": [
    "### ещё  "
   ]
  }
 ],
 "metadata": {
  "kernelspec": {
   "display_name": "Python 3",
   "language": "python",
   "name": "python3"
  },
  "language_info": {
   "codemirror_mode": {
    "name": "ipython",
    "version": 3
   },
   "file_extension": ".py",
   "mimetype": "text/x-python",
   "name": "python",
   "nbconvert_exporter": "python",
   "pygments_lexer": "ipython3",
   "version": "3.12.2"
  }
 },
 "nbformat": 4,
 "nbformat_minor": 2
}
