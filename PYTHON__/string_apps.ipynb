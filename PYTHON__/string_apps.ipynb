{
 "cells": [
  {
   "cell_type": "markdown",
   "metadata": {},
   "source": [
    "### PALINDROM"
   ]
  },
  {
   "cell_type": "code",
   "execution_count": 7,
   "metadata": {},
   "outputs": [
    {
     "data": {
      "text/plain": [
       "True"
      ]
     },
     "execution_count": 7,
     "metadata": {},
     "output_type": "execute_result"
    }
   ],
   "source": [
    "# ПРОСТОЙ  не выбрасывая пробелы и символы \n",
    "\n",
    "def is_palindrome(word):\n",
    "    word_low = word.lower().strip()\n",
    "    drow = word_low[::-1]\n",
    "    return drow == word_low\n",
    "\n",
    "\n",
    "\n",
    "\n",
    "is_palindrome('woow woow ')\n"
   ]
  },
  {
   "cell_type": "code",
   "execution_count": 23,
   "metadata": {},
   "outputs": [
    {
     "data": {
      "text/plain": [
       "True"
      ]
     },
     "execution_count": 23,
     "metadata": {},
     "output_type": "execute_result"
    }
   ],
   "source": [
    "# СЛОЖНЕЕ   выбрасывая пробелы и символы \n",
    "#  https://habr.com/ru/articles/276195/ \n",
    "\n",
    "def is_palindrome(text):\n",
    "    text_low = text.lower()\n",
    "    text_norm = ''.join([i for i in text_low if i.isalnum()])\n",
    "    return text_norm == text_norm[::-1]\n",
    "\n",
    "\n",
    "is_palindrome('wo-Ow9 wo ow ')"
   ]
  },
  {
   "cell_type": "code",
   "execution_count": 2,
   "metadata": {},
   "outputs": [],
   "source": [
    "import this"
   ]
  },
  {
   "cell_type": "code",
   "execution_count": 13,
   "metadata": {},
   "outputs": [
    {
     "data": {
      "text/plain": [
       "'wrt'"
      ]
     },
     "execution_count": 13,
     "metadata": {},
     "output_type": "execute_result"
    }
   ],
   "source": [
    "str = 'wert'\n",
    "str2 = '' \n",
    "for i in str:\n",
    "    if i != 'e': str2 = str2 + i \n",
    "str2"
   ]
  },
  {
   "cell_type": "code",
   "execution_count": 3,
   "metadata": {},
   "outputs": [
    {
     "name": "stdout",
     "output_type": "stream",
     "text": [
      "A\n",
      "A\n",
      "A\n",
      "A\n",
      "A\n",
      "A\n",
      "A\n",
      "A\n",
      "A\n",
      "A\n",
      "\n"
     ]
    }
   ],
   "source": [
    "print('A\\n'*10)"
   ]
  }
 ],
 "metadata": {
  "kernelspec": {
   "display_name": "Python 3",
   "language": "python",
   "name": "python3"
  },
  "language_info": {
   "codemirror_mode": {
    "name": "ipython",
    "version": 3
   },
   "file_extension": ".py",
   "mimetype": "text/x-python",
   "name": "python",
   "nbconvert_exporter": "python",
   "pygments_lexer": "ipython3",
   "version": "3.12.2"
  }
 },
 "nbformat": 4,
 "nbformat_minor": 2
}
