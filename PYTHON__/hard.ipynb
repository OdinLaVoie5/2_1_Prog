{
 "cells": [
  {
   "cell_type": "markdown",
   "metadata": {},
   "source": [
    "### Двоичное представление чисел    ... ...\n",
    "(( 255 это  1111 1111          0 это  0000 0000  ))\n"
   ]
  },
  {
   "cell_type": "code",
   "execution_count": 18,
   "metadata": {},
   "outputs": [
    {
     "name": "stdout",
     "output_type": "stream",
     "text": [
      "<class 'numpy.uint8'>\n",
      "1\n",
      "254\n",
      "<class 'numpy.int8'>\n",
      "-128\n",
      "127\n",
      "-27\n"
     ]
    },
    {
     "name": "stderr",
     "output_type": "stream",
     "text": [
      "C:\\Users\\Odins\\AppData\\Local\\Temp\\ipykernel_7292\\1189495379.py:7: DeprecationWarning: NumPy will stop allowing conversion of out-of-bound Python integers to integer arrays.  The conversion of 257 to uint8 will fail in the future.\n",
      "For the old behavior, usually:\n",
      "    np.array(value).astype(dtype)\n",
      "will give the desired result (the cast overflows).\n",
      "  A[0] = 257  # --> 1    256 --> 0     при переполнении   отсчёт по модулю (цикл снова от 0)\n",
      "C:\\Users\\Odins\\AppData\\Local\\Temp\\ipykernel_7292\\1189495379.py:13: DeprecationWarning: NumPy will stop allowing conversion of out-of-bound Python integers to integer arrays.  The conversion of 128 to int8 will fail in the future.\n",
      "For the old behavior, usually:\n",
      "    np.array(value).astype(dtype)\n",
      "will give the desired result (the cast overflows).\n",
      "  B[0] = 128  # --> -128    -129 --> 127   при переполнении   отсчёт по модулю 8\n"
     ]
    }
   ],
   "source": [
    "import array\n",
    "import numpy as np\n",
    "# help(array)\n",
    "\n",
    "A = np.array([0], dtype='uint8')  # 8-битный мвссив ??   |0 - 256|\n",
    "print(type(A[0]))\n",
    "A[0] = 257  # --> 1    256 --> 0     при переполнении   отсчёт по модулю (цикл снова от 0)\n",
    "print(A[0])\n",
    "print(~A[0])   # Двоичное инверсия (0-->1 1-->0)\n",
    "\n",
    "B = np.array([0], dtype='int8')  # 8-битный мвссив ??     |-128 -  127|\n",
    "print(type(B[0]))\n",
    "B[0] = 128  # --> -128    -129 --> 127   при переполнении   отсчёт по модулю 8\n",
    "print(B[0])\n",
    "print(~B[0])\n",
    "\n",
    "B[0] = 26\n",
    "print(~B[0])"
   ]
  }
 ],
 "metadata": {
  "kernelspec": {
   "display_name": "Python 3",
   "language": "python",
   "name": "python3"
  },
  "language_info": {
   "codemirror_mode": {
    "name": "ipython",
    "version": 3
   },
   "file_extension": ".py",
   "mimetype": "text/x-python",
   "name": "python",
   "nbconvert_exporter": "python",
   "pygments_lexer": "ipython3",
   "version": "3.12.2"
  }
 },
 "nbformat": 4,
 "nbformat_minor": 2
}
