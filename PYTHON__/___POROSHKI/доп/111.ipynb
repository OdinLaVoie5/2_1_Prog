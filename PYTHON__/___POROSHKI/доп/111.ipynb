{
 "cells": [
  {
   "cell_type": "code",
   "execution_count": null,
   "id": "da0748dc",
   "metadata": {},
   "outputs": [
    {
     "data": {
      "text/plain": [
       "'a b'"
      ]
     },
     "execution_count": 1,
     "metadata": {},
     "output_type": "execute_result"
    }
   ],
   "source": [
    "import re\n",
    "\n",
    "# --- НОРМАЛИЗАЦИЯ ПРОБЕЛОВ ВОКРУГ ЗНАКОВ ПРЕПИНАНИЯ  (не идеально) !!! ---\n",
    "def normalize_punctuation_spacing(text: str) -> str:\n",
    "    # --- 1. Удаляем пробелы перед закрывающимися знаками препинания ---\n",
    "    text = re.sub(r\"\\s+([.!?,;:…»)\\]})])\", r\"\\1\", text)\n",
    "\n",
    "    # --- 2. Удаляем пробелы после открывающих скобок / кавычек ---\n",
    "    text = re.sub(r\"([«(\\[{])\\s+\", r\"\\1\", text)\n",
    "\n",
    "    # --- 3. Апострофы внутри слов ---\n",
    "    # д ' Артаньян → д'Артаньян, Zver' → Zver'\n",
    "    text = re.sub(r\"(\\w)\\s*['’]\\s*(\\w)\", r\"\\1'\\2\", text)\n",
    "\n",
    "    # --- 4. Пробелы вокруг кавычек ---\n",
    "    # но я \"спокоен\" ты → но я \"спокоен\" ты\n",
    "    text = re.sub(r'\\s*\"\\s*([^\"]*?)\\s*\"\\s*', r' \"\\1\" ', text)\n",
    "    text = re.sub(r\"\\s*«\\s*([^»]*?)\\s*»\\s*\", r' «\\1» ', text)\n",
    "\n",
    "    # --- 5. Нормализуем тире и дефисы ---\n",
    "    # Пример: \"Привет - мир\" → \"Привет – мир\"\n",
    "    text = re.sub(r\"\\s*([—–-])\\s*\", r\" \\1 \", text)\n",
    "\n",
    "    # --- 6. Убираем двойные пробелы ---\n",
    "    text = re.sub(r\"\\s{2,}\", \" \", text)\n",
    "\n",
    "    # --- 7. Убираем пробелы в начале и конце строки ---\n",
    "    return text.strip()\n",
    "\n",
    "normalize_punctuation_spacing(\"a     b\")\n"
   ]
  },
  {
   "cell_type": "markdown",
   "id": "c1598fda",
   "metadata": {},
   "source": [
    "упрощённо (один омограф)"
   ]
  },
  {
   "cell_type": "code",
   "execution_count": null,
   "id": "67fbacdf",
   "metadata": {},
   "outputs": [],
   "source": [
    "real_scheme = [\"-+-+-+-+\",\"---+---**\",\"-+-+-+-+-\",\"-+\"]\n",
    "scheme =      [\"-+-+-+-+\",\"-+-+-+-+-\",\"-+-+-+-+-\",\"-+\"]\n",
    "\n",
    "def omogr(scheme, real_scheme):\n",
    "    for i in range(len(scheme)):\n",
    "        has_star = False\n",
    "        star_hits_plus = False\n",
    "\n",
    "        for j in range(len(scheme[i])):\n",
    "            r = real_scheme[i][j]\n",
    "            s = scheme[i][j]\n",
    "\n",
    "            if r == \"+\" and s == \"-\":\n",
    "                return \"+-\"\n",
    "\n",
    "            if r == \"+\":\n",
    "                # Прерывание группы звёздочек\n",
    "                if has_star and not star_hits_plus:\n",
    "                    return \"*-\"\n",
    "                has_star = False\n",
    "                star_hits_plus = False\n",
    "\n",
    "            elif r == \"*\":\n",
    "                if not has_star:\n",
    "                    has_star = True\n",
    "                    star_hits_plus = False\n",
    "                if s == \"+\":\n",
    "                    star_hits_plus = True\n",
    "\n",
    "        # Проверка в конце строки\n",
    "        if has_star and not star_hits_plus:\n",
    "            return \"*-\"\n",
    "\n",
    "    return True\n",
    "\n",
    "omogr(scheme, real_scheme)"
   ]
  },
  {
   "cell_type": "markdown",
   "id": "d37ed2a1",
   "metadata": {},
   "source": [
    "дб !!   несколько омографов"
   ]
  },
  {
   "cell_type": "code",
   "execution_count": 1,
   "id": "631fa783",
   "metadata": {},
   "outputs": [
    {
     "data": {
      "text/plain": [
       "True"
      ]
     },
     "execution_count": 1,
     "metadata": {},
     "output_type": "execute_result"
    }
   ],
   "source": [
    "real_scheme = [\"-+-+-+-+\",\"***^^***\",\"-+-+-+-+-\",\"-+\"]\n",
    "scheme =      [\"-+-+-+-+\",\"-+-+--+-\",\"-+-+-+-+-\",\"-+\"]\n",
    "\n",
    "\n",
    "def omogr(scheme, real_scheme):\n",
    "    for i in range(len(scheme)):\n",
    "        group_type = None\n",
    "        group_hits_plus = False\n",
    "\n",
    "        for j in range(len(scheme[i])):\n",
    "            r = real_scheme[i][j]\n",
    "            s = scheme[i][j]\n",
    "\n",
    "            if r == \"+\" and s == \"-\":\n",
    "                return \"+-\"\n",
    "\n",
    "            # Обработка группы\n",
    "            if r in \"*^\":\n",
    "                if group_type is None:\n",
    "                    group_type = r\n",
    "                    group_hits_plus = False\n",
    "                elif group_type != r:\n",
    "                    # Прерывание чужим типом\n",
    "                    if not group_hits_plus:\n",
    "                        return f\"{group_type}-\"\n",
    "                    group_type = r\n",
    "                    group_hits_plus = False\n",
    "\n",
    "                if s == \"+\":\n",
    "                    group_hits_plus = True\n",
    "                continue  # важно: не сбрасывать группу на своём же символе\n",
    "\n",
    "            # Прерывание группы\n",
    "            if r in \"+*^\":\n",
    "                if group_type and not group_hits_plus:\n",
    "                    return f\"{group_type}-\"\n",
    "                group_type = None\n",
    "                group_hits_plus = False\n",
    "\n",
    "        if group_type and not group_hits_plus:\n",
    "            return f\"{group_type}-\"\n",
    "\n",
    "    return True\n",
    "\n",
    "omogr(scheme, real_scheme)\n"
   ]
  },
  {
   "cell_type": "markdown",
   "id": "489f929d",
   "metadata": {},
   "source": [
    "ррр"
   ]
  },
  {
   "cell_type": "code",
   "execution_count": 11,
   "id": "215478b4",
   "metadata": {},
   "outputs": [
    {
     "name": "stdout",
     "output_type": "stream",
     "text": [
      "[3]\n"
     ]
    }
   ],
   "source": [
    "\n",
    "a = [1, 2, 3]\n",
    "b = (1, 2, 3)\n",
    "\n",
    "print(a[-1:])\n",
    "\n"
   ]
  }
 ],
 "metadata": {
  "kernelspec": {
   "display_name": ".venv",
   "language": "python",
   "name": "python3"
  },
  "language_info": {
   "codemirror_mode": {
    "name": "ipython",
    "version": 3
   },
   "file_extension": ".py",
   "mimetype": "text/x-python",
   "name": "python",
   "nbconvert_exporter": "python",
   "pygments_lexer": "ipython3",
   "version": "3.12.10"
  }
 },
 "nbformat": 4,
 "nbformat_minor": 5
}
