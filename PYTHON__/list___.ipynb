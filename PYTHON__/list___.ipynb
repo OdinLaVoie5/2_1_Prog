{
 "cells": [
  {
   "cell_type": "markdown",
   "metadata": {},
   "source": [
    "### СПИСКИ "
   ]
  },
  {
   "cell_type": "markdown",
   "metadata": {},
   "source": [
    "####  МЕТОДЫ СПИСКОВ  ...   СРЕЗЫ   и т.д."
   ]
  },
  {
   "cell_type": "code",
   "execution_count": null,
   "metadata": {},
   "outputs": [],
   "source": [
    "values = [1, 2, 3, 4, 5]\n",
    "values.reverse()     # весь список наоборот       трансформация старого\n",
    "print(values)\n",
    "values = values[::-1]    # весь список наоборот     новый список\n",
    "print(values)\n",
    "\n",
    "values.append(11)       # добавить элемент в список  в конец      \n",
    "values.insert(2, 11)     # вставить в позицию  \n",
    "print(values)\n",
    "values.pop(3)      # удалить по индексу      (умолч последний)\n",
    "print(values)\n",
    "\n",
    "values[3] = 0     # изменяем в списке\n",
    "print(values)  # изменить целый кусок   (если вставка больше выреза - подвинуться   если меньше - сожмутся\n",
    "values[1:1] = ['a', 'b', 'c']\n",
    "print(values)\n",
    "values[1:4] = ['d']\n",
    "print(values)\n",
    "\n",
    "del values[1:4]   # удалить кусок\n",
    "print(values)\n",
    "#  del values     # удалить весь список    обращение к нему после этого - ошибка\n",
    "\n",
    "values.clear()   # просто очистить\n",
    "print(values)\n",
    "\n",
    "\n"
   ]
  },
  {
   "cell_type": "code",
   "execution_count": null,
   "metadata": {},
   "outputs": [],
   "source": [
    "# методы для списков\n",
    "print(sum([3, 4, 5]))\n",
    "\n",
    "values0 = [1, 2, 3]\n",
    "values1 = [4, 5, 6]\n",
    "print(values0  +  values1)   # сложение списков в новый список     \n",
    "print([1,2,3] * 3)\n",
    "\n",
    "values1.extend(values0)     # присоединение списка\n",
    "print(values1)\n",
    "values1.extend('qwe')     # присоединить  любой итерируемый объект\n",
    "print(values1)\n",
    "\n",
    "values1.remove('q')     # удалить конкретный элемент (первое вхождение)  если нет - ошибка\n",
    "values1\n"
   ]
  },
  {
   "cell_type": "code",
   "execution_count": null,
   "metadata": {},
   "outputs": [],
   "source": [
    "values = [1, 2, 3, 1]\n",
    "mylist = values.copy()   # независимая копия   \n",
    "mylist.append(11)\n",
    "print(values)\n",
    "print(mylist)\n",
    "\n",
    "mylist = values         # просто ссылка на тот же список\n",
    "mylist.append(444)\n",
    "print(values)\n",
    "print(mylist)\n",
    "\n",
    "\n",
    "# другой способ  копировать список    использовать конструктор\n",
    "mylist = list(values)\n",
    "mylist.append(11)\n",
    "print(values)\n",
    "print(mylist)\n"
   ]
  },
  {
   "cell_type": "code",
   "execution_count": null,
   "metadata": {},
   "outputs": [],
   "source": [
    "values = [[[1, [2, 3], 1], [1, 2, 3, 1], [1, 2, 3, 1], [1, 2, 3, 1]],\n",
    "          [1, 2, 3, 1], [1, 2, 3, 1], 2, 3, 1]\n",
    "\n",
    "a = values.copy()\n",
    "print(a)"
   ]
  },
  {
   "cell_type": "code",
   "execution_count": null,
   "metadata": {},
   "outputs": [],
   "source": [
    "values = ['a', 'c', 'a', 'b', 'b']\n",
    "print(values.count('b'))      # поиск  эл-та с указанием количества\n",
    "\n",
    "print(values.index('b'))\n"
   ]
  },
  {
   "cell_type": "markdown",
   "metadata": {},
   "source": [
    "####  приёмы"
   ]
  },
  {
   "cell_type": "code",
   "execution_count": null,
   "metadata": {},
   "outputs": [],
   "source": [
    "#  способы убрать повторы из списка\n",
    "mylist = [\"a\", \"b\", \"a\", \"c\", \"c\"]\n",
    "# print(dict.fromkeys(mylist))\n",
    "\n",
    "# ((более упорядоченный вариант))         нннн\n",
    "mylist = list(dict.fromkeys(mylist))\n",
    "print(mylist)\n",
    "# ((менее упорядоченный вариант))\n",
    "mylist = [\"a\", \"b\", \"a\", \"c\", \"c\"]\n",
    "mylist = list(set(mylist))\n",
    "print(mylist)\n"
   ]
  },
  {
   "cell_type": "markdown",
   "metadata": {},
   "source": [
    "#### \"ГЕНЕРАТОРЫ\" СПИСКОВ "
   ]
  },
  {
   "cell_type": "code",
   "execution_count": null,
   "metadata": {},
   "outputs": [],
   "source": [
    "B =[(x**2 if x > 2 else x*1000 if x <2 else -1) for x in range(5)] \n",
    "B\n"
   ]
  },
  {
   "cell_type": "markdown",
   "metadata": {},
   "source": [
    "#### СОРТИРОВКА"
   ]
  },
  {
   "cell_type": "code",
   "execution_count": null,
   "metadata": {},
   "outputs": [],
   "source": [
    "def myfunc(n):  return abs(5*n - 50)\n",
    "\n",
    "\n",
    "values = [-40, 10, -30, 20, 50]\n",
    "values.sort(key = myfunc)  # предварительно создать свою ф-цию  трансформирующую зл-ты списка \n",
    "print(values)\n",
    "values.sort()      # сортировка \n",
    "print(values)   \n",
    "values.sort(reverse=True)  # в обратном порядке        изменяется текущий список\n",
    "print(values)\n",
    "\n",
    "thislist = [\"banana\", \"Orange\", \"Kiwi\", \"cherry\"]\n",
    "thislist.sort()\n",
    "print(thislist)\n",
    "\n",
    "thislist = [\"banana\", \"Orange\", \"Kiwi\", \"cherry\"]\n",
    "thislist.sort(key=str.lower)\n",
    "print(thislist)\n"
   ]
  },
  {
   "cell_type": "code",
   "execution_count": null,
   "metadata": {},
   "outputs": [],
   "source": [
    "# сортировка \n",
    "nums = {'9', '17', '4', '3', '6'}\n",
    "print(sorted(nums, key=int))\n",
    "nums = {'9', '17', '4', '3', '6'}\n",
    "print(sorted(nums))"
   ]
  },
  {
   "cell_type": "code",
   "execution_count": null,
   "metadata": {},
   "outputs": [],
   "source": [
    "files = ['python.png', 'qwerty.py', 'stepik.png', 'beegeek.org', 'windows.pnp', 'pen.txt', 'phone.py', 'book.txT', 'board.pNg',\n",
    "         'keyBoard.jpg', 'Python.PNg', 'apple.jpeg', 'png.png', 'input.tXt', 'split.pop', 'solution.Py', 'stepik.org', 'kotlin.ko', 'github.git']\n",
    "\n",
    "\n",
    "\n",
    "\n",
    "print(*sorted({word.lower() for word in files if word.lower()[-4:] == '.png'}))"
   ]
  },
  {
   "cell_type": "markdown",
   "metadata": {},
   "source": [
    "#### Произведение матриц"
   ]
  },
  {
   "cell_type": "markdown",
   "metadata": {},
   "source": [
    "#### ещё"
   ]
  },
  {
   "cell_type": "code",
   "execution_count": null,
   "metadata": {},
   "outputs": [],
   "source": [
    "### список содержащий себя    нннн\n",
    "# попытка\n",
    "A = [1, 2, 3]\n",
    "A = [1, 2, 3, A]\n",
    "print(A)\n",
    "\n",
    "# вооооот !         ннннннн\n",
    "lst = [1, 2, 3]\n",
    "lst.append(lst)\n",
    "print(lst)\n"
   ]
  },
  {
   "cell_type": "code",
   "execution_count": null,
   "metadata": {},
   "outputs": [],
   "source": [
    "# список содержащий себя   нннн \n",
    "god= [1, 2, 3]\n",
    "god.append(god) \n",
    "print(god[3][3])\n",
    "print(god[3][3][3])\n",
    "print(god[3][3][3][3])\n",
    "print(god[3][3][3][3][3][3][3][3][3][3][3][3][3][3][3][3]\n",
    "      [3][3][3][3][3][3][3][3][3][3][3][3][3][3][3][3][3][3][3][3][3][3][3][3][3][3][3][3][3][3][3][3][3][3][3][3][3][3][3][3][3][3][3][3][3][3][3][3])"
   ]
  },
  {
   "cell_type": "code",
   "execution_count": null,
   "metadata": {},
   "outputs": [],
   "source": [
    "#  (создать список из 1000 нолей)\n",
    "A = [0]*1000\n",
    "len(A)\n"
   ]
  },
  {
   "cell_type": "code",
   "execution_count": null,
   "metadata": {},
   "outputs": [],
   "source": [
    "# МАССИВ ИЗ СТРОК ТЕКСТА\n",
    "a = \"\"\" Мама мыла\n",
    "    раму    да да да       \n",
    "              дддддддддддддддддддд  \"\"\"\n",
    "print(a.splitlines())\n",
    "\n",
    "print(a.partition('да да да'))"
   ]
  },
  {
   "cell_type": "code",
   "execution_count": null,
   "metadata": {},
   "outputs": [],
   "source": [
    "a = []\n",
    "a = a + [4]\n",
    "print(a)"
   ]
  },
  {
   "cell_type": "code",
   "execution_count": null,
   "metadata": {},
   "outputs": [],
   "source": [
    "# строка итерабельна   нннннн\n",
    "\n",
    "n = '11281'\n",
    "if max(n) == min(n):\n",
    "    print('YES')\n",
    "else:\n",
    "    print('NO')\n",
    "\n",
    "print(max(n))\n",
    "print(sorted(n))"
   ]
  },
  {
   "cell_type": "code",
   "execution_count": null,
   "metadata": {},
   "outputs": [],
   "source": [
    "import array \n",
    "print(array.typecodes)   # всевозможные коды-типы данных в массиве    ИНФО\n",
    "array.array('f', [1.6, 1.3])"
   ]
  },
  {
   "cell_type": "code",
   "execution_count": null,
   "metadata": {},
   "outputs": [],
   "source": [
    "# ((циклическая перестановка))\n",
    "\n",
    "str1 ='hello'\n",
    "for i in range(len(str1)):\n",
    "    print(str1)\n",
    "    str1 = str1[1:] + str1[:1]"
   ]
  },
  {
   "cell_type": "code",
   "execution_count": null,
   "metadata": {},
   "outputs": [],
   "source": [
    "# ((выпрямить))  вложенные списки\n",
    "list1 = [3, [3, [9, [100, [100, 104], 1], 102], [9, [107, [100, 103], 1], 102]]]\n",
    "\n",
    "while any([isinstance(el, list) for el in list1]):  # если есть хоть один вложенный список\n",
    "    temp = []\n",
    "    for i in list1:\n",
    "        if isinstance(i, list):\n",
    "            temp.extend(i)\n",
    "        else:\n",
    "            temp.append(i)\n",
    "    list1 = temp\n",
    "\n",
    "maximum = max(list1)\n",
    "print(maximum)"
   ]
  },
  {
   "cell_type": "code",
   "execution_count": null,
   "metadata": {},
   "outputs": [],
   "source": [
    "# выпрямить список рекурсивно  ннннн \n",
    "arr = [3, [3, [9, [100, [100, 104], 1], 102], [9, [107, [100, 103], 1], 102]]]\n",
    "\n",
    "def flatten(lst):\n",
    "    for item in lst:\n",
    "        if isinstance(item, list):\n",
    "            yield from flatten(item)\n",
    "        else:\n",
    "            yield item\n",
    "\n",
    "flat_list = list(flatten(arr))\n",
    "print(flat_list)\n",
    "print(max(flat_list))"
   ]
  },
  {
   "cell_type": "code",
   "execution_count": null,
   "metadata": {},
   "outputs": [],
   "source": [
    "# среднеарифметическое неоднородного списка\n",
    "list1 = [[8, 7, 1], [102, 7, 9], [105, 106, 102], [103, 98, 99, 100], [3, 2, 1]]\n",
    "\n",
    "total = sum([sum(i) for i in list1])\n",
    "counter = sum([len(i) for i in list1])\n",
    "print(total/counter)\n",
    "\n",
    "\n",
    "for i in list1:\n",
    "    i.reverse()\n",
    "print(list1)\n"
   ]
  },
  {
   "cell_type": "code",
   "execution_count": null,
   "metadata": {},
   "outputs": [],
   "source": [
    "# Упаковка дубликатов (подсписки из одинаковых эл-тов)\n",
    "\n",
    "s = 'w w w w w w w w w w w w y y y t r t r r t r t r t w w w w w w w w'.split()  # input()\n",
    "# кидаем первый символ в наш список, также удалив его из входного списка\n",
    "seq = [[s.pop(0)]]\n",
    "\n",
    "for c in s:\n",
    "    if c in seq[-1]:\n",
    "        seq[-1].append(c)\n",
    "    else:\n",
    "        seq.append([c])\n",
    "\n",
    "print(seq)"
   ]
  },
  {
   "cell_type": "code",
   "execution_count": null,
   "metadata": {},
   "outputs": [],
   "source": [
    "# группировка в списки по n эл-тов  \n",
    "\n",
    "def chunked(symbols, n):\n",
    "    result = []\n",
    "    for i in range(0, len(symbols), n):\n",
    "        result.append(symbols[i:i + n])\n",
    "    return result\n",
    "\n",
    "symbols = 'a b v b v'.split()  # input()\n",
    "n = 3      #int(input())\n",
    "\n",
    "print(chunked(symbols, n))"
   ]
  },
  {
   "cell_type": "code",
   "execution_count": null,
   "metadata": {},
   "outputs": [],
   "source": [
    "# все комбинации данных символов\n",
    "\n",
    "symbols = 'a b v d'.split()\n",
    "res_list = [[]]\n",
    "\n",
    "for i in range(1,len(symbols)+1):\n",
    "    for j in range(len(symbols) +1 - i):\n",
    "        res_list.append(symbols[j:j+i])\n",
    "\n",
    "print(res_list)"
   ]
  },
  {
   "cell_type": "code",
   "execution_count": null,
   "metadata": {},
   "outputs": [],
   "source": [
    "# частное        заполнить матрицу по диагонали \n",
    "n, m = 3, 6  # [int(i) for i in input().split()]\n",
    "cnt = 1\n",
    "matrix = [[0]*m for _ in range(n)]\n",
    "\n",
    "for k in range(n+m-1):\n",
    "    i = 0 if k < m else k-(m-1)\n",
    "    j = k if k < m else m-1\n",
    "    while j >= 0 and i < n:\n",
    "        matrix[i][j] = cnt\n",
    "        cnt += 1\n",
    "        j -= 1\n",
    "        i += 1\n",
    "\n",
    "for row in range(n):\n",
    "    print(*[str(i).ljust(3) for i in matrix[row]])"
   ]
  },
  {
   "cell_type": "code",
   "execution_count": null,
   "metadata": {},
   "outputs": [],
   "source": [
    "# чужое     заполнить матрицу по диагонали\n",
    "n, m = 3, 6  # [int(el) for el in input().split()]\n",
    "matrix = [[None for _ in range(m)] for _ in range(n)]\n",
    "cnt = 1\n",
    "\n",
    "# проходим по всем диагоналям\n",
    "for d in range(n + m - 1):\n",
    "    for i in range(n):\n",
    "        for j in range(m):\n",
    "            if i + j == d:\n",
    "                matrix[i][j] = cnt\n",
    "                cnt += 1\n",
    "\n",
    "for i in range(n):\n",
    "    for j in range(m):\n",
    "        print(str(matrix[i][j]).ljust(3), end=\"\")\n",
    "    print()"
   ]
  },
  {
   "cell_type": "code",
   "execution_count": null,
   "metadata": {},
   "outputs": [],
   "source": [
    "# чужое 2     заполнить матрицу по диагонали\n",
    "n, m = 3, 6  # [int(i) for i in input().split()]\n",
    "\n",
    "matrix = [[None for i in range(m)] for j in range(n)]\n",
    "\n",
    "count = 1\n",
    "for i in range(m + n - 1):\n",
    "    for j in range(n):\n",
    "        if ((i - j) > -1) and ((i - j) < m):\n",
    "            matrix[j][i - j] = str(count).ljust(3)\n",
    "            count += 1\n",
    "\n",
    "for i in range(n):\n",
    "    for j in range(m):\n",
    "        print(str(matrix[i][j]).ljust(3), end=' ')\n",
    "    print()"
   ]
  },
  {
   "cell_type": "code",
   "execution_count": null,
   "metadata": {},
   "outputs": [],
   "source": [
    "# заполнить матрицу по спирали\n",
    "n, m = 3, 8  # [int(i) for i in input().split()]\n",
    "matrix = [[0]*m for _ in range(n)]\n",
    "i, j, cnt = 0, -1, 1\n",
    "\n",
    "for k in range(min(n, m)):\n",
    "    while True:\n",
    "        j = j + (-1)**k\n",
    "        matrix[i][j] = cnt\n",
    "        cnt += 1\n",
    "        if (j == m-1) or matrix[i][j + (-1)**k]:\n",
    "            break\n",
    "    while True:\n",
    "        if n == 1:\n",
    "            break\n",
    "        i = i + (-1)**k\n",
    "        if matrix[i][j]:\n",
    "            break\n",
    "        matrix[i][j] = cnt\n",
    "        cnt += 1\n",
    "        if (i == n-1) or matrix[i + (-1)**k][j]:\n",
    "            break\n",
    "\n",
    "\n",
    "for row in range(n):\n",
    "    print(*[str(i).ljust(3) for i in matrix[row]])"
   ]
  },
  {
   "cell_type": "code",
   "execution_count": null,
   "metadata": {},
   "outputs": [],
   "source": [
    "# чужое   заполнить матрицу по спирали\n",
    "n, m = map(int, input().split())\n",
    "\n",
    "i = 0\n",
    "j = 0\n",
    "cnt = 1\n",
    "\n",
    "a = [[0 for _ in range(m)] for _ in range(n)]\n",
    "\n",
    "while cnt < m * n:\n",
    "    while j < m - 1 and a[i][j + 1] == 0:\n",
    "        a[i][j] = cnt\n",
    "        j += 1\n",
    "        cnt += 1\n",
    "\n",
    "    while i < n - 1 and a[i + 1][j] == 0:\n",
    "        a[i][j] = cnt\n",
    "        i += 1\n",
    "        cnt += 1\n",
    "\n",
    "    while j > 0 and a[i][j - 1] == 0:\n",
    "        a[i][j] = cnt\n",
    "        j -= 1\n",
    "        cnt += 1\n",
    "\n",
    "    while i > 0 and a[i - 1][j] == 0:\n",
    "        a[i][j] = cnt\n",
    "        i -= 1\n",
    "        cnt += 1\n",
    "\n",
    "a[i][j] = cnt\n",
    "\n",
    "for i in range(n):\n",
    "    for j in range(m):\n",
    "        print(str(a[i][j]).ljust(3), end=' ')\n",
    "    print()"
   ]
  },
  {
   "cell_type": "code",
   "execution_count": null,
   "metadata": {},
   "outputs": [],
   "source": [
    "# чужое   заполнить матрицу по спирали\n",
    "\n",
    "n, m = 8, 6  # [int(i) for i in input().split()]\n",
    "matrix = [[0 for _ in range(m)]for _ in range(n)]\n",
    "x, y = 0, 0 \n",
    "d_x, d_y = 0, 1 \n",
    "matrix[0][0] = 1 \n",
    "count = 2  \n",
    "\n",
    "while count <= n * m:\n",
    "    if 0 <= x + d_x <= n - 1 and 0 <= y + d_y <= m - 1 and matrix[x + d_x][y + d_y] == 0:\n",
    "        matrix[x + d_x][y + d_y] = count\n",
    "        count += 1\n",
    "        x += d_x\n",
    "        y += d_y\n",
    "    else:  # переключить направление \n",
    "        d_x, d_y = d_y, -d_x\n",
    "\n",
    "for r in range(n):\n",
    "    for c in range(m):\n",
    "        print(str(matrix[r][c]).ljust(3), end=' ')\n",
    "    print()"
   ]
  },
  {
   "cell_type": "code",
   "execution_count": null,
   "metadata": {
    "tags": [
     "mymy"
    ]
   },
   "outputs": [],
   "source": [
    "# чужое   заполнить матрицу по спирали  ннн \n",
    "\n",
    "def num_spiral():\n",
    "    n, m = 6, 7       #map(int, input().split())\n",
    "    matrix = tuple([0] * m for _ in range(n))\n",
    "    i, j, d_i, d_j = 0, 0, 0, 1\n",
    "    for k in range(1, n * m + 1):\n",
    "        matrix[i][j] = k\n",
    "        if matrix[(i + d_i) % n][(j + d_j) % m]:\n",
    "            d_i, d_j = d_j, -d_i\n",
    "        i += d_i\n",
    "        j += d_j\n",
    "    for row in matrix:\n",
    "        print(*(x + \" \" * (3 - len(x)) for x in map(str, row)), sep=\"\")\n",
    "\n",
    "\n",
    "num_spiral()"
   ]
  },
  {
   "cell_type": "code",
   "execution_count": null,
   "metadata": {},
   "outputs": [],
   "source": [
    "n, m, k = 3, 2, 3\n",
    "matrix1 = [[2, 5], [6, 7], [1, 8]]\n",
    "matrix2 = [[1, 2, 1], [0, 1, 0]]\n",
    "matrix3 = [[0] * k for _ in range(n)]\n",
    "\n",
    "for i in range(n):\n",
    "    for j in range(m):\n",
    "        for l in range(k):\n",
    "            matrix3[i][l] += (matrix1[i][j] * matrix2[j][l])\n",
    "\n",
    "\n",
    "print(matrix3)"
   ]
  },
  {
   "cell_type": "code",
   "execution_count": null,
   "metadata": {},
   "outputs": [],
   "source": [
    "# функция \n",
    "matrix1 = [[2, 5], [6, 7], [1, 8]] \n",
    "matrix2 = [[1, 2, 1], [0, 1, 0]] \n",
    "\n",
    "def multy_matrix(matrix1, matrix2):\n",
    "    n, m, k = len(matrix1), len(matrix1[0]), len(matrix2[0])\n",
    "    if m != len(matrix2): return 'Нельзя перемножить'\n",
    "    matrix3 = [[0] * k for _ in range(n)]\n",
    "\n",
    "    for i in range(n):\n",
    "        for j in range(m):\n",
    "            for l in range(k):\n",
    "                matrix3[i][l] += (matrix1[i][j] * matrix2[j][l])\n",
    "\n",
    "    return matrix3\n",
    "\n",
    "\n",
    "print(multy_matrix(matrix1, matrix2))"
   ]
  },
  {
   "cell_type": "code",
   "execution_count": null,
   "metadata": {},
   "outputs": [],
   "source": [
    "#  возведение матрицы в степень \n",
    "\n",
    "def multy_matrix(matrix, pow):      #\n",
    "    if pow == 1: return matrix\n",
    "    if len(matrix) != len(matrix[0]):\n",
    "        return 'Error: Нельзя перемножить'\n",
    "    n = len(matrix)\n",
    "    ran = range(n)\n",
    "\n",
    "    matrix1 = matrix.copy()\n",
    "    result = [[0] * n for _ in ran]\n",
    "\n",
    "    for _ in range(pow-1):\n",
    "        result = [[0] * n for _ in ran]\n",
    "        for i in ran:\n",
    "            for j in ran:\n",
    "                for l in ran:\n",
    "                    result[i][l] += (matrix[i][j] * matrix1[j][l])\n",
    "        matrix1 = result.copy()\n",
    "\n",
    "    return result\n",
    "\n",
    "\n",
    "M = [[2, 0], [6, 1]]\n",
    "multy_M = multy_matrix(M, 2)\n",
    "if isinstance(multy_M, str): print(multy_M)\n",
    "else:\n",
    "    for row in range(len(M)):\n",
    "        print(*multy_M[row])\n"
   ]
  },
  {
   "cell_type": "markdown",
   "metadata": {},
   "source": [
    "###  Кортежи    tuple"
   ]
  },
  {
   "cell_type": "code",
   "execution_count": null,
   "metadata": {},
   "outputs": [],
   "source": [
    "# ((нельзя присвоить по индексу))\n",
    "\n",
    "my_tuple = (1, 'python', [1, 2, 3]) \n",
    "print(my_tuple)                      # (1, 'python', [1, 2, 3])\n",
    "my_tuple[2][0] = 100   # но эл-ты изменяемых эл-тов в кортеже - изменяемы\n",
    "my_tuple[2].append(17) \n",
    "print(my_tuple)                       # (1, 'python', [100, 2, 3, 17])\n",
    "# my_tuple[2] = [3, 2, 1]            # ошибка  \n",
    "\n",
    "print(*'abc')"
   ]
  },
  {
   "cell_type": "code",
   "execution_count": null,
   "metadata": {},
   "outputs": [],
   "source": [
    "print(sum((3,2,5)))\n",
    "print(max((3,2,5)))\n",
    "# print(sum(('3', '2', '5'))) # не числа  - ошибка\n",
    "# print(max((3,'2','5')))      # если разные типы данных -  ошибка\n",
    "#  print(sum(['3', '2', '5']))  # и для списков    не числа  - ошибка\n",
    "#  print(max([3, '2', '5']))   #     разные типы данных -  ошибка\n",
    "\n",
    "sorted((3, 2, 5))"
   ]
  },
  {
   "cell_type": "code",
   "execution_count": null,
   "metadata": {},
   "outputs": [],
   "source": [
    "tuples = [(10, 20, 40), (40, 50, 60), (70, 80, 90),\n",
    "          (10, 90), (1, 2, 3, 4), (5, 6, 10, 2, 1, 77)]\n",
    "new_tuples = [list(el) for el in tuples]\n",
    "for i in range(len(new_tuples)):\n",
    "    new_tuples[i][-1] = 100\n",
    "    new_tuples[i] = tuple(new_tuples[i])\n",
    "\n",
    "print(new_tuples)"
   ]
  },
  {
   "cell_type": "code",
   "execution_count": null,
   "metadata": {},
   "outputs": [],
   "source": [
    "a = []\n",
    "a = a + [4]\n",
    "print(a)"
   ]
  },
  {
   "cell_type": "code",
   "execution_count": null,
   "metadata": {},
   "outputs": [],
   "source": [
    "# строка итерабельна   нннннн\n",
    "\n",
    "n = '11281'\n",
    "if max(n) == min(n):\n",
    "    print('YES')\n",
    "else:\n",
    "    print('NO')\n",
    "\n",
    "print(max(n))\n",
    "print(sorted(n))"
   ]
  },
  {
   "cell_type": "code",
   "execution_count": null,
   "metadata": {},
   "outputs": [],
   "source": [
    "import array \n",
    "print(array.typecodes)   # всевозможные коды-типы данных в массиве    ИНФО\n",
    "array.array('f', [1.6, 1.3])"
   ]
  },
  {
   "cell_type": "code",
   "execution_count": null,
   "metadata": {},
   "outputs": [],
   "source": [
    "# ((циклическая перестановка))\n",
    "\n",
    "str1 ='hello'\n",
    "for i in range(len(str1)):\n",
    "    print(str1)\n",
    "    str1 = str1[1:] + str1[:1]"
   ]
  },
  {
   "cell_type": "code",
   "execution_count": null,
   "metadata": {},
   "outputs": [],
   "source": [
    "# ((выпрямить))  вложенные списки\n",
    "list1 = [3, [3, [9, [100, [100, 104], 1], 102], [9, [107, [100, 103], 1], 102]]]\n",
    "\n",
    "while any([isinstance(el, list) for el in list1]):  # если есть хоть один вложенный список\n",
    "    temp = []\n",
    "    for i in list1:\n",
    "        if isinstance(i, list):\n",
    "            temp.extend(i)\n",
    "        else:\n",
    "            temp.append(i)\n",
    "    list1 = temp\n",
    "\n",
    "maximum = max(list1)\n",
    "print(maximum)"
   ]
  },
  {
   "cell_type": "code",
   "execution_count": null,
   "metadata": {},
   "outputs": [],
   "source": [
    "# выпрямить список рекурсивно  ннннн \n",
    "arr = [3, [3, [9, [100, [100, 104], 1], 102], [9, [107, [100, 103], 1], 102]]]\n",
    "\n",
    "def flatten(lst):\n",
    "    for item in lst:\n",
    "        if isinstance(item, list):\n",
    "            yield from flatten(item)\n",
    "        else:\n",
    "            yield item\n",
    "\n",
    "flat_list = list(flatten(arr))\n",
    "print(flat_list)\n",
    "print(max(flat_list))"
   ]
  },
  {
   "cell_type": "code",
   "execution_count": null,
   "metadata": {},
   "outputs": [],
   "source": [
    "# среднеарифметическое неоднородного списка\n",
    "total = sum([sum(i) for i in list1])\n",
    "counter = sum([len(i) for i in list1])\n",
    "print(total/counter)\n",
    "\n",
    "\n",
    "list1 = [[8, 7, 1], [102, 7, 9], [105, 106, 102], [103, 98, 99, 100], [3, 2, 1]]\n",
    "for i in list1:\n",
    "     i.reverse()\n",
    "print(list1)\n"
   ]
  },
  {
   "cell_type": "code",
   "execution_count": null,
   "metadata": {},
   "outputs": [],
   "source": [
    "# Упаковка дубликатов (подсписки из одинаковых эл-тов)\n",
    "\n",
    "s = 'w w w w w w w w w w w w y y y t r t r r t r t r t w w w w w w w w'.split()  # input()\n",
    "# кидаем первый символ в наш список, также удалив его из входного списка\n",
    "seq = [[s.pop(0)]]\n",
    "\n",
    "for c in s:\n",
    "    if c in seq[-1]:\n",
    "        seq[-1].append(c)\n",
    "    else:\n",
    "        seq.append([c])\n",
    "\n",
    "print(seq)"
   ]
  },
  {
   "cell_type": "code",
   "execution_count": null,
   "metadata": {},
   "outputs": [],
   "source": [
    "# группировка в списки по n эл-тов  \n",
    "\n",
    "def chunked(symbols, n):\n",
    "    result = []\n",
    "    for i in range(0, len(symbols), n):\n",
    "        result.append(symbols[i:i + n])\n",
    "    return result\n",
    "\n",
    "symbols = 'a b v b v'.split()  # input()\n",
    "n = 3      #int(input())\n",
    "\n",
    "print(chunked(symbols, n))"
   ]
  },
  {
   "cell_type": "code",
   "execution_count": null,
   "metadata": {},
   "outputs": [],
   "source": [
    "# все комбинации данных символов\n",
    "\n",
    "symbols = 'a b v d'.split()\n",
    "res_list = [[]]\n",
    "\n",
    "for i in range(1,len(symbols)+1):\n",
    "    for j in range(len(symbols) +1 - i):\n",
    "        res_list.append(symbols[j:j+i])\n",
    "\n",
    "print(res_list)"
   ]
  },
  {
   "cell_type": "code",
   "execution_count": null,
   "metadata": {},
   "outputs": [],
   "source": [
    "# частное        заполнить матрицу по диагонали \n",
    "n, m = 3, 6  # [int(i) for i in input().split()]\n",
    "cnt = 1\n",
    "matrix = [[0]*m for _ in range(n)]\n",
    "\n",
    "for k in range(n+m-1):\n",
    "    i = 0 if k < m else k-(m-1)\n",
    "    j = k if k < m else m-1\n",
    "    while j >= 0 and i < n:\n",
    "        matrix[i][j] = cnt\n",
    "        cnt += 1\n",
    "        j -= 1\n",
    "        i += 1\n",
    "\n",
    "for row in range(n):\n",
    "    print(*[str(i).ljust(3) for i in matrix[row]])"
   ]
  },
  {
   "cell_type": "code",
   "execution_count": null,
   "metadata": {},
   "outputs": [],
   "source": [
    "# чужое     заполнить матрицу по диагонали\n",
    "n, m = 3, 6  # [int(el) for el in input().split()]\n",
    "matrix = [[None for _ in range(m)] for _ in range(n)]\n",
    "cnt = 1\n",
    "\n",
    "# проходим по всем диагоналям\n",
    "for d in range(n + m - 1):\n",
    "    for i in range(n):\n",
    "        for j in range(m):\n",
    "            if i + j == d:\n",
    "                matrix[i][j] = cnt\n",
    "                cnt += 1\n",
    "\n",
    "for i in range(n):\n",
    "    for j in range(m):\n",
    "        print(str(matrix[i][j]).ljust(3), end=\"\")\n",
    "    print()"
   ]
  },
  {
   "cell_type": "code",
   "execution_count": null,
   "metadata": {},
   "outputs": [],
   "source": [
    "# чужое 2     заполнить матрицу по диагонали\n",
    "n, m = 3, 6  # [int(i) for i in input().split()]\n",
    "\n",
    "matrix = [[None for i in range(m)] for j in range(n)]\n",
    "\n",
    "count = 1\n",
    "for i in range(m + n - 1):\n",
    "    for j in range(n):\n",
    "        if ((i - j) > -1) and ((i - j) < m):\n",
    "            matrix[j][i - j] = str(count).ljust(3)\n",
    "            count += 1\n",
    "\n",
    "for i in range(n):\n",
    "    for j in range(m):\n",
    "        print(str(matrix[i][j]).ljust(3), end=' ')\n",
    "    print()"
   ]
  },
  {
   "cell_type": "code",
   "execution_count": null,
   "metadata": {},
   "outputs": [],
   "source": [
    "# заполнить матрицу по спирали\n",
    "n, m = 3, 8  # [int(i) for i in input().split()]\n",
    "matrix = [[0]*m for _ in range(n)]\n",
    "i, j, cnt = 0, -1, 1\n",
    "\n",
    "for k in range(min(n, m)):\n",
    "    while True:\n",
    "        j = j + (-1)**k\n",
    "        matrix[i][j] = cnt\n",
    "        cnt += 1\n",
    "        if (j == m-1) or matrix[i][j + (-1)**k]:\n",
    "            break\n",
    "    while True:\n",
    "        if n == 1:\n",
    "            break\n",
    "        i = i + (-1)**k\n",
    "        if matrix[i][j]:\n",
    "            break\n",
    "        matrix[i][j] = cnt\n",
    "        cnt += 1\n",
    "        if (i == n-1) or matrix[i + (-1)**k][j]:\n",
    "            break\n",
    "\n",
    "\n",
    "for row in range(n):\n",
    "    print(*[str(i).ljust(3) for i in matrix[row]])"
   ]
  },
  {
   "cell_type": "code",
   "execution_count": null,
   "metadata": {},
   "outputs": [],
   "source": [
    "# чужое   заполнить матрицу по спирали\n",
    "n, m = map(int, input().split())\n",
    "\n",
    "i = 0\n",
    "j = 0\n",
    "cnt = 1\n",
    "\n",
    "a = [[0 for _ in range(m)] for _ in range(n)]\n",
    "\n",
    "while cnt < m * n:\n",
    "    while j < m - 1 and a[i][j + 1] == 0:\n",
    "        a[i][j] = cnt\n",
    "        j += 1\n",
    "        cnt += 1\n",
    "\n",
    "    while i < n - 1 and a[i + 1][j] == 0:\n",
    "        a[i][j] = cnt\n",
    "        i += 1\n",
    "        cnt += 1\n",
    "\n",
    "    while j > 0 and a[i][j - 1] == 0:\n",
    "        a[i][j] = cnt\n",
    "        j -= 1\n",
    "        cnt += 1\n",
    "\n",
    "    while i > 0 and a[i - 1][j] == 0:\n",
    "        a[i][j] = cnt\n",
    "        i -= 1\n",
    "        cnt += 1\n",
    "\n",
    "a[i][j] = cnt\n",
    "\n",
    "for i in range(n):\n",
    "    for j in range(m):\n",
    "        print(str(a[i][j]).ljust(3), end=' ')\n",
    "    print()"
   ]
  },
  {
   "cell_type": "code",
   "execution_count": null,
   "metadata": {},
   "outputs": [],
   "source": [
    "# чужое   заполнить матрицу по спирали\n",
    "\n",
    "n, m = 8, 6  # [int(i) for i in input().split()]\n",
    "matrix = [[0 for _ in range(m)]for _ in range(n)]\n",
    "x, y = 0, 0 \n",
    "d_x, d_y = 0, 1 \n",
    "matrix[0][0] = 1 \n",
    "count = 2  \n",
    "\n",
    "while count <= n * m:\n",
    "    if 0 <= x + d_x <= n - 1 and 0 <= y + d_y <= m - 1 and matrix[x + d_x][y + d_y] == 0:\n",
    "        matrix[x + d_x][y + d_y] = count\n",
    "        count += 1\n",
    "        x += d_x\n",
    "        y += d_y\n",
    "    else:  # переключить направление \n",
    "        d_x, d_y = d_y, -d_x\n",
    "\n",
    "for r in range(n):\n",
    "    for c in range(m):\n",
    "        print(str(matrix[r][c]).ljust(3), end=' ')\n",
    "    print()"
   ]
  },
  {
   "cell_type": "code",
   "execution_count": null,
   "metadata": {},
   "outputs": [],
   "source": [
    "# чужое   заполнить матрицу по спирали  ннн \n",
    "\n",
    "def num_spiral():\n",
    "    n, m = 6, 7       #map(int, input().split())\n",
    "    matrix = tuple([0] * m for _ in range(n))\n",
    "    i, j, d_i, d_j = 0, 0, 0, 1\n",
    "    for k in range(1, n * m + 1):\n",
    "        matrix[i][j] = k\n",
    "        if matrix[(i + d_i) % n][(j + d_j) % m]:\n",
    "            d_i, d_j = d_j, -d_i\n",
    "        i += d_i\n",
    "        j += d_j\n",
    "    for row in matrix:\n",
    "        print(*(x + \" \" * (3 - len(x)) for x in map(str, row)), sep=\"\")\n",
    "\n",
    "\n",
    "num_spiral()"
   ]
  },
  {
   "cell_type": "markdown",
   "metadata": {},
   "source": [
    "2 5\n",
    "6 7\n",
    "1 8\n",
    "\n",
    "1 2 1\n",
    "0 1 0"
   ]
  },
  {
   "cell_type": "code",
   "execution_count": null,
   "metadata": {},
   "outputs": [],
   "source": [
    "n, m, k = 3, 2, 3\n",
    "matrix1 = [[2, 5], [6, 7], [1, 8]]\n",
    "matrix2 = [[1, 2, 1], [0, 1, 0]]\n",
    "matrix3 = [[0] * k for _ in range(n)]\n",
    "\n",
    "for i in range(n):\n",
    "    for j in range(m):\n",
    "        for l in range(k):\n",
    "            matrix3[i][l] += (matrix1[i][j] * matrix2[j][l])\n",
    "\n",
    "\n",
    "print(matrix3)"
   ]
  },
  {
   "cell_type": "code",
   "execution_count": null,
   "metadata": {},
   "outputs": [],
   "source": [
    "# функция \n",
    "matrix1 = [[2, 5], [6, 7], [1, 8]]   \n",
    "matrix2 = [[1, 2, 1], [0, 1, 0]]\n",
    "\n",
    "def multy_matrix(matrix1, matrix2):\n",
    "    n, m, k = len(matrix1), len(matrix1[0]), len(matrix2[0])\n",
    "    if m != len(matrix2): return 'Нельзя перемножить'\n",
    "    matrix3 = [[0] * k for _ in range(n)]\n",
    "\n",
    "    for i in range(n):\n",
    "        for j in range(m):\n",
    "            for l in range(k):\n",
    "                matrix3[i][l] += (matrix1[i][j] * matrix2[j][l])\n",
    "\n",
    "    return matrix3\n",
    "\n",
    "\n",
    "print(multy_matrix(matrix1, matrix2))"
   ]
  },
  {
   "cell_type": "code",
   "execution_count": null,
   "metadata": {},
   "outputs": [],
   "source": [
    "#  возведение матрицы в степень \n",
    "\n",
    "def multy_matrix(matrix, pow):      #\n",
    "    if pow == 1: return matrix\n",
    "    if len(matrix) != len(matrix[0]):\n",
    "        return 'Error: Нельзя перемножить'\n",
    "    n = len(matrix)\n",
    "    ran = range(n)\n",
    "\n",
    "    matrix1 = matrix.copy()\n",
    "    result = [[0] * n for _ in ran]\n",
    "\n",
    "    for _ in range(pow-1):\n",
    "        result = [[0] * n for _ in ran]\n",
    "        for i in ran:\n",
    "            for j in ran:\n",
    "                for l in ran:\n",
    "                    result[i][l] += (matrix[i][j] * matrix1[j][l])\n",
    "        matrix1 = result.copy()\n",
    "\n",
    "    return result\n",
    "\n",
    "\n",
    "M = [[2, 0], [6, 1]]\n",
    "multy_M = multy_matrix(M, 2)\n",
    "if isinstance(multy_M, str): print(multy_M)\n",
    "else:\n",
    "    for row in range(len(M)):\n",
    "        print(*multy_M[row])\n"
   ]
  },
  {
   "cell_type": "markdown",
   "metadata": {},
   "source": [
    "### SET    НАБОРЫ    МНОЖЕСТВА "
   ]
  },
  {
   "cell_type": "code",
   "execution_count": null,
   "metadata": {},
   "outputs": [],
   "source": [
    "#   пересечение мн-в        ннн \n",
    "x = {\"apple\", \"banana\", \"cherry\"}\n",
    "y = {\"google\", \"microsoft\", \"apple\"}\n",
    "# x.intersection_update(y)     #  сохранит (в x) только эл-ты присутствующие в обоих наборах   \n",
    "# print(x)\n",
    "# z = x.intersection(y)             #  то же но   в новый набор     \n",
    "# print(z)\n",
    "# x.symmetric_difference_update(y)   # наоборот всё кроме дубликатов  ((исключающее или?))  \n",
    "# print(x)\n",
    "z = x.symmetric_difference(y)         #  то же но   в новый набор\n",
    "print(z)\n",
    "\n"
   ]
  },
  {
   "cell_type": "code",
   "execution_count": null,
   "metadata": {},
   "outputs": [],
   "source": [
    "A = {1, 2, -1, -8, -5}         # ИНФО\n",
    "A.add(frozenset({'h1w1112h1111bbbbww1h111qh', 444}))\n",
    "print(A)\n",
    "print(hash(\"yyywwwyyyyyyy\"))\n",
    "\n",
    "print(set('qwerty') == frozenset('qwerty'))    # True"
   ]
  },
  {
   "cell_type": "code",
   "execution_count": null,
   "metadata": {},
   "outputs": [],
   "source": [
    "# приёмы     убрать повторы в списке \n",
    "list_1 = [\"aaa\",\"bbb\",\"ccc\",\"aaa\",\"bbb\",\"ddd\"]\n",
    "list_2 = list(set(list_1))\n",
    "print(list_2)\n",
    "# убрать повторы в списке  (упорядоченный вариант)  нннн\n",
    "list_3 = list(dict.fromkeys(list_1))\n",
    "print(list_3)"
   ]
  },
  {
   "cell_type": "code",
   "execution_count": null,
   "metadata": {},
   "outputs": [],
   "source": [
    "# Можно короче \n",
    "\n",
    "a = set([1, 2, 1, 3, 4])\n",
    "b = {4, 4, 5, 6}\n",
    "c = {1, 2}\n",
    "print(c.issubset(a), c <= a)   # True True\n",
    "print(a.union(b), a | b)   # {1, 2, 3, 4, 5, 6} {1, 2, 3, 4, 5, 6}\n",
    "print(a.intersection(b), a & b)   # {4} {4}\n",
    "print(a.symmetric_difference(b), a ^ b)   # {1, 2, 3, 5, 6} {1, 2, 3, 5, 6}\n",
    "print(a.difference(b), a - b)   # {1, 2, 3} {1, 2, 3}\n",
    "\n",
    "print()\n",
    "# ((сразу несколько мн-в)) (кроме   symmetric_difference)\n",
    "myset1 = {1, 2, 3, 4, 5, 6}\n",
    "myset2 = {2, 3, 4, 5}\n",
    "myset3 = {5, 6, 7, 8}\n",
    "\n",
    "union1 = myset1.union(myset2, myset3)\n",
    "union2 = myset1 | myset2 | myset3\n",
    "\n",
    "difference1 = myset1.difference(myset2, myset3)\n",
    "# порядок выполнения слева-направо\n",
    "difference2 = myset1 - myset2 - myset3\n",
    "\n",
    "print(union1 == union2)\n",
    "print(difference1 == difference2)"
   ]
  },
  {
   "cell_type": "code",
   "execution_count": null,
   "metadata": {},
   "outputs": [],
   "source": [
    "myset = set(('aaa', 'bbbb', 'cc'))\n",
    "print(myset)"
   ]
  },
  {
   "cell_type": "code",
   "execution_count": null,
   "metadata": {},
   "outputs": [],
   "source": [
    "# myset1 = {1, 2, [5, 6], 7}  # множество не может содержать список\n",
    "# myset2 = {1, 2, {5, 6}, 7}  # множество не может содержать множество\n",
    "myset = {1, 2, (5, 6), 7}  # множество может содержать кортеж\n",
    "print(myset)\n",
    "\n",
    "print(set([()])== set())\n",
    "print(set([()])== {()})\n",
    "set([]) == set(()) == set('') == set()  # пустое мн-во\n",
    "\n"
   ]
  },
  {
   "cell_type": "code",
   "execution_count": null,
   "metadata": {},
   "outputs": [],
   "source": [
    "fruits = {'apple', 'banana', 'cherry', 'avocado', 'pineapple', 'apricot', 'banana', 'avocado', 'grapefruit'}\n",
    "print(*sorted(fruits, reverse=True))\n",
    "\n",
    "nums = {9, 7, 4, 3, 6}    # ннн в наборах чисел pop вместо случайного удаляет наименьший эл-т   и выстраивает остальные\n",
    "nums.pop()\n",
    "print(nums)\n",
    "\n",
    "print(hash(1))\n",
    "print(hash('1'))\n",
    "\n"
   ]
  },
  {
   "cell_type": "code",
   "execution_count": 1,
   "metadata": {},
   "outputs": [
    {
     "name": "stdout",
     "output_type": "stream",
     "text": [
      "[('...', 33), ('?', 30), ('и', 25), ('в', 24), ('///', 24), ('/', 22), ('.', 17), ('//', 17), ('кука', 16), ('....', 15), ('сссс', 14), ('а', 13), ('но', 8), ('?ссм', 8), ('с', 8), ('не', 8), ('на', 8), ('из', 7), ('..', 7), ('т', 6), ('=====', 6), ('я', 6), ('п', 6), ('!!!!!', 5), ('??', 5), ('¿', 5), ('у', 5), ('ж', 5), ('чтоб', 4), ('?п', 4), ('был', 4), ('что', 4), ('челов', 4), ('абэ', 4), ('???', 4), ('соус', 4), ('к', 4), ('?9', 4), ('да', 4), ('порош', 3), ('битко', 3), ('>', 3), (')', 3), ('потис', 3), ('шрам', 3), ('абори', 3), ('бэгэ', 3), ('смоло', 3), ('куку', 3), ('молод', 3), ('после', 3), ('местн', 3), ('врач', 3), ('ротис', 3), ('за', 3), ('по', 3), ('кук', 3), ('их', 3), ('чих', 3), ('шарм', 3), ('пропи', 3), ('это', 3), ('тролл', 3), ('врачу', 3), ('герас', 3), ('заста', 2), ('свои', 2), ('или', 2), ('звуки', 2), ('кобо', 2), ('всё', 2), ('thick', 2), ('напра', 2), ('буль', 2), ('скака', 2), ('!!!п', 2), ('тепер', 2), ('шар', 2), ('п?', 2), ('заика', 2), ('голов', 2), ('слуша', 2), ('пойма', 2), ('утопи', 2), ('рачу', 2), ('впред', 2), ('зря', 2), ('от', 2), ('slim', 2), ('смысы', 2), ('имел', 2), ('мы', 2), ('коров', 2), ('мусли', 2), ('+', 2), ('мут', 2), ('разря', 2), ('его', 2), ('так', 2), ('встав', 2), ('месяц', 2), ('бюль', 2), ('поздр', 2), ('вольт', 2), ('быть', 2), ('приво', 2), ('полям', 2), ('секре', 2), ('хейти', 2), ('тверд', 2), ('вувуз', 2), ('дорог', 2), ('олег', 2), ('ухаба', 2), ('ни', 2), ('стихи', 2), ('когда', 2), ('говор', 2), ('двест', 2), ('туман', 2), ('любви', 2), ('11', 2), ('?)', 2), ('то', 2), ('каясь', 2), ('узел', 2), ('кусоч', 2), ('Oscar', 2), ('5', 2), ('траво', 2), ('ашрам', 2), ('тык', 2), ('жизни', 2), ('силён', 2), ('прост', 2), ('кабо', 2), ('овсяк', 2), ('гэбэ', 2), ('крепд', 2), ('тут', 2), ('пять', 2), ('н', 2), ('форму', 2), ('пуль', 2), ('теши', 2), ('груст', 2), ('тань', 2), ('постр', 2), ('папуа', 2), ('лол', 2), ('посла', 1), ('пичка', 1), ('мамон', 1), ('поджа', 1), ('все', 1), ('слаба', 1), ('марго', 1), ('козли', 1), ('тихон', 1), ('апост', 1), ('моим', 1), ('для', 1), ('конь', 1), ('(жела', 1), ('упуст', 1), ('сидет', 1), ('радис', 1), ('лея', 1), ('джейм', 1), ('селен', 1), ('жабра', 1), ('доны', 1), ('вод', 1), ('рамсы', 1), ('олеся', 1), ('гог', 1), ('(едри', 1), ('the', 1), ('хабра', 1), ('вину', 1), ('жор', 1), ('кажду', 1), ('атак', 1), ('ск', 1), ('фейсб', 1), ('тлея', 1), ('тиши', 1), ('голос', 1), ('сестр', 1), ('ели', 1), ('губам', 1), ('домчи', 1), ('пятно', 1), ('ску', 1), ('вволю', 1), ('пятог', 1), ('лишь', 1), ('роди', 1), ('мысли', 1), ('задря', 1), ('палка', 1), ('крипт', 1), ('строч', 1), ('полуш', 1), ('<сков', 1), ('кусто', 1), ('дань', 1), ('мужик', 1), ('давил', 1), ('обсып', 1), ('плеть', 1), ('швамб', 1), ('роз', 1), ('and', 1), ('знаю', 1), ('церко', 1), ('два', 1), ('пап', 1), ('тащат', 1), ('всё/и', 1), ('губец', 1), ('жорж', 1), ('учини', 1), ('взяли', 1), ('паучи', 1), ('боре', 1), ('салье', 1), ('/но', 1), ('жрамш', 1), ('dick', 1), ('блядь', 1), ('му', 1), ('лишив', 1), ('остан', 1), ('my/to', 1), ('раз', 1), ('Bento', 1), ('старо', 1), ('(трав', 1), ('моем', 1), ('заимс', 1), ('вруба', 1), ('/пока', 1), ('сердц', 1), ('ну', 1), ('ука', 1), ('см', 1), ('гель', 1), ('страд', 1), ('кок', 1), ('scar', 1), ('бабом', 1), ('оттай', 1), ('сыгра', 1), ('ведь', 1), ('любит', 1), ('мышь', 1), ('гопот', 1), ('сорва', 1), ('кокну', 1), ('-', 1), ('fff', 1), ('лепес', 1), ('ус', 1), ('петь/', 1), ('совес', 1), ('/блаб', 1), ('Отнял', 1), ('спам', 1), ('артис', 1), ('сожжо', 1), ('прО', 1), ('ночью', 1), ('такой', 1), ('коле', 1), ('ашот', 1), ('рашм?', 1), ('кушат', 1), ('добра', 1), ('докук', 1), ('гамму', 1), ('наш', 1), ('хрип', 1), ('купчи', 1), ('расче', 1), ('!!!', 1), ('/от', 1), ('плавч', 1), ('едря', 1), ('жней', 1), ('волан', 1), ('madma', 1), ('весел', 1), ('=', 1), ('батис', 1), ('радос', 1), ('здря', 1), ('травм', 1), ('муж', 1), ('ка', 1), ('стран', 1), ('слыши', 1), ('бухаю', 1), ('прибы', 1), ('бабам', 1), ('верши', 1), ('треть', 1), ('стоун', 1), ('вилле', 1), ('друга', 1), ('бетхо', 1), ('дб', 1), ('маши', 1), ('зелО', 1), ('шарам', 1), ('бабул', 1), ('ладны', 1), ('scarf', 1), ('преть', 1), ('сануз', 1), ('русал', 1), ('книг', 1), ('шпиле', 1), ('/и', 1), ('попал', 1), ('внутр', 1), ('бэ', 1), ('иск', 1), ('коня', 1), ('вельз', 1), ('шпиге', 1), ('осы', 1), ('корм', 1), ('остаё', 1), ('мраш?', 1), ('дикту', 1), ('петь', 1), ('/пюль', 1), ('/бабо', 1), ('Шевчу', 1), ('//пор', 1), ('приме', 1), ('индоа', 1), ('тольк', 1), ('скепт', 1), ('гитле', 1), ('оглы', 1), ('ей', 1), ('марга', 1), ('3', 1), ('поумн', 1), ('краса', 1), ('потас', 1), ('отнЯв', 1), ('свита', 1), ('гаму', 1), ('сваст', 1), ('овен', 1), ('!!!!9', 1), ('сраму', 1), ('гены', 1), ('со', 1), ('воспе', 1), ('киваю', 1), ('(сужа', 1), ('мшар?', 1), ('закра', 1), ('переп', 1), ('иго', 1), ('драма', 1), ('латек', 1), ('музык', 1), ('во', 1), ('верну', 1), ('остро', 1), ('косы', 1), ('нау', 1), ('thin', 1), ('сотря', 1), ('народ', 1), ('сказа', 1), ('тикто', 1), ('?6666', 1), ('вкупе', 1), ('игры', 1), ('хажор', 1), ('споко', 1), ('длинн', 1), ('т(о)', 1), ('распр', 1), ('одной', 1), ('покаж', 1), ('неско', 1), ('разве', 1), ('пловч', 1), ('слыша', 1), ('потом', 1), ('поту', 1), ('!!!!а', 1), ('(', 1), ('друг', 1), ('(перс', 1), ('мышин', 1), ('/врач', 1), ('языке', 1), ('моздр', 1), ('вали', 1), ('губе', 1), ('выход', 1), ('китай', 1), ('шин', 1), ('конце', 1), ('гланд', 1), ('повыр', 1), ('рож', 1), ('фламб', 1), ('кукло', 1), ('\"', 1), ('выдав', 1), ('тоды', 1), ('алла', 1), ('красо', 1), ('(шрам', 1), ('уму)', 1), ('шепче', 1), ('забра', 1), ('ноздр', 1), ('мальв', 1), ('гипно', 1), ('шарж', 1), ('молва', 1), ('злове', 1), ('родит', 1), ('/.', 1), ('<клип', 1), ('власт', 1), ('штирл', 1), ('Раша', 1), ('пятне', 1), ('/сюже', 1), ('заи', 1), ('арий', 1), ('кроль', 1), ('но/и', 1), ('азазе', 1), ('игра?', 1), ('(тара', 1), ('слова', 1), ('сорат', 1), ('дура', 1), ('ролли', 1), ('нагна', 1), ('кошма', 1), ('баб', 1), ('зевал', 1), ('scare', 1), ('бра', 1), ('мам', 1), ('смеле', 1), ('masia', 1), ('слома', 1), ('план', 1), ('марш', 1), ('баню', 1), ('таким', 1), ('асы', 1), ('скоре', 1), ('эдак', 1), ('©', 1), ('сюжет', 1), ('алкаш', 1), ('крип', 1), ('понеж', 1), ('кокос', 1), ('шарфо', 1), ('спаси', 1), ('коим', 1), ('носов', 1), ('начин', 1), ('кормч', 1), ('велел', 1), ('пожув', 1), ('гитар', 1), ('ним', 1), ('рация', 1), ('превр', 1), ('же', 1), ('рога', 1), ('скота', 1), ('шотла', 1), ('/шоу', 1), ('атата', 1), ('батат', 1), ('пожев', 1), ('ма', 1), ('лицом', 1), ('купе', 1), ('рукам', 1), ('купец', 1), ('<', 1), ('донал', 1), ('ввод', 1), ('оживл', 1), ('scary', 1), ('уж', 1), ('корчм', 1), ('madem', 1), ('бабой', 1), ('опять', 1), ('наших', 1), ('отнял', 1), ('швабр', 1), ('ленч', 1), ('ужасе', 1), ('\"палк', 1), ('нет', 1), ('шпиль', 1), ('стиха', 1), ('допус', 1), ('какбэ', 1), ('(ван', 1), ('есть/', 1), ('(по)з', 1), ('ленче', 1), ('готов', 1), ('кожа', 1), ('петле', 1), ('кушал', 1), ('коба', 1), ('глухо', 1), ('стали', 1), ('козел', 1), ('проси', 1), ('/ты', 1), ('wall', 1), ('заслу', 1), ('эндшп', 1), ('дикар', 1), ('кота', 1), ('моэм', 1), ('спамш', 1), ('соль', 1), ('шины', 1), ('небе', 1), ('состр', 1), ('your/', 1), ('папу', 1), ('повсю', 1), ('австр', 1), ('отста', 1), ('(штра', 1), ('(возз', 1), ('мотай', 1), ('жаба', 1), ('всегд', 1), ('#гaвр', 1), ('тарак', 1), ('жница', 1), ('краси', 1), ('зазря', 1), ('кубе', 1), ('прокл', 1), ('бане', 1), ('Герас', 1), ('питбу', 1), ('поёт', 1), ('Минае', 1), ('/рача', 1), ('котов', 1), ('людей', 1), ('совет', 1), ('шариз', 1), ('...)', 1), ('бочко', 1), ('/молв', 1), ('позли', 1), ('трясу', 1), ('слабы', 1), ('мюнхг', 1), ('до', 1), ('часто', 1), ('губ', 1), ('съели', 1), ('мад(е', 1), ('совме', 1), ('масли', 1), ('детст', 1), ('выращ', 1), ('/пожу', 1), ('них', 1), ('ней', 1), ('косой', 1), ('муму', 1), ('!!!!п', 1), ('дёрга', 1), ('очень', 1), ('карАм', 1), ('бульб', 1), ('чайни', 1), ('двадц', 1), ('перег', 1), ('(см', 1), ('трип', 1), ('кидан', 1), ('звать', 1), ('пюль', 1), ('too/m', 1), ('уму', 1), ('прочИ', 1), ('воззр', 1), ('шмар', 1), ('гамле', 1), ('кэжуа', 1), ('рашпи', 1), ('трав', 1), ('самог', 1), ('!!!!8', 1), ('имейл', 1), ('алкош', 1), ('//иск', 1), ('аккур', 1), ('иногд', 1), ('бугаг', 1), ('карти', 1), ('ультр', 1), ('ему', 1), ('энерг', 1), ('меня', 1), ('лучше', 1), ('остря', 1), ('лабор', 1), ('/явол', 1), ('руки', 1), ('хмеле', 1), ('им', 1), ('заход', 1), ('архан', 1), ('(маза', 1), ('попу', 1), ('шраму', 1), ('раму', 1), ('хаму', 1), ('кошар', 1), ('скука', 1), ('мылом', 1), ('редис', 1), ('часте', 1), ('вино', 1), ('немно', 1), ('/каку', 1), ('страв', 1), ('жми', 1), ('остор', 1), ('батут', 1), ('плов', 1), ('узако', 1), ('укус', 1), ('линче', 1), ('МЕНЯ/', 1), ('рамш?', 1)]\n"
     ]
    }
   ],
   "source": [
    "#   МОЁ  МНЕ   количество разных слов             нннннннннн \n",
    "aa = '''\n",
    "\n",
    " \n",
    "'''\n",
    "\n",
    "\n",
    "\n",
    "a = aa.split()\n",
    "t = [i[:5] for i in a]\n",
    "b = set(t)\n",
    "d = dict()\n",
    "\n",
    "for el in b:\n",
    "    d.setdefault(el, t.count(el))\n",
    "print(sorted(d.items(), key=lambda x: x[1], reverse=True ))"
   ]
  },
  {
   "cell_type": "markdown",
   "metadata": {},
   "source": [
    "### DICT"
   ]
  },
  {
   "cell_type": "code",
   "execution_count": null,
   "metadata": {},
   "outputs": [],
   "source": [
    "# СЛОЖЕНИЕ СЛОВАРЕЙ\n",
    "dict_1 = {\"aaa\": 1, \"bbb\": 2, \"ccc\": 3}\n",
    "dict_2 = {\"ddd\": 4, \"eee\": 5, \"fff\": 6}\n",
    "merged_dict = {**dict_1, **dict_2}\n",
    "#  merged_dict = dict_1 | dict_2\n",
    "print(merged_dict)"
   ]
  },
  {
   "cell_type": "code",
   "execution_count": null,
   "metadata": {},
   "outputs": [],
   "source": [
    "# словарь    из кортежа кортежей    нннн    (списка кортежей, кортежа списков, списка списков)\n",
    "dict(((\"66666666666\", \"33333333333\"), (\"66666666\", \"33333333333\")))"
   ]
  },
  {
   "cell_type": "code",
   "execution_count": null,
   "metadata": {},
   "outputs": [],
   "source": [
    "# создать пустой словарь\n",
    "d = {}\n",
    "type(d)"
   ]
  },
  {
   "cell_type": "code",
   "execution_count": null,
   "metadata": {},
   "outputs": [],
   "source": [
    "{'qwert': 345, 'qwrt': 345, 'qwet': 345}.items()\n",
    "#  составить список кортежей (ключ, значение)  "
   ]
  },
  {
   "cell_type": "code",
   "execution_count": null,
   "metadata": {},
   "outputs": [],
   "source": [
    "dict1 = dict.fromkeys(['name', 'age', 'job'], 0)\n",
    "print(dict1)"
   ]
  },
  {
   "cell_type": "markdown",
   "metadata": {},
   "source": [
    "### общее "
   ]
  },
  {
   "cell_type": "code",
   "execution_count": null,
   "metadata": {},
   "outputs": [],
   "source": [
    "print(*range(6)) # распаковка \n",
    "\n",
    "fruits = (\"apple\", \"banana\", \"bana\", \"ba\", \"b\", \"cherry\")\n",
    "(green, *yellow, red) = fruits      # можно без скобок\n",
    "# если эл-тов больше переменных    *red   (можно   *green   или   *yellow)\n",
    "print(green); print(yellow); print(red) \n",
    "\n",
    "a, b, c = ['t', 'y', 'u']   #'tyu'  # распаковываются любые иттерабельные  ?\n",
    "print(a, b, c)\n",
    "\n"
   ]
  },
  {
   "cell_type": "code",
   "execution_count": null,
   "metadata": {},
   "outputs": [],
   "source": [
    "# объединение словарей (при совпадении ключей  значения суммировать )\n",
    "\n",
    "dict1 = {'a': 100, 'z': 333, 'b': 200, 'c': 300, 'd': 45,\n",
    "         'e': 98, 't': 76, 'q': 34, 'f': 90, 'm': 230}\n",
    "dict2 = {'a': 300, 'b': 200, 'd': 400, 't': 777,\n",
    "         'c': 12, 'p': 123, 'w': 111, 'z': 666}\n",
    "\n",
    "for key in dict1:\n",
    "    if key in dict2:\n",
    "        dict2[key] += dict1[key]\n",
    "    else:\n",
    "        dict2.update({key:dict1[key]})\n",
    "\n",
    "print(dict2)"
   ]
  },
  {
   "cell_type": "code",
   "execution_count": null,
   "metadata": {},
   "outputs": [],
   "source": [
    "# словарь  буква:кол-во \n",
    "text = 'footballcyberpunkextraterritorialityconversationalistblockophthalmoscopicinterdependencemamauserfff'\n",
    "result = {i:text.count(i) for i in set(text)}\n",
    "print(result)\n",
    "result2 = {}\n",
    "for word in text:\n",
    "    result2[word] = result2.get(word, 0) + 1\n",
    "print(result2)\n",
    "print(result2==result)\n",
    "print()\n",
    "\n",
    "\n",
    "#  my    слово встречающееся больше всего\n",
    "s = 'orange strawberry barley barley gooseberry apple apple'\n",
    "result = {}\n",
    "mx, word_mx = 0, ''\n",
    "for word in s.split():\n",
    "    result[word] = result.get(word, 0) + 1\n",
    "    if result[word] > mx: \n",
    "        mx = result[word]\n",
    "        word_mx = word\n",
    "    elif result[word] == mx and word_mx > word: \n",
    "        word_mx = word \n",
    "print(word_mx) \n",
    "\n",
    "#тоже    частность     приём?    поменяли ключ и значение\n",
    "s = 'orange orange barley barley strawberry gooseberry apple'\n",
    "mydict = {s.split().count(i): i for i in sorted(set(s.split()), reverse=True)}\n",
    "print(mydict[max(mydict)])\n",
    "\n",
    "\n",
    "\n",
    "# ищё\n",
    "pets = [('Hatiko', 'Parker', 'Wilson', 50),\n",
    "        ('Rusty', 'Josh', 'King', 25),\n",
    "        ('Fido', 'John', 'Smith', 28),\n",
    "        ('Butch', 'Jake', 'Smirnoff', 18),\n",
    "        ('Odi', 'Emma', 'Wright', 18),\n",
    "        ('Balto', 'Josh', 'King', 25),\n",
    "        ('Barry', 'Josh', 'King', 25),\n",
    "        ('Snape', 'Hannah', 'Taylor', 40),\n",
    "        ('Horry', 'Martha', 'Robinson', 73),\n",
    "        ('Giro', 'Alex', 'Martinez', 65),\n",
    "        ('Zooma', 'Simon', 'Nevel', 32),\n",
    "        ('Lassie', 'Josh', 'King', 25),\n",
    "        ('Chase', 'Martha', 'Robinson', 73),\n",
    "        ('Ace', 'Martha', 'Williams', 38),\n",
    "        ('Rocky', 'Simon', 'Nevel', 32)]\n",
    "\n",
    "\n",
    "result = {}\n",
    "for pet in pets:\n",
    "    result.setdefault(pet[1:], []).append(pet[0]) \n",
    "\n",
    "\n",
    "print(result)"
   ]
  },
  {
   "cell_type": "code",
   "execution_count": null,
   "metadata": {},
   "outputs": [],
   "source": [
    "#  my    слово встречающееся меньше всего\n",
    "s = 'barley , barley, Apple. orange strawberry gooseberry'\n",
    "s_list = [el.lower().strip('.,!?:;-') for el in s.split()]\n",
    "result = {}\n",
    "for word in s_list:\n",
    "    if word=='': continue\n",
    "    result[word] = result.get(word, 0) + 1\n",
    "\n",
    "result2 = {v:k  for k,v in sorted(result.items(), reverse=True)}\n",
    "\n",
    "print(result2)\n",
    "print(result2[min(result2)])\n",
    "\n",
    "\n",
    "# вар \n",
    "dct = {}\n",
    "lst = [word.strip('.,!?:;-') for word in s.lower().split()]\n",
    "for word in lst:\n",
    "    if word=='': continue\n",
    "    dct[word] = dct.get(word, 0) + 1\n",
    "lst = [(value, key) for key, value in dct.items()]\n",
    "lst.sort()\n",
    "print(lst[0][1])\n",
    "\n",
    "\n",
    "# ищо\n",
    "s = 'a b c a a d c'\n",
    "\n",
    "my_dict = {}\n",
    "my_list = []\n",
    "\n",
    "for word in s.split():\n",
    "    if word in my_dict:\n",
    "        my_list.append(word + '_' + str(my_dict[word]))\n",
    "    else:\n",
    "        my_list.append(word)\n",
    "    my_dict[word] = my_dict.get(word, 0) + 1\n",
    "print(my_dict)\n",
    "print(my_list)\n",
    "\n",
    "\n",
    "# число и его делители\n",
    "numbers = [34, 10, 4, 6, 10, 23, 90, 100, 21, 35,\n",
    "           95, 1, 36, 38, 19, 1, 6, 87, 1000, 13456, 360]\n",
    "\n",
    "result = {i: [j for j in range(1, i+1) if not i % j] for i in numbers}\n",
    "print(result)"
   ]
  }
 ],
 "metadata": {
  "kernelspec": {
   "display_name": "Python 3",
   "language": "python",
   "name": "python3"
  },
  "language_info": {
   "codemirror_mode": {
    "name": "ipython",
    "version": 3
   },
   "file_extension": ".py",
   "mimetype": "text/x-python",
   "name": "python",
   "nbconvert_exporter": "python",
   "pygments_lexer": "ipython3",
   "version": "3.12.10"
  }
 },
 "nbformat": 4,
 "nbformat_minor": 2
}
