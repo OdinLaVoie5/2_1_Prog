{
 "cells": [
  {
   "cell_type": "markdown",
   "metadata": {},
   "source": [
    "### numpy  - для работы с массивами    имеет функции для работы в области линейной алгебры, преобразования Фурье и матриц\n"
   ]
  },
  {
   "cell_type": "markdown",
   "metadata": {},
   "source": [
    "### начало"
   ]
  },
  {
   "cell_type": "code",
   "execution_count": 1,
   "metadata": {},
   "outputs": [
    {
     "name": "stdout",
     "output_type": "stream",
     "text": [
      "[1 2 3 4 5]\n",
      "<class 'numpy.ndarray'>\n",
      "1.26.1\n",
      "[[4.24399158e-314 0.00000000e+000 0.00000000e+000]\n",
      " [0.00000000e+000 0.00000000e+000 1.11253693e-308]]\n",
      "[[0. 0. 0. 0.]]\n",
      "[[1. 1. 1.]\n",
      " [1. 1. 1.]]\n",
      "[-1 -1 -1 -1]\n",
      "[0. 0. 0. 0.]\n",
      "[1 2 3 4 5 6 7 8 9]\n",
      "[1.  1.5 2.  2.5 3.  3.5 4.  4.5 5.  5.5 6.  6.5 7.  7.5 8.  8.5 9.  9.5]\n",
      "1.5\n"
     ]
    }
   ],
   "source": [
    "import numpy as np\n",
    "arr = np.array([1, 2, 3, 4, 5])  # преобразовать массивоподобный объект в массив NumPy\n",
    "print(arr)\n",
    "print(type(arr))\n",
    "print(np.__version__)\n",
    "\n",
    "\n",
    "print(np.ndarray([2, 3]))   # многомерный массив ? \n",
    "print(np.zeros(shape=(1,4)))     \n",
    "print(np.ones((2,3)))\n",
    "print(np.full((4,), -1))\n",
    "print(np.empty((4,)))\n",
    "\n",
    "print(np.arange(1, 10))    #  создать массив 1,2, … ,9, 10         (range(10) у py )\n",
    "b = np.arange(1, 10, 0.5)   #  создать массив с шагом н/р  0.5 \n",
    "print(b)    \n",
    "print(b[1])\n"
   ]
  },
  {
   "cell_type": "code",
   "execution_count": 2,
   "metadata": {},
   "outputs": [
    {
     "name": "stdout",
     "output_type": "stream",
     "text": [
      "3\n",
      "5\n",
      "\n",
      "6\n",
      "[2 4]\n",
      "[4 5]\n",
      "[4 9 4]\n",
      "[[2 3 4]\n",
      " [7 8 9]]\n"
     ]
    }
   ],
   "source": [
    "arr0 = np.array(42)  # нульмерный массив\n",
    "arr1 = np.array([1, 2, 3, 4, 5])  # одномерный массив\n",
    "arr2 = np.array([[1, 2, 3], [4, 5, 6]]) # двумерный массив\n",
    "# трёхмерный массив\n",
    "arr3 = np.array([[[1, 2, 3], [4, 5, 6]], [[1, 2, 3], [4, 5, 6]]])\n",
    "\n",
    "print(arr3.ndim)  # размерность массива\n",
    "\n",
    "arr5 = np.array([1, 2, 3, 4], ndmin=5) # создать массив опред размерности \n",
    "print(arr5.ndim)\n",
    "\n",
    "print()\n",
    "print(arr3[0, 1, 2]) #  доступ к элементам\n",
    "print(arr1[1:5:2])  # срез как в списках\n",
    "print(arr3[1, 1, :2])  # срез н/р в трёхмерном массиве\n",
    "\n",
    "# необычно!  срез в двумерном массиве и обращение здесь 3  к каждому элементу среза\n",
    "arr = np.array([[1, 2, 3, 4, 5], [6, 7, 8, 9, 10], [1, 2, 3, 4, 5]])\n",
    "print(arr[0:3, 3])   # [4, 9, 4]\n",
    "print(arr[0:2, 1:4])\n"
   ]
  },
  {
   "cell_type": "code",
   "execution_count": 3,
   "metadata": {},
   "outputs": [
    {
     "name": "stdout",
     "output_type": "stream",
     "text": [
      "<U6\n",
      "|S1\n",
      "[1 2 3]\n"
     ]
    }
   ],
   "source": [
    "arr = np.array(['apple', 'banana', 'cherry'])\n",
    "print(arr.dtype)  # тип numpy\n",
    "arr = np.array([1, 2, 3, 4], dtype='S')  # назначить тип   (каждому эл-ту?)\n",
    "print(arr.dtype)  \n",
    "\n",
    "arr = np.array([1.1, 2.1, 3.1])\n",
    "newarr = arr.astype('i')         # изменить тип \n",
    "print(newarr)\n"
   ]
  },
  {
   "cell_type": "code",
   "execution_count": 4,
   "metadata": {},
   "outputs": [
    {
     "name": "stdout",
     "output_type": "stream",
     "text": [
      "(2, 4)\n",
      "[[[[[1 2 3 4]]]]]\n",
      "shape of array : (1, 1, 1, 1, 4)\n",
      "[[ 1  2  3  4]\n",
      " [ 5  6  7  8]\n",
      " [ 9 10 11  0]]\n",
      "[[[1 2]\n",
      "  [3 4]]\n",
      "\n",
      " [[5 6]\n",
      "  [7 8]]]\n",
      "_________\n",
      "[1 2 3 4 5 6]\n"
     ]
    }
   ],
   "source": [
    "arr = np.array([[1, 2, 3, 4], [5, 6, 7, 8]])\n",
    "print(arr.shape)  # форма массива (кортеж из числа эл-тов в каждом измерении)   (2,4)\n",
    "\n",
    "\n",
    "arr = np.array([1, 2, 3, 4], ndmin=5)\n",
    "print(arr)\n",
    "print('shape of array :', arr.shape)\n",
    "\n",
    "\n",
    "arr = np.array([1, 2, 3, 4, 5, 6, 7, 8, 9, 10, 11, 12])\n",
    "newarr = arr.reshape(3, 4)  # изменить форму (размерность) \n",
    "arr[11] = 0\n",
    "print(newarr) # форма изменилась  но зависимость осталась\n",
    "\n",
    "\n",
    "arr = np.array([1, 2, 3, 4, 5, 6, 7, 8])\n",
    "newarr = arr.reshape(2, 2, -1)  # -1 если неизвестное (пусть считает автоматом)\n",
    "print(newarr)\n",
    "\n",
    "print('_________')\n",
    "arr = np.array([[1, 2, 3], [4, 5, 6]])\n",
    "newarr = arr.reshape(-1)      # сделать одномерным \n",
    "print(newarr)\n",
    "## другие методы для изменения формы ...  flatten ravel rot90 flip fliplr flipud\n"
   ]
  },
  {
   "cell_type": "code",
   "execution_count": 5,
   "metadata": {},
   "outputs": [
    {
     "name": "stdout",
     "output_type": "stream",
     "text": [
      "1\n",
      "2\n",
      "4\n",
      "5\n",
      "7\n",
      "8\n",
      "10\n",
      "11\n",
      "(0, 0) 1\n",
      "(0, 1) 2\n",
      "(0, 2) 3\n",
      "(0, 3) 4\n",
      "(1, 0) 5\n",
      "(1, 1) 6\n",
      "(1, 2) 7\n",
      "(1, 3) 8\n"
     ]
    }
   ],
   "source": [
    "# циклы\n",
    "arr = np.array([[[1, 2], [4, 5]], [[7, 8], [10, 11]]])\n",
    "'''\n",
    "for x in arr:\n",
    "  for y in x:\n",
    "    for z in y:\n",
    "      print(z)\n",
    "'''\n",
    "for x in np.nditer(arr):   # позволяет обойтись без вложенных циклов \n",
    "  print(x)\n",
    "\n",
    "\n",
    "arr = np.array([[1, 2, 3, 4], [5, 6, 7, 8]])\n",
    "for idx, x in np.ndenumerate(arr):      # многомерный вариант метода  enumerate\n",
    "  print(idx, x)\n"
   ]
  },
  {
   "cell_type": "code",
   "execution_count": 6,
   "metadata": {},
   "outputs": [
    {
     "name": "stdout",
     "output_type": "stream",
     "text": [
      "[13 17 21]\n",
      "[5 7 9]\n",
      "[1 2 3 4 5 6 1 2 3 1 2 3]\n",
      "[[[[ 1  2]\n",
      "   [ 3  4]\n",
      "   [11 12]\n",
      "   [13 33]]\n",
      "\n",
      "  [[ 5  6]\n",
      "   [ 7  8]\n",
      "   [14 15]\n",
      "   [16 66]]]\n",
      "\n",
      "\n",
      " [[[ 5  6]\n",
      "   [ 7  8]\n",
      "   [21 22]\n",
      "   [23 77]]\n",
      "\n",
      "  [[ 1  2]\n",
      "   [ 3  4]\n",
      "   [24 25]\n",
      "   [26 88]]]]\n",
      "-------------\n",
      "[[1 4]\n",
      " [2 5]\n",
      " [3 6]]\n"
     ]
    }
   ],
   "source": [
    "s = np.array([1, 2, 3])\n",
    "d = np.array([4, 5, 6])\n",
    "# (сложение ((прямое)) массивов    отличается от python  (поэлементно +, -, *, ... ))\n",
    "print(s + d + d + d)\n",
    "print(np.add(s,d))\n",
    "\n",
    "# сложение ((слияние)) (как в py) массивов\n",
    "arr = np.concatenate((s, d, s, s))  \n",
    "print(arr)\n",
    "\n",
    "arr1 = np.array([[[[1, 2], [3, 4]], [[5, 6], [7, 8]]], [[[5, 6], [7, 8]], [[1, 2], [3, 4]]]])\n",
    "arr2 = np.array([[[[11, 12], [13,33]], [[14, 15], [16, 66]]], [[[21, 22], [23, 77]], [[24, 25], [26, 88]]]])\n",
    "arr = np.concatenate((arr1, arr2), axis=2)\n",
    "print(arr)\n",
    "\n",
    "# сложение ((объединение)) массивов  (+1 измерение)\n",
    "print('-------------')\n",
    "arr1 = np.array([1, 2, 3])\n",
    "arr2 = np.array([4, 5, 6])\n",
    "arr = np.stack((arr1, arr2), axis=1)\n",
    "print(arr)\n"
   ]
  },
  {
   "cell_type": "markdown",
   "metadata": {},
   "source": [
    "### _______ для сравнения  (удалить?)"
   ]
  },
  {
   "cell_type": "code",
   "execution_count": 7,
   "metadata": {},
   "outputs": [
    {
     "name": "stdout",
     "output_type": "stream",
     "text": [
      "[[[ 1  2]\n",
      "  [ 3  4]]\n",
      "\n",
      " [[ 5  6]\n",
      "  [ 7  8]]\n",
      "\n",
      " [[ 9 10]\n",
      "  [11 12]]\n",
      "\n",
      " [[13 14]\n",
      "  [15 16]]]\n",
      "-----------\n",
      "[[[ 1  2]\n",
      "  [ 3  4]\n",
      "  [ 9 10]\n",
      "  [11 12]]\n",
      "\n",
      " [[ 5  6]\n",
      "  [ 7  8]\n",
      "  [13 14]\n",
      "  [15 16]]]\n",
      "-----------\n",
      "[[[ 1  2  9 10]\n",
      "  [ 3  4 11 12]]\n",
      "\n",
      " [[ 5  6 13 14]\n",
      "  [ 7  8 15 16]]]\n"
     ]
    }
   ],
   "source": [
    "arr1 = np.array([[[1, 2], [3, 4]], [[5, 6], [7, 8]]])\n",
    "arr2 = np.array([[[9, 10], [11, 12]], [[13, 14], [15, 16]]])\n",
    "\n",
    "arr = np.concatenate((arr1, arr2))\n",
    "print(arr)\n",
    "print('-----------')\n",
    "arr = np.concatenate((arr1, arr2), axis=1)\n",
    "print(arr)\n",
    "print('-----------')\n",
    "arr = np.concatenate((arr1, arr2), axis=2)\n",
    "print(arr)\n",
    "\n",
    "# [[[ 1  2][ 3  4]]  [[ 5  6][ 7  8]]  [[ 9 10][11 12]]  [[13 14][15 16]]]   (4, 2, 2)\n",
    "#     [[[ 1  2][ 3  4][ 9 10][11 12]]  [[ 5  6][ 7  8][13 14][15 16]]]       (2, 4, 2)\n",
    "#       [[[ 1  2  9 10][ 3  4 11 12]]  [[ 5  6 13 14][ 7  8 15 16]]]         (2, 2, 4) \n"
   ]
  },
  {
   "cell_type": "code",
   "execution_count": 8,
   "metadata": {},
   "outputs": [
    {
     "name": "stdout",
     "output_type": "stream",
     "text": [
      "[[[[ 1  2]\n",
      "   [ 3  4]]\n",
      "\n",
      "  [[ 5  6]\n",
      "   [ 7  8]]]\n",
      "\n",
      "\n",
      " [[[ 9 10]\n",
      "   [11 12]]\n",
      "\n",
      "  [[13 14]\n",
      "   [15 16]]]]\n",
      "-----------\n",
      "[[[[ 1  2]\n",
      "   [ 3  4]]\n",
      "\n",
      "  [[ 9 10]\n",
      "   [11 12]]]\n",
      "\n",
      "\n",
      " [[[ 5  6]\n",
      "   [ 7  8]]\n",
      "\n",
      "  [[13 14]\n",
      "   [15 16]]]]\n",
      "-----------\n",
      "[[[[ 1  2]\n",
      "   [ 9 10]]\n",
      "\n",
      "  [[ 3  4]\n",
      "   [11 12]]]\n",
      "\n",
      "\n",
      " [[[ 5  6]\n",
      "   [13 14]]\n",
      "\n",
      "  [[ 7  8]\n",
      "   [15 16]]]]\n",
      "-----------\n",
      "[[[[ 1  9]\n",
      "   [ 2 10]]\n",
      "\n",
      "  [[ 3 11]\n",
      "   [ 4 12]]]\n",
      "\n",
      "\n",
      " [[[ 5 13]\n",
      "   [ 6 14]]\n",
      "\n",
      "  [[ 7 15]\n",
      "   [ 8 16]]]]\n"
     ]
    }
   ],
   "source": [
    "arr = np.stack((arr1, arr2))\n",
    "print(arr)\n",
    "print('-----------')\n",
    "arr = np.stack((arr1, arr2), axis=1)\n",
    "print(arr)\n",
    "print('-----------')\n",
    "arr = np.stack((arr1, arr2), axis=2)\n",
    "print(arr)\n",
    "print('-----------')\n",
    "arr = np.stack((arr1, arr2), axis=3)\n",
    "print(arr)\n",
    "\n",
    "# [[[[ 1  2][ 3  4]]  [[ 5  6][ 7  8]]]   [[[ 9 10][11 12]]  [[13 14][15 16]]]] \n",
    "# [[[[ 1  2][ 3  4]]  [[ 9 10][11 12]]]   [[[ 5  6][ 7  8]]  [[13 14][15 16]]]]\n",
    "# [[[[ 1  2][ 9 10]]  [[ 3  4][11 12]]]   [[[ 5  6][13 14]]  [[ 7  8][15 16]]]]\n",
    "# [[[[ 1  9][ 2 10]]  [[ 3 11][ 4 12]]]   [[[ 5 13][ 6 14]]  [[ 7 15][ 8 16]]]]\n"
   ]
  },
  {
   "cell_type": "code",
   "execution_count": 9,
   "metadata": {},
   "outputs": [
    {
     "name": "stdout",
     "output_type": "stream",
     "text": [
      "[[[ 1  2]\n",
      "  [ 3  4]\n",
      "  [ 9 10]\n",
      "  [11 12]]\n",
      "\n",
      " [[ 5  6]\n",
      "  [ 7  8]\n",
      "  [13 14]\n",
      "  [15 16]]]\n",
      "-----------\n",
      "[[[ 1  2]\n",
      "  [ 3  4]]\n",
      "\n",
      " [[ 5  6]\n",
      "  [ 7  8]]\n",
      "\n",
      " [[ 9 10]\n",
      "  [11 12]]\n",
      "\n",
      " [[13 14]\n",
      "  [15 16]]]\n",
      "-----------\n",
      "[[[ 1  2  9 10]\n",
      "  [ 3  4 11 12]]\n",
      "\n",
      " [[ 5  6 13 14]\n",
      "  [ 7  8 15 16]]]\n"
     ]
    }
   ],
   "source": [
    "arr = np.hstack((arr1, arr2))\n",
    "print(arr)\n",
    "print('-----------')\n",
    "arr = np.vstack((arr1, arr2))\n",
    "print(arr)\n",
    "print('-----------')\n",
    "arr = np.dstack((arr1, arr2))\n",
    "print(arr) \n",
    "\n",
    "#      [[[ 1  2][ 3  4][ 9 10][11 12]]  [[ 5  6][ 7  8][13 14][15 16]]]\n",
    "#  [[[ 1  2][ 3  4]]  [[ 5  6][ 7  8]]  [[ 9 10][11 12]]  [[13 14][15 16]]]\n",
    "#        [[[ 1  2  9 10][ 3  4 11 12]]  [[ 5  6 13 14][ 7  8 15 16]]]\n"
   ]
  },
  {
   "cell_type": "markdown",
   "metadata": {},
   "source": [
    "###  далее "
   ]
  },
  {
   "cell_type": "code",
   "execution_count": 10,
   "metadata": {},
   "outputs": [
    {
     "name": "stdout",
     "output_type": "stream",
     "text": [
      "[array([1, 2]), array([3, 4]), array([5]), array([6])]\n",
      "[array([[1, 2, 3],\n",
      "       [4, 5, 6]]), array([[ 7,  8,  9],\n",
      "       [10, 11, 12]]), array([[13, 14, 15],\n",
      "       [16, 17, 18]])]\n",
      "[array([[ 1],\n",
      "       [ 4],\n",
      "       [ 7],\n",
      "       [10],\n",
      "       [13],\n",
      "       [16]]), array([[ 2],\n",
      "       [ 5],\n",
      "       [ 8],\n",
      "       [11],\n",
      "       [14],\n",
      "       [17]]), array([[ 3],\n",
      "       [ 6],\n",
      "       [ 9],\n",
      "       [12],\n",
      "       [15],\n",
      "       [18]])]\n"
     ]
    }
   ],
   "source": [
    "arr = np.array([1, 2, 3, 4, 5, 6])\n",
    "newarr = np.array_split(arr, 4) # разделение массива на (по возможности) равные части (в списке)\n",
    "# newarr = np.split(arr, 3)   # разделение массива (если не делится нацело - ошибка)\n",
    "print(newarr)\n",
    "\n",
    "arr = np.array([[1, 2, 3], [4, 5, 6], [7, 8, 9], [10, 11, 12], [13, 14, 15], [16, 17, 18]])\n",
    "newarr = np.array_split(arr, 3)\n",
    "print(newarr)\n",
    "\n",
    "arr = np.array([[1, 2, 3], [4, 5, 6], [7, 8, 9], [10, 11, 12], [13, 14, 15], [16, 17, 18]])\n",
    "newarr = np.array_split(arr, 3, axis=1)\n",
    "print(newarr)\n",
    "\n",
    "# ещё   .hsplit(arr, 3)   vsplit()   dsplit()   ((тоже что array_split  по осям  ??))\n"
   ]
  },
  {
   "cell_type": "code",
   "execution_count": 11,
   "metadata": {},
   "outputs": [
    {
     "name": "stdout",
     "output_type": "stream",
     "text": [
      "(array([3, 5, 6], dtype=int64),) !!!\n",
      "(array([1, 3, 5, 7], dtype=int64),)\n",
      "2\n",
      "[1 2 3]\n"
     ]
    }
   ],
   "source": [
    "arr = np.array([1, 2, 3, 4, 5, 4, 4])\n",
    "x = np.where(arr == 4) # поиск  -> массив позиций соответствующих условию ?\n",
    "print(x,  '!!!')\n",
    "\n",
    "arr = np.array([1, 2, 3, 4, 5, 6, 7, 8])\n",
    "x = np.where(arr % 2 == 0)    # где чётные\n",
    "print(x)\n",
    "\n",
    "arr = np.array([6, 7, 8, 9])\n",
    "x = np.searchsorted(arr, 7, side='right') # поиск позиция чтобы сохранилась сортировка\n",
    "print(x)\n",
    "arr = np.array([1, 3, 5, 7])\n",
    "x = np.searchsorted(arr, [2, 4, 6]) #  тоже несколько \n",
    "print(x)\n"
   ]
  },
  {
   "cell_type": "code",
   "execution_count": 12,
   "metadata": {},
   "outputs": [
    {
     "name": "stdout",
     "output_type": "stream",
     "text": [
      "[[2 3 4]\n",
      " [0 1 5]]\n",
      "[41 43]\n",
      "[False, False, True, True]\n",
      "[43 44]\n",
      "[False False  True  True]\n",
      "[43 44]\n",
      "[3 4 5]\n"
     ]
    }
   ],
   "source": [
    "# сортировка \n",
    "arr = np.array([[3, 2, 4], [5, 0, 1]])\n",
    "print(np.sort(arr)) \n",
    "#  -->  отсортированную (по всем подмассивам) копию (а sort py меняет сам список )\n",
    "\n",
    "# фильтр (маска )\n",
    "arr = np.array([41, 42, 43, 44])\n",
    "x = arr[[True, False, True, False]]\n",
    "print(x)\n",
    "\n",
    "# маску можно создать циклом \n",
    "filter_arr = []\n",
    "for element in arr:\n",
    "    if element > 42:\n",
    "        filter_arr.append(True)\n",
    "    else:\n",
    "        filter_arr.append(False)\n",
    "\n",
    "newarr = arr[filter_arr]\n",
    "print(filter_arr)\n",
    "print(newarr)\n",
    "\n",
    "#  но можно проще \n",
    "filter_arr = arr > 42   # др пример filter_arr = arr % 2 == 0 (только чётные)\n",
    "newarr = arr[filter_arr]\n",
    "print(filter_arr)\n",
    "print(newarr)\n",
    "\n",
    "arr = np.array([[3, 2, 4], [5, 0, 1]])  # можно многомерный массив\n",
    "print(arr[arr > 2])  # --> [3 4 5]\n"
   ]
  },
  {
   "cell_type": "markdown",
   "metadata": {},
   "source": [
    "###  randon np"
   ]
  },
  {
   "cell_type": "code",
   "execution_count": 13,
   "metadata": {},
   "outputs": [
    {
     "name": "stdout",
     "output_type": "stream",
     "text": [
      "83\n",
      "[ 4 16 50 95 56]\n",
      "[[92 26 91 88 96]\n",
      " [13 78 46 73 71]\n",
      " [55 18 26  0 13]]\n",
      "0.16498502679045435\n",
      "[0.32060642 0.72685502 0.12631642 0.58332978 0.71875248]\n",
      "[[0.63952084 0.76736766 0.45142304 0.0224252  0.4022235 ]\n",
      " [0.21753029 0.4621359  0.85898259 0.06292731 0.83801116]\n",
      " [0.64161466 0.58873913 0.42984652 0.2042996  0.02700242]]\n",
      "7\n",
      "[9 3 3 9 5]\n",
      "[[3 3 3 7 7]\n",
      " [9 3 3 3 5]\n",
      " [3 3 9 5 7]]\n",
      "---------------\n",
      "5\n",
      "[7 7 7 7 7 7 5 7 7 5 7 5 3 5 7 7 7 7 5 5 7 7 3 5 7 7 3 3 7 5 5 5 3 7 7 7 7\n",
      " 7 5 5 7 7 7 5 7 7 7 5 7 3 3 3 7 7 7 7 7 3 5 7 5 5 5 7 5 7 7 5 5 5 5 5 7 7\n",
      " 5 7 5 5 7 7 7 7 7 7 7 5 5 3 5 7 5 5 5 5 5 7 7 7 7 7]\n",
      "[[7 7 7 5 3]\n",
      " [5 7 7 7 5]\n",
      " [3 7 7 7 5]]\n",
      "[5 1 2 3 4]\n",
      "[4 3 1 5 2]\n"
     ]
    }
   ],
   "source": [
    "from numpy import random\n",
    "\n",
    "x = random.randint(100)          # случайное целое число до н/р 100\n",
    "print(x)\n",
    "x = random.randint(100, size=5)  # массив н/р 5-и случайных целых чисел   н/р до 100\n",
    "print(x)\n",
    "x = random.randint(100, size=(3, 5)) # тоже многомерный массив\n",
    "print(x)\n",
    "\n",
    "x = random.rand()       # случайное float ?  от 0 ло 1\n",
    "print(x)\n",
    "x = random.rand(5)      # массив н/р 5-и случайных float ? чисел    от 0 ло 1\n",
    "print(x)\n",
    "x = random.rand(3, 5)   # тоже многомерный массив\n",
    "print(x)\n",
    "\n",
    "x = random.choice([3, 5, 7, 9])  # случайный выбор из списка\n",
    "print(x)\n",
    "x = random.choice([3, 5, 7, 9], size=5)        # тоже в виде массива  \n",
    "print(x)\n",
    "x = random.choice([3, 5, 7, 9], size=(3, 5))   # тоже в виде многомерного массива\n",
    "print(x)\n",
    "\n",
    "print('---------------')\n",
    "# тоже с распределением (вероятностями выпадения (весами))\n",
    "x = random.choice([3, 5, 7, 9], p=[0.1, 0.3, 0.6, 0.0])\n",
    "print(x)\n",
    "x = random.choice([3, 5, 7, 9], p=[0.1, 0.3, 0.6, 0.0], size=(100))\n",
    "print(x)\n",
    "# Сумма всех p (вероятностных чисел) должна быть равна 1.\n",
    "x = random.choice([3, 5, 7, 9], p=[0.1, 0.3, 0.6, 0.0], size=(3, 5))\n",
    "print(x)\n",
    "\n",
    "\n",
    "arr = np.array([1, 2, 3, 4, 5])\n",
    "print(random.permutation(arr))  # исходный массив НЕ изменяется\n",
    "random.shuffle(arr)             # исходный массив    изменяется\n",
    "print(arr)\n",
    "\n"
   ]
  },
  {
   "cell_type": "code",
   "execution_count": 14,
   "metadata": {},
   "outputs": [
    {
     "name": "stdout",
     "output_type": "stream",
     "text": [
      "[[ 1.25135906  1.16880724 -0.13542642]\n",
      " [-2.2743009  -0.64164021  1.20279308]]\n",
      "[[ 4.1668456  -2.9632382   3.07756641]\n",
      " [ 2.38632765  2.02787027  1.11457745]]\n"
     ]
    },
    {
     "name": "stderr",
     "output_type": "stream",
     "text": [
      "C:\\Users\\Odins\\AppData\\Local\\Temp\\ipykernel_18052\\1895418756.py:13: UserWarning: \n",
      "\n",
      "`distplot` is a deprecated function and will be removed in seaborn v0.14.0.\n",
      "\n",
      "Please adapt your code to use either `displot` (a figure-level function with\n",
      "similar flexibility) or `histplot` (an axes-level function for histograms).\n",
      "\n",
      "For a guide to updating your code to use the new functions, please see\n",
      "https://gist.github.com/mwaskom/de44147ed2974457ad6372750bbe5751\n",
      "\n",
      "  sns.distplot(random.normal(loc=5, scale=2, size=(10000))) #, hist=False график без гистограммы\n",
      "C:\\Users\\Odins\\AppData\\Local\\Temp\\ipykernel_18052\\1895418756.py:14: UserWarning: \n",
      "\n",
      "`distplot` is a deprecated function and will be removed in seaborn v0.14.0.\n",
      "\n",
      "Please adapt your code to use either `displot` (a figure-level function with\n",
      "similar flexibility) or `histplot` (an axes-level function for histograms).\n",
      "\n",
      "For a guide to updating your code to use the new functions, please see\n",
      "https://gist.github.com/mwaskom/de44147ed2974457ad6372750bbe5751\n",
      "\n",
      "  sns.distplot(random.normal(loc=1, scale=1, size=(100)))   #, kde=False  гистограмма без графика\n"
     ]
    },
    {
     "data": {
      "image/png": "[encoded data removed]",
      "text/plain": [
       "<Figure size 640x480 with 1 Axes>"
      ]
     },
     "metadata": {},
     "output_type": "display_data"
    },
    {
     "name": "stderr",
     "output_type": "stream",
     "text": [
      "C:\\Users\\Odins\\AppData\\Local\\Temp\\ipykernel_18052\\1895418756.py:18: UserWarning: \n",
      "\n",
      "`distplot` is a deprecated function and will be removed in seaborn v0.14.0.\n",
      "\n",
      "Please adapt your code to use either `displot` (a figure-level function with\n",
      "similar flexibility) or `histplot` (an axes-level function for histograms).\n",
      "\n",
      "For a guide to updating your code to use the new functions, please see\n",
      "https://gist.github.com/mwaskom/de44147ed2974457ad6372750bbe5751\n",
      "\n",
      "  sns.distplot(random.binomial(n=100, p=0.5, size=1000))\n"
     ]
    },
    {
     "data": {
      "image/png": "[encoded data removed]",
      "text/plain": [
       "<Figure size 640x480 with 1 Axes>"
      ]
     },
     "metadata": {},
     "output_type": "display_data"
    },
    {
     "name": "stderr",
     "output_type": "stream",
     "text": [
      "C:\\Users\\Odins\\AppData\\Local\\Temp\\ipykernel_18052\\1895418756.py:21: UserWarning: \n",
      "\n",
      "`distplot` is a deprecated function and will be removed in seaborn v0.14.0.\n",
      "\n",
      "Please adapt your code to use either `displot` (a figure-level function with\n",
      "similar flexibility) or `histplot` (an axes-level function for histograms).\n",
      "\n",
      "For a guide to updating your code to use the new functions, please see\n",
      "https://gist.github.com/mwaskom/de44147ed2974457ad6372750bbe5751\n",
      "\n",
      "  sns.distplot(random.poisson(lam=2, size=1000))\n",
      "C:\\Users\\Odins\\AppData\\Local\\Temp\\ipykernel_18052\\1895418756.py:23: UserWarning: \n",
      "\n",
      "`distplot` is a deprecated function and will be removed in seaborn v0.14.0.\n",
      "\n",
      "Please adapt your code to use either `displot` (a figure-level function with\n",
      "similar flexibility) or `histplot` (an axes-level function for histograms).\n",
      "\n",
      "For a guide to updating your code to use the new functions, please see\n",
      "https://gist.github.com/mwaskom/de44147ed2974457ad6372750bbe5751\n",
      "\n",
      "  sns.distplot(random.uniform(size=1000))\n"
     ]
    },
    {
     "data": {
      "image/png": "[encoded data removed]",
      "text/plain": [
       "<Figure size 640x480 with 1 Axes>"
      ]
     },
     "metadata": {},
     "output_type": "display_data"
    }
   ],
   "source": [
    "from numpy import random\n",
    "import matplotlib.pyplot as plt\n",
    "import seaborn as sns\n",
    "\n",
    "x = random.normal(size=(2, 3)) # нормальное распред (гаусса) \n",
    "print(x)\n",
    "x = random.normal(loc=1, scale=2, size=(2, 3)) \n",
    "# тоже со средним значением loc и стандартным отклонением scale\n",
    "print(x)\n",
    "\n",
    "\n",
    "# distplot  УСТАРЕЛО ??\n",
    "sns.distplot(random.normal(loc=5, scale=2, size=(10000))) #, hist=False график без гистограммы \n",
    "sns.distplot(random.normal(loc=1, scale=1, size=(100)))   #, kde=False  гистограмма без графика\n",
    "plt.show()\n",
    "\n",
    "# биноминальное распред (здесь подброс монеты)\n",
    "sns.distplot(random.binomial(n=100, p=0.5, size=1000)) \n",
    "plt.show()  \n",
    "# распред пуассона\n",
    "sns.distplot(random.poisson(lam=2, size=1000))\n",
    "# равномерное распределение\n",
    "sns.distplot(random.uniform(size=1000))\n",
    "plt.show()"
   ]
  },
  {
   "cell_type": "code",
   "execution_count": 15,
   "metadata": {},
   "outputs": [
    {
     "name": "stderr",
     "output_type": "stream",
     "text": [
      "C:\\Users\\Odins\\AppData\\Local\\Temp\\ipykernel_18052\\2607904864.py:7: UserWarning: \n",
      "\n",
      "`distplot` is a deprecated function and will be removed in seaborn v0.14.0.\n",
      "\n",
      "Please adapt your code to use either `displot` (a figure-level function with\n",
      "similar flexibility) or `kdeplot` (an axes-level function for kernel density plots).\n",
      "\n",
      "For a guide to updating your code to use the new functions, please see\n",
      "https://gist.github.com/mwaskom/de44147ed2974457ad6372750bbe5751\n",
      "\n",
      "  sns.distplot(random.exponential(size=1000), hist=False) # экспоненциальное распред\n"
     ]
    },
    {
     "data": {
      "image/png": "[encoded data removed]",
      "text/plain": [
       "<Figure size 640x480 with 1 Axes>"
      ]
     },
     "metadata": {},
     "output_type": "display_data"
    },
    {
     "name": "stderr",
     "output_type": "stream",
     "text": [
      "C:\\Users\\Odins\\AppData\\Local\\Temp\\ipykernel_18052\\2607904864.py:15: UserWarning: \n",
      "\n",
      "`distplot` is a deprecated function and will be removed in seaborn v0.14.0.\n",
      "\n",
      "Please adapt your code to use either `displot` (a figure-level function with\n",
      "similar flexibility) or `histplot` (an axes-level function for histograms).\n",
      "\n",
      "For a guide to updating your code to use the new functions, please see\n",
      "https://gist.github.com/mwaskom/de44147ed2974457ad6372750bbe5751\n",
      "\n",
      "  sns.distplot(random.pareto(a=2, size=1000), kde=False)\n"
     ]
    },
    {
     "data": {
      "image/png": "[encoded data removed]",
      "text/plain": [
       "<Figure size 640x480 with 1 Axes>"
      ]
     },
     "metadata": {},
     "output_type": "display_data"
    },
    {
     "name": "stderr",
     "output_type": "stream",
     "text": [
      "C:\\Users\\Odins\\AppData\\Local\\Temp\\ipykernel_18052\\2607904864.py:20: UserWarning: \n",
      "\n",
      "`distplot` is a deprecated function and will be removed in seaborn v0.14.0.\n",
      "\n",
      "Please adapt your code to use either `displot` (a figure-level function with\n",
      "similar flexibility) or `histplot` (an axes-level function for histograms).\n",
      "\n",
      "For a guide to updating your code to use the new functions, please see\n",
      "https://gist.github.com/mwaskom/de44147ed2974457ad6372750bbe5751\n",
      "\n",
      "  sns.distplot(x[x < 10], kde=False)\n"
     ]
    },
    {
     "data": {
      "image/png": "[encoded data removed]",
      "text/plain": [
       "<Figure size 640x480 with 1 Axes>"
      ]
     },
     "metadata": {},
     "output_type": "display_data"
    }
   ],
   "source": [
    "# (логистическое распределение)\n",
    "x = random.logistic(loc=1, scale=2, size=(2, 3))\n",
    "\n",
    "# (мультиноминальное распределение) (см биноминальное)\n",
    "x = random.multinomial(n=6, pvals=[1/6, 1/6, 1/6, 1/6, 1/6, 1/6]) # бросание кубика\n",
    "\n",
    "sns.distplot(random.exponential(size=1000), hist=False) # экспоненциальное распред\n",
    "plt.show()\n",
    "\n",
    "\n",
    "x = random.chisquare(df=2, size=(2, 3))   # распределение хи-квадрат  df степень свободы\n",
    "x = random.rayleigh(scale=2, size=(2, 3))  # распределение рейли (частный случай хи-квадрат ?)\n",
    "\n",
    "# распределение по закону Парето, т.е. распределение 80 на 20 (20% факторов обуславливают 80% результата).\n",
    "sns.distplot(random.pareto(a=2, size=1000), kde=False)\n",
    "plt.show()\n",
    "\n",
    "# Распределения Ципфа          Закон Ципфа: В коллекции n-й общий член в 1/n раз больше самого общеупотребительного члена. Например, 5-е по распространенности слово в английском языке встречается почти в 1/5 раза чаще, чем Самое распространенное слово.\n",
    "x = random.zipf(a=2, size=1000)\n",
    "sns.distplot(x[x < 10], kde=False)\n",
    "plt.show()\n"
   ]
  },
  {
   "cell_type": "code",
   "execution_count": 16,
   "metadata": {},
   "outputs": [
    {
     "name": "stdout",
     "output_type": "stream",
     "text": [
      "[5.21856433 4.6073394  4.31959747 4.03319839 4.44603209 5.78973226\n",
      " 4.43063011 6.36412337 6.95753941 5.92418458 4.20579791 5.50729765\n",
      " 7.78230866 6.46366142 6.98592583 3.18336357 5.34979186 4.82370003\n",
      " 3.86023515 4.10827634 4.25970083 4.86194667 4.70698678 5.1088293\n",
      " 4.56201437 5.58851738 4.54288046 3.63916374 6.04923983 4.52215356\n",
      " 5.32889279 4.16534429 4.57872727 5.20821946 7.1046479  5.26186151\n",
      " 3.53120445 4.49778016 5.63904991 4.91401111 5.51074528 4.27919971\n",
      " 5.38660693 5.73375791 4.44114931 5.7495996  3.82034335 4.00786377\n",
      " 3.15942228 4.45376481 4.68138951 4.7661074  6.964029   6.10276054\n",
      " 5.12335393 7.24772241 4.54713922 6.61960751 4.65879057 7.09878444\n",
      " 7.98188529 6.63598689 5.10714127 5.10515056 8.19368837 4.18481775\n",
      " 4.05065917 4.67924695 4.37473241 5.89241516 5.30652253 6.05842263\n",
      " 4.2914647  4.63584124 5.35846218 6.51675483 4.04020298 5.86849859\n",
      " 7.47648747 4.81186757 4.54898531 4.94239842 6.04496768 3.24581349\n",
      " 4.43553723 5.31152538 6.84496061 5.23485989 4.64918128 5.12799801\n",
      " 3.0721018  5.95428407 5.51900014 7.12108222 2.40966726 4.96928637\n",
      " 5.36545044 5.57077918 5.58755817 6.08227456 4.97415826 6.78768086\n",
      " 4.72155376 5.65366374 5.87822202 6.01834483 3.48619783 5.43982051\n",
      " 5.33066532 4.64964616 3.72397495 6.490397   4.40739029 3.57666539\n",
      " 7.48066973 5.90934433 5.02412789 5.97505678 5.58470704 5.51165829\n",
      " 3.66096722 5.29947357 5.46249229 3.59210317 7.1933613  5.4633476\n",
      " 6.16881391 6.15249626 5.80558505 5.60537248 4.9720173  7.16334174\n",
      " 3.94131647 3.52374436 4.0067354  5.1875412  5.10166497 5.05626139\n",
      " 6.17819718 7.86310593 5.53852089 6.19441944 3.52953374 5.19011922\n",
      " 5.56449459 4.4497058  5.89031305 5.91755972 4.73257024 5.55648095\n",
      " 4.62428906 4.43997497 6.03828539 5.59255001 4.43863212 6.31500863\n",
      " 3.59115281 6.22949542 4.912561   4.35296073 4.55888513 4.45327131\n",
      " 4.73477716 4.17975237 4.52015352 4.92273857 5.37511155 3.98715658\n",
      " 5.20834088 5.11059537 5.14145989 4.84592506 4.79645822 4.91735127\n",
      " 3.92155099 5.20147844 4.1648943  6.07930672 5.48085865 4.02276219\n",
      " 4.30118829 2.3343902  7.19316571 4.65681531 5.13139954 3.63003179\n",
      " 5.39856365 5.33895893 3.80716675 4.20298103 6.72342381 6.76206954\n",
      " 5.14469561 6.44236693 4.6422408  5.03084726 5.46666483 5.29426374\n",
      " 3.71676221 3.47566617 6.3624149  4.16332545 5.10467334 5.81091294\n",
      " 6.32577013 4.78441866 5.64450039 4.7993963  6.38976722 4.50981782\n",
      " 3.52646731 4.39011596 6.69061712 7.2064744  6.18667722 4.04075679\n",
      " 4.9790436  4.80737261 4.03443815 4.22693087 4.59889213 5.20592915\n",
      " 5.82436213 5.02898424 6.15724173 5.17840308 4.8971731  4.82170999\n",
      " 4.97087073 5.00356404 4.05203734 5.18574236 4.20930618 4.51617007\n",
      " 5.70477638 5.21115923 3.2023493  3.52925588 5.08524434 4.44582536\n",
      " 5.67105072 8.32403688 4.92063882 4.00571601 5.30814251 5.64722981\n",
      " 3.78578445 4.32352987 4.30827349 4.59641178 4.99841168 5.22112017\n",
      " 7.16708361 6.41424616 4.9655017  4.58444179 5.04377793 2.70759259\n",
      " 4.8528996  3.08619634 4.11471763 3.74128496 4.97891485 4.63691079\n",
      " 4.42235251 4.86668525 5.43050502 6.27487105 3.07155537 5.68465728\n",
      " 4.17457838 3.42075606 3.91358287 6.76041282 4.40030541 3.27959046\n",
      " 6.18783373 4.29444686 3.19465561 6.56840245 4.0332388  5.17603846\n",
      " 5.22794686 5.25309565 5.64490009 5.23395269 6.29561142 3.28057816\n",
      " 4.46912313 6.3122528  5.58912249 3.73404037 5.54573476 5.42542973\n",
      " 4.58369419 5.45694268 4.34515631 4.67215963 5.28828314 5.42457031\n",
      " 5.13669548 4.68379874 4.97355528 3.65213068 2.70295085 4.71907656\n",
      " 6.44537445 4.86546957 5.68097729 4.1948559  4.80352793 6.88329529\n",
      " 5.71501017 4.60271837 6.94588048 3.15867426 3.59832215 5.14316849\n",
      " 5.08888603 6.12246473 3.90668074 5.78383883 4.39502915 4.41903766\n",
      " 6.13262098 4.27620079 4.24935076 6.7732486  3.35158212 6.09620349\n",
      " 3.38539719 4.99434875 5.14778177 3.22884574 5.78209473 5.98396311\n",
      " 5.95966323 5.52396296 4.25972105 4.68749377 5.67033391 5.06172922\n",
      " 4.01480478 3.86323408 5.77656946 3.72155096 4.90786257 4.086499\n",
      " 5.08285157 5.36020503 3.58749755 4.93940012 3.99798475 4.39486379\n",
      " 6.81058607 5.40155844 4.42530431 5.76168234 3.7894082  4.48939686\n",
      " 3.98268884 4.42678063 6.21650613 3.49271434 2.59255151 5.56007688\n",
      " 4.60646332 5.72924532 4.63442575 4.64453509 3.95446337 5.57837318\n",
      " 6.36916796 5.86864393 5.648129   7.08766265 4.9226304  3.07621705\n",
      " 3.65298062 4.71234547 5.01029761 7.12990783 6.22243018 5.16786763\n",
      " 3.71352928 6.2762637  4.1488579  5.73879239 4.84258601 6.74211898\n",
      " 5.30930074 3.22736351 5.84097399 5.7382125  4.75828751 4.85103617\n",
      " 5.65469001 3.70174647 5.60414368 4.54788732 4.87089815 4.67267533\n",
      " 3.08100105 4.24142067 5.60481293 3.93665856 4.97769043 4.96648047\n",
      " 3.77857467 3.81899325 3.70526159 5.20687507 3.72756478 5.8549657\n",
      " 6.70981484 4.22948486 5.0395202  4.92641426 6.8669416  4.72629232\n",
      " 5.35755028 4.38900059 4.23270788 4.37901353 6.59502873 5.70840515\n",
      " 4.009966   5.20751846 5.27732227 6.97342184 6.21884163 5.211282\n",
      " 3.3097337  6.01168962 5.1075601  3.98865574 5.10476831 5.29225475\n",
      " 4.6742827  6.11769705 6.72968286 6.88951468 5.80826029 5.79720609\n",
      " 5.43344746 4.56653161 4.04593149 5.6749036  6.45736636 5.51873981\n",
      " 5.64856632 5.15616251 4.77898989 5.82877205 5.06297163 6.13503833\n",
      " 3.97532181 4.9346252  3.82079641 3.4622007  5.29560937 4.99445602\n",
      " 5.46051157 4.78445653 6.45875665 3.98985794 3.50847812 4.73642349\n",
      " 5.08328439 4.8461568  3.89928545 3.43176988 3.93517075 4.18089421\n",
      " 4.62163854 6.57232746 4.7369804  4.73302506 4.07598027 5.40159988\n",
      " 6.08067241 4.88525062 5.30085254 3.98408028 3.86800449 6.54319301\n",
      " 5.65638915 3.69777425 4.40781516 5.3355817  5.18789167 4.68801691\n",
      " 4.92719337 6.61879021 6.25918921 4.48635332 3.60786645 5.40031886\n",
      " 5.06269606 6.50728902 3.77032102 4.27863058 5.42390311 5.04377832\n",
      " 4.83791705 6.07300019 4.20104035 5.83252882 4.78853928 4.14791418\n",
      " 5.20453637 5.43624806 5.89758736 4.37529706 3.79864078 5.48965311\n",
      " 3.83361988 3.89291237 3.48398834 4.54980755 4.54729801 3.89988393\n",
      " 3.36887842 5.05667921 4.34291701 5.18977017 3.91490605 4.61868831\n",
      " 6.72214274 5.47562976 5.4407124  6.33510651 5.9087074  3.55634941\n",
      " 7.14325729 3.08404574 4.67749096 6.45812042 5.00055778 3.35859334\n",
      " 6.56918966 4.23751854 6.17585815 5.67130651 5.05425173 3.74340803\n",
      " 6.38442783 5.00092266 5.32999636 3.63851725 5.42936077 6.20510025\n",
      " 3.24746351 4.10687152 4.78121873 2.26652972 5.96172548 2.66356049\n",
      " 4.71009313 6.07929206 5.70507302 5.97467913 3.9321824  5.68935301\n",
      " 5.11228826 4.40023417 4.30034488 4.27437944 4.24943207 5.44484749\n",
      " 4.78779338 4.20393773 3.56929071 5.19012246 5.16958664 4.4110097\n",
      " 4.69936634 5.47135043 4.37924215 4.72131293 4.13000493 3.1168434\n",
      " 4.15792368 4.73002917 5.42651706 2.63876008 4.2188731  5.7169982\n",
      " 5.85247955 4.40226198 3.45807247 5.05814876 3.8669361  3.72542034\n",
      " 6.82782546 5.35572369 3.85139434 5.00127297 6.03080886 6.80864725\n",
      " 4.69119004 4.16959213 4.59439002 5.87007407 3.72275931 5.60046797\n",
      " 3.6185217  3.73096215 5.78126538 3.42928398 4.41780844 6.34907933\n",
      " 3.91180769 6.61032585 5.52196208 5.68234701 4.33349673 5.61854387\n",
      " 1.97567976 6.61836881 3.00018562 3.98433599 3.09715167 5.16579076\n",
      " 5.29457463 6.16340965 5.28750621 4.31812095 4.94643264 4.84091037\n",
      " 4.02087852 4.16385979 5.08787001 4.75582723 4.60427146 3.92655354\n",
      " 5.61698359 4.84511265 5.64687575 6.79141696 3.6344371  6.00509947\n",
      " 3.54180341 6.51677805 4.61489348 4.91145139 5.09469529 6.43350016\n",
      " 5.99901294 3.38775568 4.46412472 3.2845917  5.30246831 3.53566526\n",
      " 5.89721658 5.80950109 6.18646419 5.49851284 4.4874348  4.57916153\n",
      " 5.72221248 3.21481192 6.30488601 5.91247399 4.17583314 4.79683343\n",
      " 5.08701704 4.71636123 6.37058308 6.26717497 6.23851879 5.51012542\n",
      " 5.72960714 4.33477967 6.30148915 4.4501756  5.17263762 6.45551311\n",
      " 5.85747631 5.56532827 3.63232293 5.67691708 4.79376596 5.35569995\n",
      " 4.7791018  5.4848383  4.46512203 3.37587015 3.67680214 5.28403984\n",
      " 3.85551984 5.94628849 4.98265345 4.89499697 4.53800686 6.57619536\n",
      " 5.12809718 6.59548014 4.04736156 5.27517319 4.4710957  5.62082458\n",
      " 6.31465751 5.15451995 5.18962555 5.73442927 7.64780552 6.21585455\n",
      " 5.342847   6.06079775 5.74374861 4.00138345 3.57222644 6.1690936\n",
      " 5.52186071 5.25897199 4.01783518 3.5979393  3.51489105 5.27477172\n",
      " 3.6174753  6.08259771 6.23537433 5.97704354 4.09401499 3.72874545\n",
      " 4.27920165 4.06317644 4.87560386 5.2165262  3.92586611 4.23590313\n",
      " 5.28133242 6.28979628 4.69149592 5.10762702 5.33912213 4.79638077\n",
      " 7.24789104 6.22554261 5.41382295 6.08163226 4.59931852 4.65235547\n",
      " 4.81228046 6.58794091 4.93347892 5.54829856 4.96859245 3.01549665\n",
      " 6.02285706 6.37262603 6.46856296 4.67077605 4.76557182 3.16302747\n",
      " 5.50377557 7.26314804 5.89406848 3.40193949 2.44622167 3.48264648\n",
      " 4.15179433 6.15772692 5.24770433 4.02036049 6.01376855 5.90528418\n",
      " 3.86009046 3.59859889 6.20061259 3.94610873 2.24188903 6.73746257\n",
      " 4.90407184 3.57043675 5.42805125 7.049789   5.55807329 4.7399519\n",
      " 6.07501452 5.82664008 5.53491788 5.02043646 3.76375876 4.45489641\n",
      " 4.93147883 4.26659449 4.70651337 4.92718121 6.19341392 4.62699052\n",
      " 4.20787567 6.56726338 6.2960381  4.05510651 4.24742058 2.82440343\n",
      " 5.26381699 3.58635393 5.3194143  4.34297058 3.82989886 5.45000914\n",
      " 6.58307276 4.93954565 5.71330622 5.56653201 4.47486017 4.67066064\n",
      " 4.28799164 3.89347763 4.37068021 5.75407643 4.5297259  5.02048226\n",
      " 4.7121738  5.14217581 4.66377542 3.5153893  5.01871747 4.35470104\n",
      " 4.09891837 5.77069351 4.2001626  8.64995587 5.53079985 5.20992526\n",
      " 5.40462943 4.87912548 5.40680597 4.717967   3.52462095 5.51606652\n",
      " 3.74064916 4.9266919  4.32145618 3.96900087 4.59874392 6.31742673\n",
      " 6.08312673 6.1247723  5.00800248 6.93479946 4.59803149 4.03670335\n",
      " 4.74430063 3.71062909 4.32637396 3.67258085 5.02676875 5.04471343\n",
      " 7.08284001 5.03837041 5.21327627 5.65185743 1.27417056 4.42632349\n",
      " 7.84146456 6.05388354 6.11134643 2.67537236 4.94909844 2.42426908\n",
      " 5.56097405 4.56792725 4.94058571 4.33627547 4.45745657 3.36091603\n",
      " 5.23294699 4.89621474 7.36625305 4.86509669 4.75690077 3.9956493\n",
      " 4.00275969 6.39655574 4.37443704 4.81373126 4.73232794 4.79196423\n",
      " 4.40826303 5.21210259 3.43386948 3.29851007 5.37601192 3.64060899\n",
      " 4.40195859 4.83140039 5.71376418 5.78630953 4.75425339 3.75806978\n",
      " 5.3180153  4.45367446 4.97548583 4.8992365  5.93082166 4.03410816\n",
      " 4.35925482 5.27568244 5.57989373 5.36475856 6.26751881 3.75093147\n",
      " 3.66973244 4.49429048 5.12490927 5.63328991 3.37888242 4.18868261\n",
      " 6.79474805 4.41086895 5.87553501 5.24884258 4.71516706 4.90812266\n",
      " 5.04492642 6.22082111 7.20696447 4.49097782 4.18200987 5.09227725\n",
      " 4.59979077 5.1566864  3.23794969 6.5579842  5.9377644  5.53355762\n",
      " 4.63622433 3.06392817 4.73479569 5.85395775 4.65805974 3.91241058\n",
      " 4.08086905 4.83154084 5.16553345 5.04718785 3.31247056 5.59790107\n",
      " 4.50822877 3.31724854 4.60179276 3.54760366 5.14600757 6.42877709\n",
      " 5.05451179 4.24984408 4.65876298 4.48963857 3.48762412 5.65256429\n",
      " 5.3772759  4.70876384 3.5077694  5.72163882 4.78473716 6.26970028\n",
      " 4.06180671 4.16748312 3.88074778 6.74416828 5.06800443 6.24881717\n",
      " 3.79658506 5.77401996 5.59546171 6.55682353 4.4407577  4.14685166\n",
      " 5.56911281 5.8423748  5.44599069 6.44906017 5.80414783 4.73065787\n",
      " 3.95335821 5.69785951 5.59887862 4.52974304 4.86892416 4.1965666\n",
      " 5.08348239 5.03490377 3.67944227 3.90705704 4.42809418 3.84982911\n",
      " 5.29240102 6.35536132 6.95386652 3.69877603 5.55099442 5.38237279\n",
      " 7.07256069 3.53400618 4.19004646 3.48754056]\n"
     ]
    }
   ],
   "source": [
    "x = random.normal(5.0, 1.0, 1000)\n",
    "print(x)"
   ]
  },
  {
   "cell_type": "code",
   "execution_count": 17,
   "metadata": {},
   "outputs": [
    {
     "name": "stdout",
     "output_type": "stream",
     "text": [
      "0.9917958341152187\n",
      "0.9918182089641375\n",
      "1.0000225599343628\n",
      "1.13312693498452\n",
      "1.1248471190133962\n"
     ]
    }
   ],
   "source": [
    "from math import factorial\n",
    "rez = factorial(365)/factorial(362) /365 ** 3\n",
    "print(rez)\n",
    "\n",
    "rez1 = (factorial(366)/factorial(363)) / ((366 ** 3)) \n",
    "print(rez1)\n",
    "\n",
    "print(rez1/(rez))\n",
    "\n",
    "print((factorial(366)/factorial(323))/(factorial(365)/factorial(322)))\n",
    "print((366 ** 43)/(365 ** 43))  "
   ]
  },
  {
   "cell_type": "code",
   "execution_count": 18,
   "metadata": {},
   "outputs": [
    {
     "name": "stdout",
     "output_type": "stream",
     "text": [
      "0.00273224043715847\n",
      "0.0028415300546448087\n"
     ]
    }
   ],
   "source": [
    "print(1/366)\n",
    "print(((6/(5*366)) ** 2) * 183 + ((4/(5*366)) ** 2) * 183)"
   ]
  },
  {
   "cell_type": "code",
   "execution_count": 19,
   "metadata": {},
   "outputs": [
    {
     "name": "stdout",
     "output_type": "stream",
     "text": [
      "[0 7 9]\n",
      "[20 10 15]\n",
      "[0 7 9]\n",
      "[256  25 216]\n",
      "[ True False False]\n",
      "[ True  True False]\n",
      "[4 6 6]\n",
      "\n",
      "[ True False False]\n",
      "\n",
      "[ 4  6  6 -4  5  6]\n",
      "[[ 4 -4]\n",
      " [ 6  5]\n",
      " [ 6  6]]\n",
      "\n"
     ]
    },
    {
     "data": {
      "text/plain": [
       "50"
      ]
     },
     "execution_count": 19,
     "metadata": {},
     "output_type": "execute_result"
    }
   ],
   "source": [
    "s = np.array([4, 2, 3])\n",
    "d = np.array([-4, 5, 6])\n",
    "print(s + d)  # ( сложение ((прямое)) массивов    отличается от python  (поэлементно +, -, *, ... )    [5, 7, 9] )\n",
    "print(s*5)     # 5, 10, 15\n",
    "print(np.add(s,d))    #   тоже ??    сложение двух массивов \n",
    "print(d**s)\n",
    "print(d<s)\n",
    "print(d < 6)\n",
    "s[s<4] = 6\n",
    "print(s)\n",
    "print()\n",
    "\n",
    "print((d<s) & (d<0))\n",
    "\n",
    "print()\n",
    "arr1 = np.concatenate((s, d), axis=0)  # сложение ((слияние)) (как в py) массивов   [1, 2, 3, 4, 5, 6]  \n",
    "arr2 = np.stack((s, d), axis=1)\n",
    "print(arr1)\n",
    "print(arr2)\n",
    "\n",
    "print()\n",
    "s @ d"
   ]
  }
 ],
 "metadata": {
  "kernelspec": {
   "display_name": "Python 3",
   "language": "python",
   "name": "python3"
  },
  "language_info": {
   "codemirror_mode": {
    "name": "ipython",
    "version": 3
   },
   "file_extension": ".py",
   "mimetype": "text/x-python",
   "name": "python",
   "nbconvert_exporter": "python",
   "pygments_lexer": "ipython3",
   "version": "3.12.2"
  }
 },
 "nbformat": 4,
 "nbformat_minor": 2
}
