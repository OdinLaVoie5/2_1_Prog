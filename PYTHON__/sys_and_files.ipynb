{
 "cells": [
  {
   "cell_type": "code",
   "execution_count": null,
   "metadata": {},
   "outputs": [],
   "source": [
    "# ИНФОРМАЦИЯ О ПАКЕТАХ и модулях    и методах  \n",
    "\n",
    "#   import sqlite3\n",
    "# os platform  sys  gc    uuid     inspect  unittest    functools  itertools\n",
    "import objgraph       # setuptools  cProfile   doctest\n",
    "# json    sqlite3\n",
    "# asyncio   threading\n",
    "# не модули  async await\n",
    "\n",
    "dir(dict)  # все переменные и ф-ции модуля         ннннн"
   ]
  },
  {
   "cell_type": "code",
   "execution_count": null,
   "metadata": {},
   "outputs": [],
   "source": [
    "#  НЕ ЗАПУСКАТЬ БЕЗДУМНО  !!!   ОБНОВЛЕНИЕ ВСЕХ ПАКЕТОВ и модулей      нннннн\n",
    "\n",
    "import pkg_resources\n",
    "from subprocess import call\n",
    "\n",
    "packages = [dist.project_name for dist in pkg_resources.working_set]\n",
    "for package in packages:\n",
    "    call(\"pip install --upgrade \" + package, shell=True)\n",
    " "
   ]
  },
  {
   "cell_type": "code",
   "execution_count": null,
   "metadata": {},
   "outputs": [],
   "source": [
    "import pkg_resources\n",
    "\n",
    "# pkg_resources.get_distribution(\"numpy\").version # пример получения версии пакета\n",
    "pkg_resources.require(\"requests>=2.30\")  # требования зависимостей"
   ]
  },
  {
   "cell_type": "code",
   "execution_count": null,
   "metadata": {},
   "outputs": [],
   "source": [
    "# 1 СПИСОК МОДУЛЕЙ    нннн   spkg=False значит просто модуль    True - пакет \n",
    "import pkgutil\n",
    "\n",
    "all_modules = list(pkgutil.iter_modules())\n",
    "for module in all_modules:\n",
    "    print(module)"
   ]
  },
  {
   "cell_type": "code",
   "execution_count": null,
   "metadata": {},
   "outputs": [],
   "source": [
    "# 2 СПИСОК МОДУЛЕЙ 2   нннн  + комстрока  pip list    pip freeze     и  файл requirements\n",
    "import importlib.metadata\n",
    "\n",
    "dists = importlib.metadata.distributions()\n",
    "for dist in dists:\n",
    "    name = dist.metadata[\"Name\"]\n",
    "    version = dist.version\n",
    "    print(f'found distribution {name}=={version}')"
   ]
  },
  {
   "cell_type": "code",
   "execution_count": null,
   "metadata": {},
   "outputs": [],
   "source": [
    "# 3 (комстрока)  ПОДРОБНЕЙШЕЕ ДЕРЕВО ЗАВИСИМОСТЕЙ   ПАКЕТОВ и модулей (предварительная установка пакета pipdeptree если его нет) ннннн\n",
    "#+   %pip install pipdeptree\n",
    "!pipdeptree\n"
   ]
  },
  {
   "cell_type": "code",
   "execution_count": null,
   "metadata": {},
   "outputs": [],
   "source": [
    "# ПРОФИЛИРОВАНИЕ  (определение слабых мест  ?? ...   медленных ... )  нннн\n",
    "import cProfile\n",
    "from sys_and_files import gcd_recursion\n",
    "\n",
    "cProfile.run('gcd_recursion')"
   ]
  },
  {
   "cell_type": "code",
   "execution_count": null,
   "metadata": {},
   "outputs": [],
   "source": [
    "# размер в памяти ?    ограничение рекурсии      адрес  исполняемого  ?\n",
    "\n",
    "import sys\n",
    "print(sys.getsizeof(\"hello\"))\n",
    "print(sys.getrecursionlimit())\n",
    "print(sys.executable)\n"
   ]
  },
  {
   "cell_type": "markdown",
   "metadata": {},
   "source": [
    "смотреть системный патч"
   ]
  },
  {
   "cell_type": "code",
   "execution_count": null,
   "metadata": {},
   "outputs": [],
   "source": [
    "import sys\n",
    "print(sys.path)"
   ]
  },
  {
   "cell_type": "markdown",
   "metadata": {},
   "source": [
    "###   ? ADDRESS   internet"
   ]
  },
  {
   "cell_type": "code",
   "execution_count": null,
   "metadata": {},
   "outputs": [],
   "source": [
    "def normalize_url(address):\n",
    "    pref = 'https://'\n",
    "    if address[:8] == pref:\n",
    "        return address\n",
    "    else:\n",
    "        if address[:7] == 'http://':\n",
    "              return pref + address[7:]\n",
    "        else:\n",
    "            return pref + address\n",
    "\n",
    "\n",
    "normalize_url('adjjjjjjjjss')\n"
   ]
  },
  {
   "cell_type": "markdown",
   "metadata": {},
   "source": [
    "### JSON    "
   ]
  },
  {
   "cell_type": "code",
   "execution_count": null,
   "metadata": {},
   "outputs": [],
   "source": [
    "import json\n",
    "\n",
    "# some JSON:\n",
    "x = '{ \"name\":\"John\", \"age\":30, \"city\":\"New York\"}'\n",
    "# parse x:\n",
    "y = json.loads(x)                       # json  в python\n",
    "# the result is a Python dictionary:\n",
    "print(y[\"age\"])\n",
    "\n",
    "\n",
    "# a Python object (dict):\n",
    "x = {\n",
    "    \"name\": \"John\",\n",
    "    \"age\": 30,\n",
    "    \"married\": True,\n",
    "    \"divorced\": False,\n",
    "    \"children\": (\"Ann\", \"Billy\"),\n",
    "    \"pets\": None,\n",
    "    \"cars\": [\n",
    "        {\"model\": \"BMW 230\", \"mpg\": 27.5},\n",
    "        {\"model\": \"Ford Edge\", \"mpg\": 24.1}\n",
    "    ]\n",
    "}\n",
    "# convert into JSON:\n",
    "y = json.dumps(x)                            # python в json\n",
    "# the result is a JSON string:\n",
    "print(y)\n",
    "# сделать норм отступы      разделители (умолч  (\", \", \": \") )\n",
    "print(json.dumps(x, indent=4,  separators=(\". \", \" = \"), sort_keys=True))\n",
    "\n",
    "json.dumps(x, indent=4, sort_keys=True)\n"
   ]
  },
  {
   "cell_type": "code",
   "execution_count": null,
   "metadata": {},
   "outputs": [],
   "source": [
    "# описание ? встроенных методов \n",
    "print(len.__doc__)\n",
    "print(print.__doc__)\n"
   ]
  },
  {
   "cell_type": "markdown",
   "metadata": {},
   "source": [
    "### ПОТОКИ   СИСТЕМА ?"
   ]
  },
  {
   "cell_type": "code",
   "execution_count": null,
   "metadata": {},
   "outputs": [],
   "source": [
    "import platform\n",
    "\n",
    "x = platform.system()\n",
    "print(x)\n"
   ]
  },
  {
   "cell_type": "code",
   "execution_count": null,
   "metadata": {},
   "outputs": [],
   "source": [
    "# ?? \n",
    "\n",
    "import io\n",
    "buffer = io.BytesIO()\n",
    "buffer.write(b\"Hello, World!\")\n",
    "data = buffer.getvalue() \n",
    "data"
   ]
  },
  {
   "cell_type": "code",
   "execution_count": null,
   "metadata": {},
   "outputs": [],
   "source": [
    "import threading\n",
    "\n",
    "def count_up():\n",
    "    global counter\n",
    "    for _ in range(1000000):\n",
    "        counter += 1\n",
    "\n",
    "def count_down():\n",
    "    global counter\n",
    "    for _ in range(1000000):\n",
    "        counter -= 1\n",
    "\n",
    "counter = 0\n",
    "\n",
    "# Создание двух потоков\n",
    "thread1 = threading.Thread(target=count_up)\n",
    "thread2 = threading.Thread(target=count_down)\n",
    "\n",
    "# Запуск потоков\n",
    "thread1.start()\n",
    "thread2.start()\n",
    "\n",
    "# Ожидание завершения потоков\n",
    "thread1.join()\n",
    "thread2.join()\n",
    "\n",
    "print(counter)\n"
   ]
  },
  {
   "cell_type": "code",
   "execution_count": null,
   "metadata": {},
   "outputs": [],
   "source": [
    "import uuid\n",
    "\n",
    "# Создание UUID\n",
    "new_uuid = uuid.uuid4()\n",
    "print(\"UUID4:\", new_uuid)\n",
    "\n",
    "# Преобразование строки в UUID\n",
    "str_uuid = \"550e8400-e29b-41d4-a716-446655440000\"\n",
    "parsed_uuid = uuid.UUID(str_uuid)\n",
    "print(\"Parsed UUID:\", parsed_uuid)\n",
    "\n",
    "# Получение версии и варианта UUID\n",
    "version = new_uuid.version\n",
    "variant = new_uuid.variant\n",
    "print(\"Version:\", version)\n",
    "print(\"Variant:\", variant)\n"
   ]
  },
  {
   "cell_type": "code",
   "execution_count": null,
   "metadata": {},
   "outputs": [],
   "source": [
    "print(id(\"111111\"))\n",
    "hash(\"yyywwwyyyyyyy\")\n"
   ]
  },
  {
   "cell_type": "markdown",
   "metadata": {},
   "source": [
    "### мусор"
   ]
  },
  {
   "cell_type": "code",
   "execution_count": null,
   "metadata": {},
   "outputs": [],
   "source": [
    "import gc\n",
    "gc.collect()         # Включение сборки мусора\n",
    "total_memory = gc.get_stats()     # Общий объем памяти\n",
    "print(total_memory)\n"
   ]
  },
  {
   "cell_type": "markdown",
   "metadata": {},
   "source": [
    "### ФАЙЛЫ"
   ]
  },
  {
   "cell_type": "code",
   "execution_count": null,
   "metadata": {},
   "outputs": [],
   "source": [
    "file = open(\"mmm.py\", \"rt\", encoding=\"utf-8\")\n",
    "text = file.readlines()\n",
    "print(text)\n",
    "print(file)\n",
    "\n",
    "# \"r\" - Read (умолч)  \"a\" - Append  \"w\" - Write   \"x\" - Create\n",
    "# \"t\" - Text (умолч)   \"b\" - Binary\n",
    "\n",
    "file.seek(0)\n",
    "for line in file:\n",
    "    print(line)\n"
   ]
  },
  {
   "cell_type": "code",
   "execution_count": null,
   "metadata": {},
   "outputs": [],
   "source": [
    "import os\n",
    "if os.path.exists(\"mmm.py\"):\n",
    "  os.remove(\"mmm.py\")\n",
    "else:\n",
    "  print(\"The file does not exist\")"
   ]
  },
  {
   "cell_type": "code",
   "execution_count": null,
   "metadata": {},
   "outputs": [],
   "source": [
    "import os\n",
    "\n",
    "# Получить путь к текущему исполняемому файлу\n",
    "current_file_path = os.path.abspath(\"python\")\n",
    "\n",
    "# Получить путь к директории, содержащей исполняемый файл\n",
    "directory_containing_file = os.path.dirname(current_file_path)\n",
    "\n",
    "print(\"Путь к текущему исполняемому файлу:\", current_file_path)\n",
    "print(\"Директория, содержащая исполняемый файл:\", directory_containing_file)\n"
   ]
  },
  {
   "cell_type": "code",
   "execution_count": null,
   "metadata": {},
   "outputs": [],
   "source": [
    "# Рекурсивный поиск файлов на Python с определенным расширением\n",
    "import os\n",
    "\n",
    "# Указываем папку в которой производить поиск\n",
    "path = 'F:/'\n",
    "\n",
    "for rootdir, dirs, files in os.walk(path):\n",
    "    for file in files:\n",
    "        if ((file.split('.')[-1]) == 'mp3'):\n",
    "            print(os.path.join(rootdir, file))"
   ]
  },
  {
   "cell_type": "markdown",
   "metadata": {},
   "source": [
    "### ТЕСТИРОВАНИЕ  ..."
   ]
  },
  {
   "cell_type": "code",
   "execution_count": null,
   "metadata": {},
   "outputs": [],
   "source": [
    "# выводит сообщения только в случае, если какой-то из тестов не прошел\n",
    "# с  verbose=True    выводит полюбому\n",
    "import doctest\n",
    "\n",
    "def add(a, b):\n",
    "    \"\"\"\n",
    "    Функция для сложения двух чисел.\n",
    "    >>> add(2, 2)\n",
    "    5\n",
    "    >>> add(3, 3)\n",
    "    6\n",
    "    \"\"\"\n",
    "    return a + b\n",
    "\n",
    "# doctest.run_docstring_examples(add, globals())\n",
    "doctest.run_docstring_examples(add, globals(), verbose=True)\n"
   ]
  },
  {
   "cell_type": "code",
   "execution_count": null,
   "metadata": {},
   "outputs": [],
   "source": [
    "\"\"\"\n",
    "This is the \"example\" module.\n",
    "The example module supplies one function, factorial().  For example,\n",
    ">>> factorial(5)\n",
    "120\n",
    "\"\"\"\n",
    "\n",
    "\n",
    "def factorial(n):\n",
    "    \"\"\"Return the factorial of n, an exact integer >= 0.\n",
    "\n",
    "    >>> [factorial(n) for n in range(6)]\n",
    "    [1, 1, 2, 6, 24, 120]\n",
    "    >>> factorial(30)\n",
    "    265252859812191058636308480000000\n",
    "    >>> factorial(-1)\n",
    "    Traceback (most recent call last):\n",
    "        ...\n",
    "    ValueError: n must be >= 0\n",
    "\n",
    "    Factorials of floats are OK, but the float must be an exact integer:\n",
    "    >>> factorial(30.1)\n",
    "    Traceback (most recent call last):\n",
    "        ...\n",
    "    ValueError: n must be exact integer\n",
    "    >>> factorial(30.0)\n",
    "    265252859812191058636308480000000\n",
    "\n",
    "    It must also not be ridiculously large:\n",
    "    >>> factorial(1e100)\n",
    "    Traceback (most recent call last):\n",
    "        ...\n",
    "    OverflowError: n too large\n",
    "    \"\"\"\n",
    "\n",
    "    import math\n",
    "    if not n >= 0:\n",
    "        raise ValueError(\"n must be >= 0\")\n",
    "    if math.floor(n) != n:\n",
    "        raise ValueError(\"n must be exact integer\")\n",
    "    if n+1 == n:  # catch a value like 1e300\n",
    "        raise OverflowError(\"n too large\")\n",
    "    result = 1\n",
    "    factor = 2\n",
    "    while factor <= n:\n",
    "        result *= factor\n",
    "        factor += 1\n",
    "    return result\n",
    "\n",
    "\n",
    "if __name__ == \"__main__\":\n",
    "    import doctest\n",
    "    doctest.testmod()"
   ]
  },
  {
   "cell_type": "code",
   "execution_count": null,
   "metadata": {},
   "outputs": [],
   "source": [
    "#  сложна )\n",
    "import unittest\n",
    "\n",
    "class TestStringMethods(unittest.TestCase):\n",
    "\n",
    "    def test_upper(self):\n",
    "        self.assertEqual('foo'.upper(), 'FOO')\n",
    "\n",
    "    def test_isupper(self):\n",
    "        self.assertTrue('FOO'.isupper())\n",
    "        self.assertFalse('Foo'.isupper())\n",
    "\n",
    "    def test_split(self):\n",
    "        s = 'hello world'\n",
    "        self.assertEqual(s.split(), ['hello', 'world'])\n",
    "        # проверяем, что s.split не работает, когда разделитель не является строкой\n",
    "        with self.assertRaises(TypeError):\n",
    "            s.split(2)\n",
    "\n",
    "\n",
    "if __name__ == '__main__':\n",
    "    unittest.main()"
   ]
  },
  {
   "cell_type": "markdown",
   "metadata": {},
   "source": [
    "### ещё"
   ]
  },
  {
   "cell_type": "code",
   "execution_count": null,
   "metadata": {},
   "outputs": [],
   "source": [
    "import itertools\n",
    "\n",
    "def fib():\n",
    "    a, b = 0, 1\n",
    "    while True:\n",
    "        yield a\n",
    "        a, b = b, a + b\n",
    "\n",
    "\n",
    "value = next(itertools.islice(fib(), 100, 101))\n",
    "print(value)"
   ]
  }
 ],
 "metadata": {
  "kernelspec": {
   "display_name": "Python 3",
   "language": "python",
   "name": "python3"
  },
  "language_info": {
   "codemirror_mode": {
    "name": "ipython",
    "version": 3
   },
   "file_extension": ".py",
   "mimetype": "text/x-python",
   "name": "python",
   "nbconvert_exporter": "python",
   "pygments_lexer": "ipython3",
   "version": "3.12.2"
  }
 },
 "nbformat": 4,
 "nbformat_minor": 2
}
