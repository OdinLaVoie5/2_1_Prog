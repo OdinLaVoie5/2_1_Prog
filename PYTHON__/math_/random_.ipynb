{
 "cells": [
  {
   "cell_type": "markdown",
   "metadata": {},
   "source": [
    "### RANDOM"
   ]
  },
  {
   "cell_type": "code",
   "execution_count": null,
   "metadata": {},
   "outputs": [],
   "source": [
    "import random\n",
    "random.expovariate(1 / 5)  # ??\n",
    "\n",
    "print(random.randint(0, 10))    #  int     здесь включая 10 \n",
    "print(random.randrange(10))     #  int \n",
    "#  random.randrange(start [, stop, step])\n",
    "print(random.uniform(2.5, 10.0))     # - float \n",
    "\n",
    "\n",
    "# тасование списка\n",
    "deck = ['four', 'two', 'ace', 'three']\n",
    "random.shuffle(deck)\n",
    "print(deck)\n",
    "\n",
    "# случайный список без повторов\n",
    "print(random.sample(['king', 'queen', 'ace', 'jack'], k=3))\n",
    "\n",
    "# выбор случайного элемента из списка | 'камень', 'ножницы', 'бумага' | 'орёл', 'решка'\n",
    "print(random.choice(['win', 'lose', 'draw']))\n",
    "\n",
    "# взвешенный выбор случайного списка с повторами  (рулетка, блэкджек, кубики)\n",
    "print(random.choices(['red', 'black', 'green'], [18, 18, 2], k=6))\n",
    "\n",
    "# н/р генератор пароля \n",
    "characters = 'abcdefghijklmnopqrstuvwxyzABCDEFGHIJKLMNOPQRSTUVWXYZ1234567890'\n",
    "print(*random.choices(characters, k=12), sep='')"
   ]
  },
  {
   "cell_type": "code",
   "execution_count": null,
   "metadata": {},
   "outputs": [],
   "source": [
    "# (предварительно установить опорное? число для определения псевдослучайного   seed() по умолч - текущее время)\n",
    "random.seed(10)\n",
    "random.random()\n"
   ]
  },
  {
   "cell_type": "markdown",
   "metadata": {},
   "source": [
    "###  КАМЕНЬ, НОЖНИЦЫ, БУМАГА       __________ см rock.py "
   ]
  },
  {
   "cell_type": "code",
   "execution_count": null,
   "metadata": {},
   "outputs": [],
   "source": [
    "# чужое    хорошая идея   \n",
    "  \n",
    "first_gamer, second_gamer = \"Алекс\", \"Яна\"        # input(), input()\n",
    "options = [\"камень\", \"ножницы\", \"бумага\"]\n",
    "results = [\"ничья\", second_gamer, first_gamer]\n",
    "\n",
    "# СДЕЛАТЬ выбор вводом числа   1  2  3   и  СДЕЛАТЬ игру против компа (random  ?)\n",
    "\n",
    "first_move = \"ножницы\"      # input()\n",
    "second_move = \"камень\"     # input()\n",
    "\n",
    "case = options.index(first_move) - options.index(second_move)\n",
    "res = results[case]\n",
    "\n",
    "print(res)\n",
    "\n",
    "# варик !\n",
    "'''tim, rus = input(), input()\n",
    "win = ['ножницыбумага','каменьножницы', 'бумагакамень']\n",
    "if tim == rus:\n",
    "    print('ничья')\n",
    "else:\n",
    "    if tim + rus in win:\n",
    "        print('Тимур')\n",
    "    else:\n",
    "        print('Руслан')'''"
   ]
  },
  {
   "cell_type": "code",
   "execution_count": null,
   "metadata": {},
   "outputs": [],
   "source": [
    "#   ящерица спок  ...\n",
    "\n",
    "a = [\n",
    "    \"ножницыбумага\",\n",
    "    \"бумагакамень\",\n",
    "    \"каменьящерица\",\n",
    "    \"ящерицаСпок\",\n",
    "    \"Спокножницы\",\n",
    "    \"ножницыящерица\",\n",
    "    \"ящерицабумага\",\n",
    "    \"бумагаСпок\",\n",
    "    \"Споккамень\",\n",
    "    \"каменьножницы\"\n",
    "]\n",
    "\n",
    "b = input(\"Игрок 1: \")\n",
    "c = input(\"Игрок 2: \")\n",
    "\n",
    "if b == c:\n",
    "    print(\"ничья\")\n",
    "elif b+c in a:\n",
    "    print('Победил Игрок1')\n",
    "else:\n",
    "    print('Победил Игрок2')"
   ]
  },
  {
   "cell_type": "code",
   "execution_count": null,
   "metadata": {},
   "outputs": [],
   "source": [
    "#   ящерица спок 2 ...\n",
    "\n",
    "options = [\"камень\", \"ящерица\", \"Спок\", \"ножницы\", \"бумага\"]\n",
    "results = [\"ничья\", \"Руслан\", \"Тимур\", \"Руслан\", \"Тимур\"]\n",
    "\n",
    "timur_move = input()\n",
    "ruslan_move = input()\n",
    "\n",
    "case = options.index(timur_move) - options.index(ruslan_move)\n",
    "res = results[case]\n",
    "\n",
    "print(res)"
   ]
  },
  {
   "cell_type": "code",
   "execution_count": null,
   "metadata": {},
   "outputs": [],
   "source": [
    "#   ящерица спок 3  ...\n",
    "\n",
    "s = input()[0] + input()[0]\n",
    "print('Тимур' if s in 'нб ня бк бС кя кн яС яб Сн Ск' else 'ничья' if s ==\n",
    "      s[::-1] else 'Руслан')"
   ]
  },
  {
   "cell_type": "code",
   "execution_count": null,
   "metadata": {},
   "outputs": [],
   "source": [
    "# перетасовка двумерного списка\n",
    "import random as rnd\n",
    "matrix = [[1, 2, 3, 4],\n",
    "          [5, 6, 7, 8],\n",
    "          [9, 10, 11, 12],\n",
    "          [13, 14, 15, 16]]\n",
    "# sum здесь выпрямляет список   ннннн    ниже собирается обратно\n",
    "n, m, lst = len(matrix), len(matrix[0]), sum(matrix, [])\n",
    "rnd.shuffle(lst)\n",
    "matrix = [[lst[i * m + j] for j in range(m)] for i in range(n)]\n",
    "print(matrix)\n",
    "\n",
    "\n",
    "three_dim_list = [[[1, 2], [3, 4]], [[5, 6], [7, 8]], [[9, 10], [11, 12]]]\n",
    "flattened = sum(sum(three_dim_list, []), [])\n",
    "print(flattened)  # Выведет: [1, 2, 3, 4, 5, 6, 7, 8, 9, 10, 11, 12]"
   ]
  },
  {
   "cell_type": "code",
   "execution_count": 44,
   "metadata": {},
   "outputs": [
    {
     "name": "stdout",
     "output_type": "stream",
     "text": [
      "16  53  37  4   46 \n",
      "11  12  40  67  57 \n",
      "50  5   0   44  6  \n",
      "68  35  22  39  33 \n",
      "31  49  64  45  56 \n"
     ]
    }
   ],
   "source": [
    "# частность   случайная таблица бинго   5*5 (в центре 0)\n",
    "from random import shuffle as sh\n",
    "\n",
    "lst = [str(i).ljust(3) for i in (range(1, 75))]\n",
    "sh(lst)\n",
    "matrix = [[lst[i * 5 + j] for j in range(5)] for i in range(5)]\n",
    "matrix[2][2] = '0'.ljust(3)\n",
    "\n",
    "for el in matrix:\n",
    "    print(*el)"
   ]
  },
  {
   "cell_type": "markdown",
   "metadata": {},
   "source": [
    "\n",
    "### _\n",
    "### STATISTICS"
   ]
  },
  {
   "cell_type": "code",
   "execution_count": null,
   "metadata": {},
   "outputs": [],
   "source": [
    "import statistics\n",
    "statistics.median([3, 4, 5, 6, 50])\n"
   ]
  }
 ],
 "metadata": {
  "kernelspec": {
   "display_name": "Python 3",
   "language": "python",
   "name": "python3"
  },
  "language_info": {
   "codemirror_mode": {
    "name": "ipython",
    "version": 3
   },
   "file_extension": ".py",
   "mimetype": "text/x-python",
   "name": "python",
   "nbconvert_exporter": "python",
   "pygments_lexer": "ipython3",
   "version": "3.12.10"
  }
 },
 "nbformat": 4,
 "nbformat_minor": 2
}
