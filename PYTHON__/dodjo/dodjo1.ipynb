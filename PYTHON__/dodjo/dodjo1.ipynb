{
 "cells": [
  {
   "cell_type": "code",
   "execution_count": 46,
   "metadata": {},
   "outputs": [
    {
     "data": {
      "text/plain": [
       "(2, 1)"
      ]
     },
     "execution_count": 46,
     "metadata": {},
     "output_type": "execute_result"
    }
   ],
   "source": [
    "import math\n",
    "def reduce_fraction(fraction):\n",
    "    numdel = math.gcd(fraction[0], fraction[1])\n",
    "    return (fraction[0]//numdel, fraction[1]//numdel)\n",
    "reduce_fraction((6,3))"
   ]
  },
  {
   "cell_type": "code",
   "execution_count": null,
   "metadata": {},
   "outputs": [],
   "source": [
    "def gcd(a, b):\n",
    "    return a if b == 0 else gcd(b, a % b)\n",
    "\n",
    "def reduce_fraction(fraction):\n",
    "    num, denom = fraction\n",
    "    gcd_num_denom = gcd(num, denom)\n",
    "    return (num // gcd_num_denom, denom // gcd_num_denom)\n",
    "\n",
    "reduce_fraction((6, 3))"
   ]
  },
  {
   "cell_type": "code",
   "execution_count": 69,
   "metadata": {},
   "outputs": [
    {
     "data": {
      "text/plain": [
       "'sss'"
      ]
     },
     "execution_count": 69,
     "metadata": {},
     "output_type": "execute_result"
    }
   ],
   "source": [
    "# ??? translate\n",
    "\n",
    "'ggg'.translate(str.maketrans('g', 's'))"
   ]
  },
  {
   "cell_type": "code",
   "execution_count": 83,
   "metadata": {},
   "outputs": [
    {
     "data": {
      "text/plain": [
       "0.577350269189626"
      ]
     },
     "execution_count": 83,
     "metadata": {},
     "output_type": "execute_result"
    }
   ],
   "source": [
    "# диаметр вписанного круга \n",
    "\n",
    "import math\n",
    "def circle_diameter(sides, side_length): \n",
    "    if sides > 2:\n",
    "        res = side_length / math.tan(math.pi/sides)\n",
    "    else: res = 'sides < 3'\n",
    "    return res \n",
    "\n",
    "circle_diameter(3, 1)"
   ]
  },
  {
   "cell_type": "code",
   "execution_count": 84,
   "metadata": {},
   "outputs": [
    {
     "data": {
      "text/plain": [
       "'$0.00'"
      ]
     },
     "execution_count": 84,
     "metadata": {},
     "output_type": "execute_result"
    }
   ],
   "source": [
    "# денежный ? формат\n",
    "\n",
    "def format_money(amount):\n",
    "    return f'${amount:.2f}'\n",
    "\n",
    "format_money(0)"
   ]
  },
  {
   "cell_type": "code",
   "execution_count": 94,
   "metadata": {},
   "outputs": [
    {
     "name": "stdout",
     "output_type": "stream",
     "text": [
      "[7, 5, 3, 2, 8]\n",
      "18\n",
      "42\n"
     ]
    }
   ],
   "source": [
    "# получить список цифр \n",
    "\"\"\"\n",
    "\n",
    "def digitize(n):\n",
    "    return [int(x) for x in reversed(str(n))]\n",
    "\n",
    "\"\"\"\n",
    "\n",
    "\n",
    "def digitize(n):\n",
    "\n",
    "    return [int(x) for x in str(n)]\n",
    "\n",
    "\n",
    "print(digitize(75328))\n",
    "\n",
    "\n",
    "# ((произведение цифр)) \n",
    "def multiply(n):\n",
    "    sign = 1 if n >= 0 else -1\n",
    "    str_num = str(abs(n))\n",
    "    res = 1\n",
    "    for i in range(len(str_num)):\n",
    "        res *= int(str_num[i])\n",
    "    return res*sign\n",
    "\n",
    "print(multiply(36))\n",
    "\n",
    "# или\n",
    "import math\n",
    "n = 67\n",
    "m = math.prod(map(int, [*str(n)]))\n",
    "print(m)\n",
    "\n",
    "# или строковый ввод \n",
    "num = '12345'  # input()\n",
    "print(sum(int(x) for x in num))\n",
    "# print((int(x) for x in num))\n",
    "rezult = 1\n",
    "for x in num:\n",
    "    rezult *= int(x)\n",
    "print(rezult)"
   ]
  },
  {
   "cell_type": "code",
   "execution_count": 101,
   "metadata": {},
   "outputs": [
    {
     "data": {
      "text/plain": [
       "['012', '021', '102', '120', '201', '210']"
      ]
     },
     "execution_count": 101,
     "metadata": {},
     "output_type": "execute_result"
    }
   ],
   "source": [
    "# ((комби цифр))\n",
    "num = 3\n",
    "\n",
    "[str(i)+str(j)+str(k) for i in range(num) for j in range(num)\n",
    " for k in range(num) if i != j != k and i != k]"
   ]
  }
 ],
 "metadata": {
  "kernelspec": {
   "display_name": "Python 3",
   "language": "python",
   "name": "python3"
  },
  "language_info": {
   "codemirror_mode": {
    "name": "ipython",
    "version": 3
   },
   "file_extension": ".py",
   "mimetype": "text/x-python",
   "name": "python",
   "nbconvert_exporter": "python",
   "pygments_lexer": "ipython3",
   "version": "3.12.2"
  }
 },
 "nbformat": 4,
 "nbformat_minor": 2
}
