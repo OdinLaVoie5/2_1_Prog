{
 "cells": [
  {
   "cell_type": "markdown",
   "id": "cd3b2113",
   "metadata": {},
   "source": [
    "ПРИМЕРЫ - Убираем переносы строк  форматируем ..."
   ]
  },
  {
   "cell_type": "code",
   "execution_count": null,
   "id": "cbf91e47",
   "metadata": {},
   "outputs": [],
   "source": [
    "import re\n",
    "import textwrap\n",
    "\n",
    "text = \"\"\"Это пример\n",
    "\n",
    "     \n",
    "   текста с\n",
    "\n",
    "многочисленными\n",
    "переносами.\"\"\"\n",
    "\n",
    "\n",
    "# удаляем пробелы в начале и конце строки\n",
    "cleaned = text.strip()\n",
    "print(cleaned + \"\\n\")\n",
    "\n",
    "# удаляем лишние пробелы\n",
    "normalized = ' '.join(text.split())\n",
    "print(normalized + \"\\n\")\n",
    "\n",
    "# убрать все повторяющиеся пробелы и переносы строк\n",
    "normalized_all = re.sub(r'\\s+', ' ', text).strip()\n",
    "print(normalized_all + \"\\n\")\n",
    "\n",
    "# заменяем один или несколько \\n на пробел\n",
    "pressed = re.sub(r'\\n+', ' ', text)\n",
    "print(pressed + \"\\n\")\n",
    "\n",
    "\n",
    "# форматируем текст с шириной 30 символов\n",
    "wrapped = textwrap.fill(text, width=30)\n",
    "print(wrapped + \"\\n\")"
   ]
  },
  {
   "cell_type": "markdown",
   "id": "d4eacd13",
   "metadata": {},
   "source": [
    "Сохраняет абзацы (каждый абзац — это блок текста, разделённый пустой строкой).\n",
    "Убирает лишние пробелы внутри абзацев.\n",
    "Убирает случайные пустые строки внутри абзацев.\n",
    "Выводит каждый абзац с пустой строкой после."
   ]
  },
  {
   "cell_type": "code",
   "execution_count": null,
   "id": "b6977f1e",
   "metadata": {},
   "outputs": [],
   "source": [
    "import re\n",
    "import builtins\n",
    "\n",
    "# Сохраняем оригинальный встроенный print\n",
    "original_print = builtins.print\n",
    "\n",
    "# Переопределяем print, чтобы добавлять пустую строку после\n",
    "def print(*args, **kwargs):\n",
    "    original_print(*args, **kwargs)\n",
    "    original_print()  # пустая строка после\n",
    "\n",
    "# Функция для очистки и форматирования текста в абзацы\n",
    "def clean_paragraphs(text):\n",
    "    # Разбиваем текст на абзацы (по двойным и более переносам строк)\n",
    "    raw_paragraphs = re.split(r'\\n\\s*\\n', text)\n",
    "\n",
    "    cleaned_paragraphs = []\n",
    "    for para in raw_paragraphs:\n",
    "        # Убираем лишние пробелы и переносы внутри абзаца\n",
    "        clean_para = re.sub(r'\\s+', ' ', para).strip()\n",
    "        if clean_para:  # исключаем пустые абзацы\n",
    "            cleaned_paragraphs.append(clean_para)\n",
    "\n",
    "    return cleaned_paragraphs\n",
    "\n",
    "\n",
    "# Пример текста\n",
    "raw_text = \"\"\"\n",
    "   Это   пример текста\n",
    "с несколькими\n",
    "\n",
    "   пробелами и переносами.\n",
    "\n",
    "Вот второй абзац  с лишними   пробелами.\n",
    "\"\"\"\n",
    "\n",
    "paragraphs = clean_paragraphs(raw_text)\n",
    "\n",
    "# Выводим каждый абзац с пустой строкой после\n",
    "for p in paragraphs:\n",
    "    print(p)"
   ]
  },
  {
   "cell_type": "markdown",
   "id": "29174aa5",
   "metadata": {},
   "source": [
    "Склеиваем переносы через дефис"
   ]
  },
  {
   "cell_type": "code",
   "execution_count": null,
   "id": "062fdc3d",
   "metadata": {},
   "outputs": [],
   "source": [
    "import re\n",
    "\n",
    "text = \"\"\"при-вет как де-\n",
    "ла? сегодня всё хо-\n",
    "рошо\"\"\"\n",
    "\n",
    "# склеиваем переносы через дефис\n",
    "fixed_text = re.sub(r'(\\w+)-\\n(\\w+)', r'\\1\\2', text)\n",
    "\n",
    "print(fixed_text)"
   ]
  },
  {
   "cell_type": "markdown",
   "id": "f53fd068",
   "metadata": {},
   "source": [
    "================================================"
   ]
  },
  {
   "cell_type": "markdown",
   "id": "78c9e872",
   "metadata": {},
   "source": [
    "Нормализация текста с различными параметрами"
   ]
  },
  {
   "cell_type": "code",
   "execution_count": null,
   "id": "09c85451",
   "metadata": {},
   "outputs": [],
   "source": [
    "import re\n",
    "import string\n",
    "\n",
    "def normalize_text(\n",
    "    text_lines: list[str],\n",
    "    allowed_chars: str = \"+-*/^%\",\n",
    "    allow_punctuation: bool = False,\n",
    "    lang: str = \"all\",\n",
    "    keep_case: bool = False,\n",
    "    preserve_spaces: bool = False\n",
    ") -> list[str]:\n",
    "    \"\"\"\n",
    "    Нормализует список строк:\n",
    "      1. Оставляет только разрешённые символы (по режиму lang + allowed_chars).\n",
    "      2. Убирает пустые строки, табы, пробелы по краям.\n",
    "         Если preserve_spaces=False — схлопывает множественные пробелы.\n",
    "      3. По умолчанию переводит всё в нижний регистр (если keep_case=False).\n",
    "\n",
    "    :param text_lines: список строк для обработки\n",
    "    :param allowed_chars: строка с дополнительными разрешёнными символами\n",
    "    :param allow_punctuation: если True — разрешаются все стандартные знаки препинания\n",
    "    :param lang: \n",
    "        \"all\"         — буквы любого языка + цифры (по умолчанию)\n",
    "        \"ru\"          — только кириллица + цифры\n",
    "        \"en\"          — только латиница + цифры\n",
    "        \"digits_only\" — только цифры\n",
    "    :param keep_case: если True — сохраняется исходный регистр букв\n",
    "    :param preserve_spaces: если True — не схлопывать множественные пробелы\n",
    "    :return: список нормализованных строк\n",
    "    \"\"\"\n",
    "    # базовый набор разрешённых символов\n",
    "    extra = allowed_chars\n",
    "    if allow_punctuation:\n",
    "        extra += string.punctuation\n",
    "    escaped_allowed = re.escape(extra)\n",
    "\n",
    "    # выбор паттерна по lang\n",
    "    if lang == \"ru\":\n",
    "        letters = \"А-Яа-яЁё\"\n",
    "        pattern = rf\"[^0-9{letters}\\s{escaped_allowed}]\"\n",
    "    elif lang == \"en\":\n",
    "        letters = \"A-Za-z\"\n",
    "        pattern = rf\"[^0-9{letters}\\s{escaped_allowed}]\"\n",
    "    elif lang == \"digits_only\":\n",
    "        pattern = rf\"[^0-9\\s{escaped_allowed}]\"\n",
    "    else:  # all\n",
    "        pattern = rf\"[^\\w\\s{escaped_allowed}]\"\n",
    "\n",
    "    normalized = []\n",
    "    for line in text_lines:\n",
    "        # 1. фильтрация символов\n",
    "        line = re.sub(pattern, \"\", line, flags=re.UNICODE)\n",
    "\n",
    "        # 2. пробелы/табы\n",
    "        line = line.replace(\"\\t\", \" \")\n",
    "        if not preserve_spaces:\n",
    "            line = \" \".join(line.split())\n",
    "        else:\n",
    "            line = line.strip()\n",
    "\n",
    "        # 3. регистр\n",
    "        if not keep_case:\n",
    "            line = line.lower()\n",
    "\n",
    "        # убираем пустые строки\n",
    "        if line:\n",
    "            normalized.append(line)\n",
    "\n",
    "    return normalized\n",
    "\n",
    "normalize_text([\"вкео,лл hhjk5?6 $hf+f_вв\"])\n"
   ]
  },
  {
   "cell_type": "code",
   "execution_count": null,
   "id": "4206b451",
   "metadata": {},
   "outputs": [],
   "source": [
    "# убирает ударения     ◌́ (U+0301 COMBINING ACUTE ACCENT)   !!! \n",
    "import unicodedata\n",
    "text = unicodedata.normalize(\"NFC\", text)        # что ещё может делать unicodedata\n",
    "#  или проверять через \\u0301\n"
   ]
  },
  {
   "cell_type": "code",
   "execution_count": null,
   "id": "57724be6",
   "metadata": {},
   "outputs": [],
   "source": [
    "# форма списка в форму словаря  ????  исправить - \"+\" надо перед ударной гласной\n",
    "import unicodedata\n",
    "\n",
    "def convert_accented_words(text: str) -> dict[str, str]:\n",
    "    result = {}\n",
    "    lines = text.strip().splitlines()\n",
    "\n",
    "    for line in lines:\n",
    "        word = line.strip().lstrip(\"0123456789. \")\n",
    "        if not word:\n",
    "            continue\n",
    "\n",
    "        # Преобразуем в разложенную форму (NFD), чтобы акут стал отдельным символом\n",
    "        decomposed = unicodedata.normalize(\"NFD\", word)\n",
    "        chars = list(decomposed)\n",
    "\n",
    "        # Найти индекс ударной гласной\n",
    "        for i in range(len(chars) - 1):\n",
    "            if unicodedata.name(chars[i], \"\").startswith(\"CYRILLIC\") and \\\n",
    "               unicodedata.name(chars[i + 1], \"\").startswith(\"COMBINING ACUTE\"):\n",
    "                # Ударная гласная найдена\n",
    "                base = ''.join(chars[:i + 1])  # включая гласную\n",
    "                tail = ''.join(chars[i + 2:])  # после акута\n",
    "                clean = unicodedata.normalize(\"NFC\", base + tail)\n",
    "                marked = unicodedata.normalize(\"NFC\", base + \"+\" + tail)\n",
    "                result[clean] = marked\n",
    "                break\n",
    "        else:\n",
    "            # Если акут не найден — оставить как есть\n",
    "            result[word] = word\n",
    "\n",
    "    return result\n",
    "\n",
    "\n",
    "text = \"\"\"\n",
    "1. вертолётострое́ние\n",
    "2 вертолётострои́тель\n",
    "3. виндсёрфингист\n",
    " вперёдсмотря́щий\n",
    "гёрлфре́нд\n",
    "\"\"\"\n",
    "\n",
    "converted = convert_accented_words(text)\n",
    "for k, v in converted.items(): \n",
    "    print(f'\"{k}\": \"{v}\",')"
   ]
  },
  {
   "cell_type": "markdown",
   "id": "2d8f33f8",
   "metadata": {},
   "source": [
    "ещё "
   ]
  },
  {
   "cell_type": "code",
   "execution_count": null,
   "id": "437e94eb",
   "metadata": {},
   "outputs": [],
   "source": [
    "# PUNCTUATION = r\".,!?;:()«»′\\\"'…—–-\"\n",
    "# SPETIAL_SYMBOLS = r\"/*+%#@¿¡№$€£¥°℃Å℉©®™§_^=<>⟨⟩[]{}|\\\\~`\"  # ¢₹  ↑↓←→   так придётся добавить пункт \"научные\" знаки )  \n",
    "\n",
    "\n",
    "#   AAAAAA!       https://ru.piliapp.com/symbol/\n",
    "#             PUNCTUATION = \".,!?;:()«»—–-…\"   # препинаки   !!!!  \n",
    "# больше      PUNCTUATION = \".,!?;:()«»\\\"'—–-…/*+%\"      .,!?;:\\-–()«»′“‘\\\"'…\n",
    "# ещё больше  PUNCTUATION = r\".,!?;:()«»\\\"'—–-…/*+%#@¿\"\n",
    "#             PUNCTUATION = r\"—–-/*+%#@¿¡№$€£¥°℃Å℉©®™§%^&*_=<>⟨⟩[]{}|\\\\~`\""
   ]
  },
  {
   "cell_type": "markdown",
   "id": "f3bad52c",
   "metadata": {},
   "source": [
    "регулярки"
   ]
  },
  {
   "cell_type": "code",
   "execution_count": null,
   "id": "bae6e22f",
   "metadata": {},
   "outputs": [],
   "source": [
    "import re\n",
    "\n",
    "\n",
    "regex_rem_num_lat = re.compile(r\"\\d+|[a-zA-Z]+\", flags=re.UNICODE)\n",
    "print(regex_rem_num_lat.findall(\"abc 123 деф 45x\"))"
   ]
  },
  {
   "cell_type": "code",
   "execution_count": null,
   "id": "a983f980",
   "metadata": {},
   "outputs": [],
   "source": [
    "l = [1,2,3,4,5]\n",
    "m = [7,3,4,5]\n",
    "diff = len(l) - len(m)\n",
    "l = l[diff:]\n",
    "print(diff)\n",
    "print(l)"
   ]
  }
 ],
 "metadata": {
  "kernelspec": {
   "display_name": ".venv",
   "language": "python",
   "name": "python3"
  },
  "language_info": {
   "codemirror_mode": {
    "name": "ipython",
    "version": 3
   },
   "file_extension": ".py",
   "mimetype": "text/x-python",
   "name": "python",
   "nbconvert_exporter": "python",
   "pygments_lexer": "ipython3",
   "version": "3.12.10"
  }
 },
 "nbformat": 4,
 "nbformat_minor": 5
}
