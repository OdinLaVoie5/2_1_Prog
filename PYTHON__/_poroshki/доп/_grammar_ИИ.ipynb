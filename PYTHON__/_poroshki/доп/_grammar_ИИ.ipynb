{
 "cells": [
  {
   "cell_type": "markdown",
   "id": "ee4ba5f9",
   "metadata": {},
   "source": [
    "Исправление грамматических ошибок (language_tool_python)"
   ]
  },
  {
   "cell_type": "code",
   "execution_count": null,
   "id": "95d74017",
   "metadata": {},
   "outputs": [],
   "source": [
    "import language_tool_python\n",
    "tool = language_tool_python.LanguageTool('ru-RU')\n",
    "print(tool.check(\"Привет как дела\"))  # Должен работать без ошибок"
   ]
  },
  {
   "cell_type": "markdown",
   "id": "939bb770",
   "metadata": {},
   "source": [
    "не работает    ИСПРАВЛЕНИЕ ОШИБОК (СЛАБЫЕ СЫРЫЕ ИИ) (1 орфография spellchecker    2 пунктуация (убрал deepmultilingualpunctuation  и silero похоже не работает)  3 вся грамматика language_tool_python)     (+ pymorphy3  wordfreq)     (+ transliterate)"
   ]
  },
  {
   "cell_type": "code",
   "execution_count": null,
   "id": "807e513f",
   "metadata": {},
   "outputs": [],
   "source": [
    "import torch\n",
    "from spellchecker import SpellChecker\n",
    "import pymorphy3\n",
    "import language_tool_python\n",
    "from wordfreq import top_n_list\n",
    "\n",
    "# ----------------------\n",
    "# 1. Орфография (pymorphy3 + spellchecker + wordfreq)\n",
    "# ----------------------\n",
    "morph = pymorphy3.MorphAnalyzer()\n",
    "\n",
    "# Загружаем частотный список русских слов (например, топ-100000)\n",
    "ru_words = top_n_list(\"ru\", 100000)\n",
    "\n",
    "spell = SpellChecker(language=None)\n",
    "spell.word_frequency.load_words(ru_words)\n",
    "\n",
    "\n",
    "def correct_spelling(text: str) -> str:\n",
    "    words = text.split()\n",
    "    corrected = []\n",
    "    for w in words:\n",
    "        lw = w.lower()\n",
    "\n",
    "        # Проверяем слово через pymorphy3\n",
    "        parses = morph.parse(lw)\n",
    "        if parses and parses[0].score > 0.5:\n",
    "            corrected.append(w)\n",
    "            continue\n",
    "\n",
    "        # Если неизвестно — пробуем spellchecker\n",
    "        cand = spell.correction(lw)\n",
    "        if cand is None:\n",
    "            corrected.append(w)\n",
    "        else:\n",
    "            if w[0].isupper():\n",
    "                cand = cand.capitalize()\n",
    "            corrected.append(cand)\n",
    "\n",
    "    return \" \".join(corrected)\n",
    "\n",
    "\n",
    "# ----------------------\n",
    "# 2. Пунктуация (Silero)\n",
    "# ----------------------\n",
    "model, example_texts, languages, punct, apply_te = torch.hub.load(\n",
    "    repo_or_dir=\"snakers4/silero-models\",\n",
    "    model=\"silero_te\"\n",
    ")\n",
    "\n",
    "\n",
    "def restore_punctuation(text: str) -> str:\n",
    "    return apply_te(text, lan=\"ru\")\n",
    "\n",
    "\n",
    "# ----------------------\n",
    "# 3. Грамматика (LanguageTool)\n",
    "# ----------------------\n",
    "tool = language_tool_python.LanguageTool(\"ru-RU\")\n",
    "\n",
    "\n",
    "def correct_grammar(text: str) -> str:\n",
    "    matches = tool.check(text)\n",
    "    return language_tool_python.utils.correct(text, matches)\n",
    "\n",
    "\n",
    "# ----------------------\n",
    "# 4. Конвейер\n",
    "# ----------------------\n",
    "def process_text_strict(text: str) -> str:\n",
    "    text = restore_punctuation(text)\n",
    "    text = correct_spelling(text)\n",
    "    text = correct_grammar(text)\n",
    "    return text\n",
    "\n",
    "\n",
    "# ----------------------\n",
    "# Пример\n",
    "# ----------------------\n",
    "raw_text = \"привет как дела я сегодн пошол в магазин а патом паехал дамой\"\n",
    "processed = process_text_strict(raw_text)\n",
    "print(processed)"
   ]
  }
 ],
 "metadata": {
  "kernelspec": {
   "display_name": ".venv",
   "language": "python",
   "name": "python3"
  },
  "language_info": {
   "codemirror_mode": {
    "name": "ipython",
    "version": 3
   },
   "file_extension": ".py",
   "mimetype": "text/x-python",
   "name": "python",
   "nbconvert_exporter": "python",
   "pygments_lexer": "ipython3",
   "version": "3.12.10"
  }
 },
 "nbformat": 4,
 "nbformat_minor": 5
}
