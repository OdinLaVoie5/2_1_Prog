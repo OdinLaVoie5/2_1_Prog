{
 "cells": [
  {
   "cell_type": "markdown",
   "metadata": {},
   "source": [
    "### Алгоритм Евклида   ...    НОД    ..."
   ]
  },
  {
   "cell_type": "code",
   "execution_count": 5,
   "metadata": {},
   "outputs": [
    {
     "name": "stdout",
     "output_type": "stream",
     "text": [
      "437\n",
      "437\n"
     ]
    }
   ],
   "source": [
    "# без рекурсии\n",
    "def gcd_(a, b):\n",
    "    while b:\n",
    "        a, b = b, a % b\n",
    "    return a\n",
    "\n",
    "print(gcd_(437*31, 437*71))\n",
    "\n",
    "\n",
    "# !!!  Код программы на Python нахождения НОД с помощью рекурсии:\n",
    "def gcd_recursion(num1, num2):\n",
    "    if num1 == 0:\n",
    "        return num2\n",
    "    return gcd_recursion(num2 % num1, num1)\n",
    "\n",
    "\n",
    "print(gcd_recursion(437*31, 437*71))"
   ]
  },
  {
   "cell_type": "code",
   "execution_count": 6,
   "metadata": {},
   "outputs": [
    {
     "name": "stdout",
     "output_type": "stream",
     "text": [
      "437\n",
      "437\n",
      "437\n"
     ]
    }
   ],
   "source": [
    "# -----   др варианты\n",
    "def gcd_rem_division(num1, num2):\n",
    "    while num1 != 0 and num2 != 0:\n",
    "        if num1 >= num2:\n",
    "            num1 %= num2\n",
    "        else:\n",
    "            num2 %= num1\n",
    "    return num1 or num2\n",
    "\n",
    "print(gcd_rem_division(437*31, 437*71))\n",
    "\n",
    "#  Код алгоритма Евклида на Python на основе вычитания:\n",
    "def gcd_subtraction(num1, num2):\n",
    "    while num1 != 0 and num2 != 0:\n",
    "        if num1 >= num2:\n",
    "            num1 -= num2\n",
    "        else:\n",
    "            num2 -= num1\n",
    "    return num1 or num2\n",
    "\n",
    "print(gcd_subtraction(437*31, 437*71))\n",
    " \n",
    "\n",
    "# !!! Бинарный алгоритм имеет довольно сложную реализацию по сравнению со всеми предыдущими, однако это окупается его эффективностью.\n",
    "def binary_gcd(num1, num2):\n",
    "    shift = 0\n",
    "    # Если одно из чисел равно нулю, делитель - другое число\n",
    "    if num1 == 0:\n",
    "        return num2\n",
    "    if num2 == 0:\n",
    "        return num1\n",
    "    # Если num1 = 1010, а num2 = 0100, то num1 | num2 = 1110\n",
    "    # 1110 & 0001 == 0, тогда происходит сдвиг, который фиксируется в shift\n",
    "    while (num1 | num2) & 1 == 0:\n",
    "        shift += 1\n",
    "        num1 >>= 1\n",
    "        num2 >>= 1\n",
    "    #Если True, значит num1 - четное, иначе - нечетное\n",
    "    while num1 & 1 == 0:\n",
    "        # если нечетное, сдвигаем на один бит\n",
    "        num1 >>= 1\n",
    "    while num2 != 0:\n",
    "        # пока число нечётное, сдвигаем на один бит\n",
    "        while num2 & 1 == 0:\n",
    "            num2 >>= 1\n",
    "        # если первое число больше второго\n",
    "        if num1 > num2:\n",
    "            # меняем их местами\n",
    "            num1, num2 = num2, num1\n",
    "        #теперь первое число меньше второго, вычитаем\n",
    "        num2 -= num1\n",
    "    # возвращаем число, перед этим сдвинув его биты на shift\n",
    "    return num1 << shift\n",
    "\n",
    "print(binary_gcd(437*31, 437*71))"
   ]
  },
  {
   "cell_type": "code",
   "execution_count": null,
   "metadata": {},
   "outputs": [],
   "source": [
    "# дубль   РАСШИРЕННЫЙ АЛГОРИТМ Евклида для нахождения коэффициентов x и y, таких что Ax + By = gcd(A, B)\n",
    "# Эта функция возвращает тройку значений: наибольший общий делитель d и коэффициенты x и y, такие что Ax + By = d\n",
    "# (( Рекурсия ))\n",
    "\n",
    "def extended_gcd(a, b):\n",
    "    if b == 0:\n",
    "        return a, 1, 0\n",
    "    else:\n",
    "        d, x, y = extended_gcd(b, a % b)\n",
    "        return d, y, x - (a // b) * y\n",
    "\n",
    "print(extended_gcd(3, 5))\n",
    "\n",
    "\n",
    "# ТОЖЕ  НЕ РЕКУРСИВНО\n",
    "def extended_gcd_iterative(a, b):\n",
    "    x, y, last_x, last_y = 0, 1, 1, 0\n",
    "\n",
    "    while b != 0:\n",
    "        quotient = a // b\n",
    "        a, b = b, a % b\n",
    "        x, last_x = last_x - quotient * x, x\n",
    "        y, last_y = last_y - quotient * y, y\n",
    "\n",
    "    return last_x, last_y, a\n",
    "\n",
    "# Пример использования:\n",
    "a = 3\n",
    "b = 5\n",
    "x, y, gcd = extended_gcd_iterative(a, b)\n",
    "\n",
    "print(f\"Коэффициенты Безу: x = {x}, y = {y}\")\n",
    "print(f\"Наибольший общий делитель: {gcd}\")"
   ]
  },
  {
   "cell_type": "code",
   "execution_count": null,
   "metadata": {},
   "outputs": [],
   "source": [
    "print(pow(2,3))\n",
    "3.4%1\n",
    "\n"
   ]
  },
  {
   "cell_type": "code",
   "execution_count": null,
   "metadata": {},
   "outputs": [],
   "source": [
    "print(abs(-7))\n",
    "x = -5\n",
    "x.__abs__() # ((реальный вид встроеных функций))\n"
   ]
  },
  {
   "cell_type": "code",
   "execution_count": null,
   "metadata": {},
   "outputs": [],
   "source": [
    "num1 = 5\n",
    "num2 = 300\n",
    "# bit_length() — вычисляет количество бит, необходимых для представления числа в двоичном виде\n",
    "print(num1.bit_length() + num2.bit_length())\n"
   ]
  },
  {
   "cell_type": "markdown",
   "metadata": {},
   "source": [
    "### MATH"
   ]
  },
  {
   "cell_type": "code",
   "execution_count": null,
   "metadata": {},
   "outputs": [],
   "source": [
    "import math\n",
    "from math import ceil, floor    # если импорт конкретных ф-ций то можно без точки\n",
    "print(floor(12.8))          # округление\n",
    "print(ceil(12.4))\n",
    "print(math.ceil(12.4))\n"
   ]
  },
  {
   "cell_type": "code",
   "execution_count": null,
   "metadata": {},
   "outputs": [],
   "source": [
    "p = [3, 3]\n",
    "q = [6, 12]\n",
    "\n",
    "# Calculate Euclidean distance\n",
    "print(math.dist(p, q))\n",
    "print(math.dist([6, 12], [4, 1]))  # евклидово расстояние меж точками\n",
    "\n",
    "print(math.hypot(3, 4))"
   ]
  },
  {
   "cell_type": "code",
   "execution_count": null,
   "metadata": {},
   "outputs": [],
   "source": [
    "print(math.fsum ([1.5,2,3])) # сумма с math \n",
    "print(sum([1.5, 2, 3]))      # сумма без math \n",
    "print(math.prod([4, 55, 666]))     # перемножить все\n",
    "print(math.prod(range(333,365))/365**32)     \n",
    "\n",
    "math.gcd(70, 105)            # НОД\n"
   ]
  },
  {
   "cell_type": "code",
   "execution_count": null,
   "metadata": {},
   "outputs": [],
   "source": [
    "print(math.remainder(9.432,1))     # Остаток\n",
    "\n",
    "math.isclose(1, 1.0001, rel_tol=1e-04, abs_tol=0.00001)\n"
   ]
  },
  {
   "cell_type": "code",
   "execution_count": null,
   "metadata": {},
   "outputs": [],
   "source": [
    "import math\n",
    "# комби \n",
    "print(math.comb(5, 3))  # ((сочетание)) (кол-во способов выбора k элементов из n элементов без повторения и упорядочивания)\n",
    "# ((размещение))(кол-во способов выбора k элементов из n элементов по порядку и без повторений)\n",
    "print(math.perm(5, 3))\n",
    "math.factorial(5)  # факториал\n",
    "\n",
    "# (биноминальные коэффициенты,     треугольник паскаля)\n",
    "n = 5\n",
    "print([math.comb(n, i) for i in range(n+1)])\n",
    "\n",
    "# тоже сложным путём \n",
    "res_list = [[1], [1,1]]\n",
    "for _ in range(n-1):    \n",
    "    last_row = res_list[-1]\n",
    "    new_row = []\n",
    "    new_row.append(1)\n",
    "    for i in range(len(last_row)-1):\n",
    "        new_row.append(last_row[i] + last_row[i+1])\n",
    "    new_row.append(1)\n",
    "    res_list.append(new_row)\n",
    " \n",
    "print(res_list[n])\n",
    "print(res_list)\n",
    "print()\n"
   ]
  },
  {
   "cell_type": "code",
   "execution_count": null,
   "metadata": {},
   "outputs": [],
   "source": [
    "from math import comb\n",
    "for i in range(int(input())):\n",
    "    print(*[comb(i, j) for j in range(i+1)])"
   ]
  },
  {
   "cell_type": "code",
   "execution_count": null,
   "metadata": {},
   "outputs": [],
   "source": [
    "print(math.degrees(2))     # из радианов в градусы      \n",
    "print(math.radians(180))   # из градусов в радианы \n",
    "\n",
    "print(math.exp(1))     # E^x           \n",
    "print(math.pow(3, 4))      # степень x^y  (есть и без math?)  \n",
    "print(pow(3, 4))\n",
    "print(math.sqrt(121))     # кв.корень          \n",
    "print(math.isqrt(120))    # кв.корень округлённый вниз\n",
    "\n",
    "# константы\n",
    "print(math.e)   \n",
    "print(math.pi)            \n",
    "print(math.nan)   \n",
    "print(math.inf)   \n",
    "\n",
    "# проверка  предикат      \n",
    "print(math.isinf(math.inf))  # бесконечное\n",
    "print(math.isfinite(5))  #  конечное\n",
    "print(math.isnan(math.nan))  # NaN (нечисловое?)  \n"
   ]
  },
  {
   "cell_type": "markdown",
   "metadata": {},
   "source": [
    "### Числа и комбинаторика "
   ]
  },
  {
   "cell_type": "code",
   "execution_count": null,
   "metadata": {},
   "outputs": [],
   "source": [
    "# Магический квадрат: ПРОВЕРКА\n",
    "import re\n",
    "# + регулярные выражения \n",
    "\n",
    "  \n",
    "#ввод готовой матрицы   matrix = [[8,   1,   6], [3,   5,   7], [4,   9,   2]]\n",
    "# [[int(i) for i in input().split()] for _ in range(n)]\n",
    "# ввод матрицы  текстовый  (любое количество пробельных символов)\n",
    "M = ''' \n",
    "17  24   1   8  15\n",
    " 23   5   7  14  16\n",
    "  4   6  13  20  22\n",
    " 10  12  19  21   3\n",
    " 11  18  25   2   9\n",
    " '''\n",
    "\n",
    "matrix = [[int(j) for j in re.split(r\"\\s+\", i.strip())] for i in M.strip().split('\\n')]\n",
    "\n",
    "\n",
    "def check_magic_square(matrix):\n",
    "    n = len(matrix)\n",
    "    # АХАЛАЙМАХАЛАЙ! вычислить магическую константу\n",
    "    const_sum = sum(range(1, n**2+1)) // n\n",
    "\n",
    "    # проверить что числа матрицы соответствуют диапазону\n",
    "    digit_matrix = []\n",
    "    for i in range(n):\n",
    "        digit_matrix += matrix[i]\n",
    "    digit_range = list(range(1, n**2+1))\n",
    "\n",
    "    if sorted(digit_matrix) != digit_range:\n",
    "        return False\n",
    "\n",
    "    # проверить что суммы чисел каждого ряда (столбца, диагонали) равны  магической константе\n",
    "    for i in range(n):\n",
    "        if sum(matrix[i]) != const_sum:                         # ряды \n",
    "            return False\n",
    "        if sum([matrix[j][i] for j in range(n)]) != const_sum:  # столбцы\n",
    "            return False\n",
    "        if sum([matrix[i][i] for i in range(n)]) != const_sum:  # диагональ\n",
    "            return False\n",
    "\n",
    "    return True \n",
    "\n",
    "\n",
    "check_magic_square(matrix)"
   ]
  },
  {
   "cell_type": "code",
   "execution_count": null,
   "metadata": {},
   "outputs": [],
   "source": [
    "# Метод террас (для нечетного порядка)  \n",
    "# +  https://ru.wikibooks.org/wiki/%D0%A0%D0%B5%D0%B0%D0%BB%D0%B8%D0%B7%D0%B0%D1%86%D0%B8%D0%B8_%D0%B0%D0%BB%D0%B3%D0%BE%D1%80%D0%B8%D1%82%D0%BC%D0%BE%D0%B2/%D0%9F%D0%BE%D1%81%D1%82%D1%80%D0%BE%D0%B5%D0%BD%D0%B8%D0%B5_%D0%BC%D0%B0%D0%B3%D0%B8%D1%87%D0%B5%D1%81%D0%BA%D0%B8%D1%85_%D0%BA%D0%B2%D0%B0%D0%B4%D1%80%D0%B0%D1%82%D0%BE%D0%B2\n",
    "\n",
    "size = 19\n",
    "square = [[0 for j in range(2 * size - 1)] for i in range(2 * size - 1)]\n",
    "counter = 1\n",
    "dj = 0\n",
    "for i in range(size):\n",
    "    di = size - 1\n",
    "    for j in range(size):\n",
    "        square[i + di][j + dj] = counter\n",
    "        counter += 1\n",
    "        di -= 1\n",
    "    dj += 1\n",
    "\n",
    "for j in range(size // 2):\n",
    "    for i in range(2 * size - 1):\n",
    "        square[i][j - (size // 2) *\n",
    "                  2] = square[i][j] or square[i][j - (size // 2) * 2]\n",
    "        square[i][j] = 0\n",
    "        square[i][j + (size // 2)] = square[i][j - (size // 2)\n",
    "                                               ] or square[i][j + (size // 2)]\n",
    "        square[i][j - (size // 2)] = 0\n",
    "        square[j - (size // 2) * 2][i] = square[j][i] or square[j -\n",
    "                                                                (size // 2) * 2][i]\n",
    "        square[j][i] = 0\n",
    "        square[j + (size // 2)][i] = square[j - (size // 2)\n",
    "                                            ][i] or square[j + (size // 2)][i]\n",
    "        square[j - (size // 2)][i] = 0\n",
    "\n",
    "square = [square[i][size // 2: 2 * size - 1 - size // 2]\n",
    "          for i in range(size // 2, 2 * size - 1 - size // 2)]\n",
    "\n",
    "s = 0\n",
    "for row in square:\n",
    "    s = max([s, max([len(str(i)) for i in row])])\n",
    "for row in square:\n",
    "    print(*[str(i).ljust(s) for i in row])\n",
    "    # динамически изменять ljust  в зависимости от размера чисел"
   ]
  },
  {
   "cell_type": "code",
   "execution_count": null,
   "metadata": {},
   "outputs": [],
   "source": [
    "# для нечётного n \n",
    "def generate_magic_square(n):\n",
    "    if n % 2 == 0:\n",
    "        raise ValueError(\"Размерность квадрата должна быть нечетной\")\n",
    "\n",
    "    magic_square = [[0] * n for _ in range(n)]\n",
    "\n",
    "    row, col = 0, n // 2\n",
    "    num = 1\n",
    "\n",
    "    while num <= n * n:\n",
    "        magic_square[row][col] = num\n",
    "        num += 1\n",
    "\n",
    "        new_row, new_col = (row - 1) % n, (col + 1) % n\n",
    "\n",
    "        if magic_square[new_row][new_col] != 0:\n",
    "            row = (row + 1) % n\n",
    "        else:\n",
    "            row, col = new_row, new_col\n",
    "\n",
    "    return magic_square\n",
    "\n",
    "\n",
    "def print_magic_square(square):\n",
    "    s = 0\n",
    "    for row in square:\n",
    "        s = max([s, max([len(str(i)) for i in row])]) \n",
    "    for row in square:\n",
    "        print(*[str(i).ljust(s) for i in row])\n",
    "        # динамически изменять ljust  в зависимости от размера чисел\n",
    "\n",
    "\n",
    "# Пример использования\n",
    "n = 3  # Размерность квадрата\n",
    "magic_square = generate_magic_square(n)\n",
    "print_magic_square(magic_square)"
   ]
  },
  {
   "cell_type": "code",
   "execution_count": null,
   "metadata": {},
   "outputs": [],
   "source": [
    "# для чётно-чётного n  (кратного 4)\n",
    "def generate_even_magic_square(n):\n",
    "    if n % 4 != 0:\n",
    "        raise ValueError(\"Размерность квадрата должна быть кратной 4\")\n",
    "\n",
    "    magic_square = [[0] * n for _ in range(n)]\n",
    "\n",
    "    num = 1\n",
    "    for row in range(n):\n",
    "        for col in range(n):\n",
    "            magic_square[row][col] = num\n",
    "            num += 1\n",
    "\n",
    "    # Переставляем значения в углах\n",
    "    for row in range(0, n, 4):\n",
    "        for col in range(0, n, 4):\n",
    "            magic_square[row][col], magic_square[row + 2][col +\n",
    "                                                          2] = magic_square[row + 2][col + 2], magic_square[row][col]\n",
    "            magic_square[row][col + 2], magic_square[row +\n",
    "                                                     2][col] = magic_square[row + 2][col], magic_square[row][col + 2]\n",
    "\n",
    "    return magic_square\n",
    "\n",
    "\n",
    "def print_magic_square(square):\n",
    "    s = 0\n",
    "    for row in square:\n",
    "        s = max([s, max([len(str(i)) for i in row])])\n",
    "    for row in square:\n",
    "        print(*[str(i).ljust(s) for i in row])\n",
    "        # динамически изменять ljust  в зависимости от размера чисел\n",
    "\n",
    "\n",
    "# Пример использования для 4x4 квадрата\n",
    "n = 4\n",
    "magic_square = generate_even_magic_square(n)\n",
    "print_magic_square(magic_square)"
   ]
  },
  {
   "cell_type": "markdown",
   "metadata": {},
   "source": [
    "### functools"
   ]
  },
  {
   "cell_type": "code",
   "execution_count": 1,
   "metadata": {},
   "outputs": [
    {
     "name": "stdout",
     "output_type": "stream",
     "text": [
      "2424858401169875856987549316530261243529336396354700842715749979460646110058233651782392648030625575890603295838549136086203631494904372698578181999057212055535785846413969420066573092861481554378165635499319577948946469878800693106187103360224139995239288292467274991657581799887960732860730465294056429604010675825650845592134295845654185424392132561718318353026455262912039002664120813132000602020151818744862796534620281615341820385425346251471878908201301227337883132211649086124629581129201309548248991126780745470297556208250525153383428851713805456555419758707284753260768805845944423382917543868035509410367649517977378961396490420583560768554085728596839435423979501005167390976056828737759722931049053051870481354220566751757226315251920734049093559363656820097662644345104685665152444697669009659982518091310671058073959926600845011866653850725006741331610135998770449096045426206531544154144601729043078225608136613193686346346764203375001081246967670378990121777385901921245133042374777487279240176076181929206652760242551593468206588418766183401939736514661022447416367789422605988204789848476655904174023752533626768590363300938231129606313365312387913130971900390208938471907315110717317435321123464794906710193916413838207147074458529525935478113361841325520841044346267628381902449941524896332350384902526765982148700924154884023605222691782597459599121027544229955922681404443327840648118042191399221650956164672857148227101451532445295161873221075926687151309815858723796054292521542311108190618276056103071140889723197707702368244847779594197140241112042128900654662720100758519336991189420021569389659862373674109453168227154296233208845394442627758282640964050502230911632608683569869755423400072413157317525410032842653580093887735517690412593258359388487289802270353135756659547954667344672901471048389223259683469006995762263469036620522300662493285722212048473141061111827211648276284983691538501299996459350066613212712170474963890532178735800245974574640904674554123815017979113627519922145830691096868313633320304359164703825903963661604335411773033078697699311892617463175229334854531701631075383899708905233041291527887059381689504636267968336033244928031019352467588242769652345533099117594059102256248189810284600657855707971881794779733938869280438373216606816889288287015049782284899585369920877745590840887712363661997881545433844629800189205229597440143179700162824702134957418586285920953284900382720017357876988767296282790084172114532622647998154080918863914038958583660595208167281479883677535909771428614756103440615905873310606657147769597200148222567970379939256596381142850272187439045199365546037482887333248526026065549397730475314476322168067523034600032867511743419691437003992038152628324659432676263448764134014429405489180634364519282138519962363193701386950109467042340571843977537752976341094127822030600936793871334872293490903117072170466054983434825167266916722980296391441044563178977701723309785609111259614474247364528550386532388327264689711775604664427340228901835597557029992960492192464058200400988909295153551200837397817601282679220611104173652358509007521101053095620748168997861050130023817703319787079095235833374426177514286578246903083415169109359323812741314724620593271262917265094024216337214863533448529254632599541703878619604512594846124252613960262726215219134672211844311020666195270036284140614857902974771290503656870984782590335117218368984797972576852801418834170795097602013208317371156612874344638041764532057542786831351076365498540443813006372421380736034740771076764178132559828434447544678633583005046265334346831012385703067191550416222980088761154519553974935287498676582754658553261232252765802371799256016444945115393409561160793126126735836975302341046431089640850574341354122545220831810806852068691732327187184240511538962440151159519314143893886850233861037997459199145386272154940965985357257552760909210073432064000000000000000000000000000000000000000000000000000000000000000000000000000000000000000000000000000000000000000000000000000000000000000000000000000000000000000000000000000000000000000000000000000000000000000000000000000000000000000000000000000000000000000000000000000000000000000000000000000000000000000000000000000000000000000000000000000000000000000000000000000000000000000000000000000\n"
     ]
    },
    {
     "data": {
      "text/plain": [
       "'aabaabcaabaabcd'"
      ]
     },
     "execution_count": 1,
     "metadata": {},
     "output_type": "execute_result"
    }
   ],
   "source": [
    "#  перемножить все в диапазоне \n",
    "import functools\n",
    "# это для примера (проще math.prod)\n",
    "print(functools.reduce(lambda x, y: x*y, range(1, 1559)))\n",
    "\n",
    "# ннннн  книга фергюсон ... шифр ...\n",
    "functools.reduce(lambda x, y: x*2 + y, 'abcd')\n"
   ]
  },
  {
   "cell_type": "markdown",
   "metadata": {},
   "source": [
    "### itertools"
   ]
  },
  {
   "cell_type": "code",
   "execution_count": null,
   "metadata": {},
   "outputs": [],
   "source": [
    "import itertools as it\n",
    "print(list(it.zip_longest('QWER', 'B1LKJ', \"ABFGGTTRT\")))\n",
    "L = list(it.permutations(\"изад\", 2))\n",
    "print(L)\n"
   ]
  },
  {
   "cell_type": "code",
   "execution_count": null,
   "metadata": {},
   "outputs": [],
   "source": [
    "# + логика +\n",
    "print('a', 'b', 'a or b', sep='\\t')\n",
    "print('-'*24)\n",
    "for a, b in it.product((False, True), (False, True)):\n",
    "    print(a, b, a or b, sep='\\t')\n",
    "\n",
    "print()\n",
    "\n",
    "print('a', 'not a', sep='\\t')\n",
    "print('-'*24)\n",
    "for a in True, False:\n",
    "    print(a, not a, sep='\\t')\n"
   ]
  },
  {
   "cell_type": "code",
   "execution_count": null,
   "metadata": {},
   "outputs": [],
   "source": [
    "x = 0b1100      # двоичные числа\n",
    "y = 0b1010\n",
    "print(x & y)    # И                побитовые операторы\n",
    "print(x | y)    # ИЛИ\n",
    "print(x ^ y)    # ИЛИ/ИЛИ\n",
    "print(~x)       # НЕ\n"
   ]
  },
  {
   "cell_type": "code",
   "execution_count": null,
   "metadata": {},
   "outputs": [],
   "source": [
    "type(round(10.25))"
   ]
  },
  {
   "cell_type": "code",
   "execution_count": null,
   "metadata": {},
   "outputs": [],
   "source": [
    "from fractions import Fraction        # ((  тип фракцион  -  рациональная дробь ))\n",
    "from decimal import Decimal \n",
    "\n",
    "print(Fraction(2.25))      # вывод  Fraction(9, 4)        \n",
    "print(Fraction(18,348))    #  по возможности дробь сокращается\n",
    "\n",
    "print(Fraction('  3/4  '))   # др типы в (рац) дробь \n",
    "print(Fraction('1.2e+5'))\n",
    "print(Fraction('1.5'))\n",
    "print(Decimal('1.5'))       # др типы в (рац) десятичное число \n",
    "print(Fraction(Decimal('1.5')))  # др типы в дробь "
   ]
  },
  {
   "cell_type": "code",
   "execution_count": null,
   "metadata": {},
   "outputs": [],
   "source": []
  },
  {
   "cell_type": "markdown",
   "metadata": {},
   "source": [
    "###  ещё"
   ]
  },
  {
   "cell_type": "code",
   "execution_count": null,
   "metadata": {},
   "outputs": [],
   "source": [
    "#  ПРОСТОЕ ЛИ \n",
    "def is_prime(num):\n",
    "    if num == 1:\n",
    "        return False\n",
    "    for i in range(2, int(num**0.5)+1):\n",
    "        if num % i == 0:\n",
    "            return False\n",
    "    return True\n",
    "\n",
    "\n",
    "is_prime(5)"
   ]
  },
  {
   "cell_type": "code",
   "execution_count": null,
   "metadata": {},
   "outputs": [],
   "source": [
    "#  -----    достаточно ли сложный пароль?\n",
    "def is_password_good(password):\n",
    "    pas = password\n",
    "    if len(pas) >= 8 and pas != pas.upper() and pas != pas.lower() and any([i.isdigit() for i in pas]):\n",
    "        return True\n",
    "    return False\n",
    "\n",
    "\n",
    "is_password_good('მარგაᲚᲣრი111')\n",
    "# 'მარგალური111'.isalnum()        # True  \n"
   ]
  },
  {
   "cell_type": "code",
   "execution_count": null,
   "metadata": {},
   "outputs": [],
   "source": [
    "######    СИСТЕМЫ СЧИСЛЕНИЯ\n",
    "\n",
    "# 1   ИЗ СТРОКИ В ЧИСЛО        из любого (от 2 до 36)  в десятичный вид\n",
    "print(int('111111', 2))  # 63\n",
    "print(int('1AF2', 16))   # 6898\n",
    "print(int('ZZZ', 36))    # 46655       36 самая большая    на py\n",
    "print()\n",
    "\n",
    "\n",
    "# 2   ИЗ ЧИСЛА В СТРОКУ (почти число ) )         из десятичной в 2, 8, 16\n",
    "print(bin(777))                                         #      x = 0b1100      двоичные числа      \n",
    "print(oct(8453))                                         #      x = 0o327         восьмеричные числа \n",
    "print(hex(127))\n",
    "print(float.hex(643.))        #     x = 0xff        шестнадцатеричные числа \n",
    "print(int(bin(777),2) + int(bin(777),2))\n",
    "print()\n",
    "\n",
    "###  ЧИСЛА          использовать числа в др системе     просто\n",
    "print(0x1100 + 0o1100 * 0b10011 / int('2102121', 3) - int('ZA4', 36))\n",
    "print()\n",
    "\n",
    "\n",
    "# 3   ИЗ ЧИСЛА В СТРОКУ (в оформлении)         из десятичной в 2, 8, 16   + ниже ф-ция для других\n",
    "# {:#X} {:#x}  шестнадцатеричное с префиксом \"0x\"  {:X} {:x} без префа     {:#b}  двоичный с префиксом \"0b\"   {:b}  без префа      {:#o} {:o}\n",
    "print(f'{865315:#o}')\n",
    "\n",
    "### ПЕРЕВОД ЧИСЛА ИЗ ДЕСЯТИЧНОЙ В ДРУГУЮ СИСТЕМУ СЧИСЛЕНИЯ \n",
    "# в виде строки     base > 36   \n",
    "# СДЕЛАТЬ ??? ф-цию  для    base  > 36    ннннн\n",
    "# ещё для отриц ?  float  ... ... ... \n",
    "def my_convert(num: int, base: int) -> str:\n",
    "    en_letters = 'ABCDEFGHIJKLMNOPQRSTUVWXYZ'\n",
    "    res = ''\n",
    "    while num:\n",
    "        num, last = divmod(num, base)\n",
    "        if last>9: last=en_letters[last-10]\n",
    "        res += str(last)\n",
    "    return f'{res[::-1]}(base{base})'\n",
    "\n",
    "\n",
    "print(my_convert(5173, 36))\n",
    "\n",
    "# а ИЗ СТРОКИ В СТРОКУ ???      хаха "
   ]
  },
  {
   "cell_type": "code",
   "execution_count": null,
   "metadata": {},
   "outputs": [],
   "source": [
    "import numpy as np\n",
    "\n",
    "A = np.array([[1, 2], [3, 4]])\n",
    "B = np.array([[5, 6], [7, 8]])\n",
    "\n",
    "result = A @ B  # для операции матричного умножения\n",
    "print(result)"
   ]
  },
  {
   "cell_type": "code",
   "execution_count": null,
   "metadata": {},
   "outputs": [],
   "source": [
    "# ПОВОРОТ МАТРИЦЫ ПО ЧАСОВОЙ \n",
    "# 90,    (180, 270 градусов  ??)\n",
    "\n",
    "matrix = [[1, 2, 3], [4, 5, 6], [7, 8, 9]]\n",
    "n = len(matrix)\n",
    "result = [[0] * n for _ in range(n)]\n",
    "\n",
    "for i in range(n):\n",
    "    for j in range(n):\n",
    "        result[i][j] = matrix[n - j - 1][i]\n",
    "\n",
    "for row in result:\n",
    "    print(*row)"
   ]
  }
 ],
 "metadata": {
  "kernelspec": {
   "display_name": "Python 3",
   "language": "python",
   "name": "python3"
  },
  "language_info": {
   "codemirror_mode": {
    "name": "ipython",
    "version": 3
   },
   "file_extension": ".py",
   "mimetype": "text/x-python",
   "name": "python",
   "nbconvert_exporter": "python",
   "pygments_lexer": "ipython3",
   "version": "3.12.2"
  }
 },
 "nbformat": 4,
 "nbformat_minor": 2
}
